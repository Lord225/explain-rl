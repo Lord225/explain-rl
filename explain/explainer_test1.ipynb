{
 "cells": [
  {
   "cell_type": "code",
   "execution_count": 2,
   "metadata": {},
   "outputs": [
    {
     "name": "stderr",
     "output_type": "stream",
     "text": [
      "2025-03-27 00:59:16.439840: E external/local_xla/xla/stream_executor/cuda/cuda_dnn.cc:9261] Unable to register cuDNN factory: Attempting to register factory for plugin cuDNN when one has already been registered\n",
      "2025-03-27 00:59:16.439885: E external/local_xla/xla/stream_executor/cuda/cuda_fft.cc:607] Unable to register cuFFT factory: Attempting to register factory for plugin cuFFT when one has already been registered\n",
      "2025-03-27 00:59:16.441249: E external/local_xla/xla/stream_executor/cuda/cuda_blas.cc:1515] Unable to register cuBLAS factory: Attempting to register factory for plugin cuBLAS when one has already been registered\n",
      "2025-03-27 00:59:16.447464: I tensorflow/core/platform/cpu_feature_guard.cc:182] This TensorFlow binary is optimized to use available CPU instructions in performance-critical operations.\n",
      "To enable the following instructions: AVX2 FMA, in other operations, rebuild TensorFlow with the appropriate compiler flags.\n",
      "2025-03-27 00:59:17.057712: W tensorflow/compiler/tf2tensorrt/utils/py_utils.cc:38] TF-TRT Warning: Could not find TensorRT\n"
     ]
    },
    {
     "name": "stdout",
     "output_type": "stream",
     "text": [
      "building procgen...done\n",
      "== CURRENT SYSTEM INFO ==\n",
      "- OS: Linux-5.15.167.4-microsoft-standard-WSL2-x86_64-with-glibc2.39 # 1 SMP Tue Nov 5 00:21:55 UTC 2024\n",
      "- Python: 3.9.21\n",
      "- Stable-Baselines3: 2.5.0\n",
      "- PyTorch: 2.6.0+cu124\n",
      "- GPU Enabled: True\n",
      "- Numpy: 1.26.4\n",
      "- Cloudpickle: 1.2.2\n",
      "- Gymnasium: 1.0.0\n",
      "- OpenAI Gym: 0.15.7\n",
      "\n",
      "== SAVED MODEL SYSTEM INFO ==\n",
      "- OS: Linux-5.15.167.4-microsoft-standard-WSL2-x86_64-with-glibc2.39 # 1 SMP Tue Nov 5 00:21:55 UTC 2024\n",
      "- Python: 3.9.21\n",
      "- Stable-Baselines3: 2.5.0\n",
      "- PyTorch: 2.6.0+cu124\n",
      "- GPU Enabled: True\n",
      "- Numpy: 1.26.4\n",
      "- Cloudpickle: 1.2.2\n",
      "- Gymnasium: 1.0.0\n",
      "- OpenAI Gym: 0.15.7\n",
      "\n",
      "Wrapping the env with a `Monitor` wrapper\n",
      "Wrapping the env in a DummyVecEnv.\n",
      "Wrapping the env in a VecTransposeImage.\n",
      "(10000, 64, 64, 9)\n"
     ]
    }
   ],
   "source": [
    "import torch as th\n",
    "import torch.nn as nn\n",
    "import torch.nn.functional as F\n",
    "import sys\n",
    "import os\n",
    "import h5py\n",
    "import numpy as np\n",
    "\n",
    "from vit_pytorch import ViT\n",
    "\n",
    "sys.path.append(\"/home/lord225/pyrepos/explain-rl\")\n",
    "\n",
    "from ppo import PPO\n",
    "import procgenwrapper\n",
    "\n",
    "\n",
    "MODEL_PATH = \"/home/lord225/pyrepos/explain-rl/preserve\"\n",
    "DATA_PATH = \"/home/lord225/pyrepos/explain-rl/explain/records\"\n",
    "\n",
    "MODEL_NAME = \"20250319-212023-ParentKnowShake_29_v3.1\"\n",
    "\n",
    "MODEL_PATH = os.path.join(MODEL_PATH, MODEL_NAME)\n",
    "DATA_PATH = os.path.join(DATA_PATH, MODEL_NAME+\"_replay.h5\")\n",
    "\n",
    "\n",
    "venv = procgenwrapper.ProcGenWrapper(\"starpilot\", human=False, collect_seg=True)\n",
    "\n",
    "\n",
    "model = PPO.load(MODEL_PATH, \n",
    "                 env=venv, \n",
    "                 print_system_info=True,\n",
    "                 custom_objects={\n",
    "                     \"ViT\":ViT,\n",
    "                 })\n",
    "\n",
    "# f.create_dataset(\"observations\", data=np.array(observations, dtype=np.uint8))\n",
    "# f.create_dataset(\"actions\", data=np.array(actions))\n",
    "# f.create_dataset(\"rewards\", data=np.array(rewards))\n",
    "# f.create_dataset(\"dones\", data=np.array(dones))\n",
    "# f.create_dataset(\"seg_observations\", data=np.array(seg_observations, dtype=np.uint8))\n",
    "# f.create_dataset(\"next_observations\", data=np.array(next_observations, dtype=np.uint8))\n",
    "\n",
    "dataset = h5py.File(DATA_PATH, \"r\")\n",
    "\n",
    "observations = np.array(dataset[\"observations\"])\n",
    "actions = np.array(dataset[\"actions\"])\n",
    "rewards = np.array(dataset[\"rewards\"])\n",
    "dones = np.array(dataset[\"dones\"])\n",
    "seg_observations = np.array(dataset[\"seg_observations\"])\n",
    "next_observations = np.array(dataset[\"next_observations\"])\n",
    "\n",
    "dataset.close() \n",
    "\n",
    "print(observations.shape)"
   ]
  },
  {
   "cell_type": "code",
   "execution_count": 3,
   "metadata": {},
   "outputs": [
    {
     "data": {
      "image/png": "[encoded data removed]",
      "text/plain": [
       "<Figure size 1000x500 with 2 Axes>"
      ]
     },
     "metadata": {},
     "output_type": "display_data"
    }
   ],
   "source": [
    "import matplotlib.pyplot as plt\n",
    "\n",
    "def get_img(obs):\n",
    "    return obs[:, :, 6:9]\n",
    "\n",
    "ax, fig = plt.subplots(1, 2, figsize=(10, 5))\n",
    "\n",
    "fig[0].imshow(get_img(observations[120]))\n",
    "fig[1].imshow(seg_observations[120])\n",
    "\n",
    "plt.show()"
   ]
  },
  {
   "cell_type": "code",
   "execution_count": 4,
   "metadata": {},
   "outputs": [],
   "source": [
    "import imageio\n",
    "import tqdm\n",
    "\n",
    "def create_gif(observations, seg_observations, filename='segments.gif', duration=0.1):\n",
    "    frames = []\n",
    "    for i in tqdm.tqdm(range(len(observations))):\n",
    "        fig, ax = plt.subplots(1, 2, figsize=(10, 5))\n",
    "        ax[0].imshow(get_img(observations[i]))\n",
    "        ax[1].imshow(seg_observations[i])\n",
    "        plt.close(fig)\n",
    "        \n",
    "        fig.canvas.draw()\n",
    "        image = np.frombuffer(fig.canvas.buffer_rgba(), dtype='uint8')\n",
    "        image = image.reshape(fig.canvas.get_width_height()[::-1] + (4,))\n",
    "        frames.append(image)\n",
    "    \n",
    "    # Save the frames as a gif\n",
    "    imageio.mimsave(filename, frames, duration=duration, loop=0)\n",
    "\n",
    "filename = \"segments.gif\"\n",
    "if not os.path.exists(filename):\n",
    "    create_gif(observations[:300], seg_observations[:300], filename=filename, duration=0.1)"
   ]
  },
  {
   "cell_type": "code",
   "execution_count": 5,
   "metadata": {},
   "outputs": [
    {
     "data": {
      "text/plain": [
       "CustomActorCriticPolicy(\n",
       "  (features_extractor): FlattenExtractor(\n",
       "    (flatten): Flatten(start_dim=1, end_dim=-1)\n",
       "  )\n",
       "  (pi_features_extractor): FlattenExtractor(\n",
       "    (flatten): Flatten(start_dim=1, end_dim=-1)\n",
       "  )\n",
       "  (vf_features_extractor): FlattenExtractor(\n",
       "    (flatten): Flatten(start_dim=1, end_dim=-1)\n",
       "  )\n",
       "  (mlp_extractor): CustomNetwork(\n",
       "    (policy_net): Sequential(\n",
       "      (0): Unflatten(dim=1, unflattened_size=(9, 64, 64))\n",
       "      (1): ViT(\n",
       "        (to_patch_embedding): Sequential(\n",
       "          (0): Rearrange('b c (h p1) (w p2) -> b (h w) (p1 p2 c)', p1=4, p2=4)\n",
       "          (1): LayerNorm((144,), eps=1e-05, elementwise_affine=True)\n",
       "          (2): Linear(in_features=144, out_features=64, bias=True)\n",
       "          (3): LayerNorm((64,), eps=1e-05, elementwise_affine=True)\n",
       "        )\n",
       "        (dropout): Dropout(p=0.1, inplace=False)\n",
       "        (transformer): Transformer(\n",
       "          (norm): LayerNorm((64,), eps=1e-05, elementwise_affine=True)\n",
       "          (layers): ModuleList(\n",
       "            (0-3): 4 x ModuleList(\n",
       "              (0): Attention(\n",
       "                (norm): LayerNorm((64,), eps=1e-05, elementwise_affine=True)\n",
       "                (attend): Softmax(dim=-1)\n",
       "                (dropout): Dropout(p=0.1, inplace=False)\n",
       "                (to_qkv): Linear(in_features=64, out_features=768, bias=False)\n",
       "                (to_out): Sequential(\n",
       "                  (0): Linear(in_features=256, out_features=64, bias=True)\n",
       "                  (1): Dropout(p=0.1, inplace=False)\n",
       "                )\n",
       "              )\n",
       "              (1): FeedForward(\n",
       "                (net): Sequential(\n",
       "                  (0): LayerNorm((64,), eps=1e-05, elementwise_affine=True)\n",
       "                  (1): Linear(in_features=64, out_features=128, bias=True)\n",
       "                  (2): GELU(approximate='none')\n",
       "                  (3): Dropout(p=0.1, inplace=False)\n",
       "                  (4): Linear(in_features=128, out_features=64, bias=True)\n",
       "                  (5): Dropout(p=0.1, inplace=False)\n",
       "                )\n",
       "              )\n",
       "            )\n",
       "          )\n",
       "        )\n",
       "        (to_latent): Identity()\n",
       "        (mlp_head): Linear(in_features=64, out_features=64, bias=True)\n",
       "      )\n",
       "    )\n",
       "    (value_net): Sequential(\n",
       "      (0): Unflatten(dim=1, unflattened_size=(9, 64, 64))\n",
       "      (1): Conv2d(9, 32, kernel_size=(8, 8), stride=(4, 4))\n",
       "      (2): ReLU()\n",
       "      (3): Conv2d(32, 32, kernel_size=(4, 4), stride=(2, 2))\n",
       "      (4): ReLU()\n",
       "      (5): Conv2d(32, 32, kernel_size=(3, 3), stride=(1, 1))\n",
       "      (6): ReLU()\n",
       "      (7): Conv2d(32, 32, kernel_size=(2, 2), stride=(1, 1))\n",
       "      (8): ReLU()\n",
       "      (9): Conv2d(32, 32, kernel_size=(2, 2), stride=(1, 1))\n",
       "      (10): ReLU()\n",
       "      (11): Flatten(start_dim=1, end_dim=-1)\n",
       "      (12): Linear(in_features=128, out_features=64, bias=True)\n",
       "    )\n",
       "  )\n",
       "  (action_net): Linear(in_features=64, out_features=15, bias=True)\n",
       "  (value_net): Linear(in_features=64, out_features=1, bias=True)\n",
       ")"
      ]
     },
     "execution_count": 5,
     "metadata": {},
     "output_type": "execute_result"
    }
   ],
   "source": [
    "net = model.policy\n",
    "\n",
    "net"
   ]
  },
  {
   "cell_type": "code",
   "execution_count": 6,
   "metadata": {},
   "outputs": [
    {
     "name": "stdout",
     "output_type": "stream",
     "text": [
      "torch.Size([1, 64]) torch.Size([1, 64])\n"
     ]
    }
   ],
   "source": [
    "# Reshape the observations to match the expected input shape\n",
    "obs_tensor = th.tensor(observations[:1].reshape((1, -1)), dtype=th.float32, device=net.device)\n",
    "\n",
    "# Pass the tensor through the action_net\n",
    "features_a, features_b = net.mlp_extractor(obs_tensor)\n",
    "\n",
    "print(features_a.shape, features_b.shape)"
   ]
  },
  {
   "cell_type": "code",
   "execution_count": 7,
   "metadata": {},
   "outputs": [
    {
     "name": "stdout",
     "output_type": "stream",
     "text": [
      "torch.Size([1, 15])\n"
     ]
    }
   ],
   "source": [
    "# Get the action logits\n",
    "action_logits = net.action_net(features_a)\n",
    "\n",
    "print(action_logits.shape)"
   ]
  },
  {
   "cell_type": "code",
   "execution_count": 8,
   "metadata": {},
   "outputs": [
    {
     "data": {
      "text/plain": [
       "Sequential(\n",
       "  (0): Unflatten(dim=1, unflattened_size=(9, 64, 64))\n",
       "  (1): ViT(\n",
       "    (to_patch_embedding): Sequential(\n",
       "      (0): Rearrange('b c (h p1) (w p2) -> b (h w) (p1 p2 c)', p1=4, p2=4)\n",
       "      (1): LayerNorm((144,), eps=1e-05, elementwise_affine=True)\n",
       "      (2): Linear(in_features=144, out_features=64, bias=True)\n",
       "      (3): LayerNorm((64,), eps=1e-05, elementwise_affine=True)\n",
       "    )\n",
       "    (dropout): Dropout(p=0.1, inplace=False)\n",
       "    (transformer): Transformer(\n",
       "      (norm): LayerNorm((64,), eps=1e-05, elementwise_affine=True)\n",
       "      (layers): ModuleList(\n",
       "        (0-3): 4 x ModuleList(\n",
       "          (0): Attention(\n",
       "            (norm): LayerNorm((64,), eps=1e-05, elementwise_affine=True)\n",
       "            (attend): Softmax(dim=-1)\n",
       "            (dropout): Dropout(p=0.1, inplace=False)\n",
       "            (to_qkv): Linear(in_features=64, out_features=768, bias=False)\n",
       "            (to_out): Sequential(\n",
       "              (0): Linear(in_features=256, out_features=64, bias=True)\n",
       "              (1): Dropout(p=0.1, inplace=False)\n",
       "            )\n",
       "          )\n",
       "          (1): FeedForward(\n",
       "            (net): Sequential(\n",
       "              (0): LayerNorm((64,), eps=1e-05, elementwise_affine=True)\n",
       "              (1): Linear(in_features=64, out_features=128, bias=True)\n",
       "              (2): GELU(approximate='none')\n",
       "              (3): Dropout(p=0.1, inplace=False)\n",
       "              (4): Linear(in_features=128, out_features=64, bias=True)\n",
       "              (5): Dropout(p=0.1, inplace=False)\n",
       "            )\n",
       "          )\n",
       "        )\n",
       "      )\n",
       "    )\n",
       "    (to_latent): Identity()\n",
       "    (mlp_head): Linear(in_features=64, out_features=64, bias=True)\n",
       "  )\n",
       ")"
      ]
     },
     "execution_count": 8,
     "metadata": {},
     "output_type": "execute_result"
    }
   ],
   "source": [
    "vit = net.mlp_extractor.policy_net\n",
    "vit"
   ]
  },
  {
   "cell_type": "code",
   "execution_count": 9,
   "metadata": {},
   "outputs": [
    {
     "data": {
      "text/plain": [
       "(1, 64, 64, 9)"
      ]
     },
     "execution_count": 9,
     "metadata": {},
     "output_type": "execute_result"
    }
   ],
   "source": [
    "observations[:1].shape"
   ]
  },
  {
   "cell_type": "code",
   "execution_count": 10,
   "metadata": {},
   "outputs": [
    {
     "data": {
      "text/plain": [
       "tensor([[-2.8626e+00, -1.4769e-01,  3.8392e-01, -8.3413e-01, -2.9610e+00,\n",
       "         -1.7533e-01,  4.9981e-01, -3.6208e-01,  6.5037e+00, -8.0337e-02,\n",
       "         -1.5019e-01,  5.4308e-01,  5.0760e-01,  6.5799e-01,  2.0892e-01,\n",
       "          1.5013e+00, -1.5202e+00, -3.4248e-01,  4.1970e+00, -4.5828e+00,\n",
       "         -6.0364e-01, -2.1284e-01, -1.7538e-01,  4.1643e-01,  5.2672e-01,\n",
       "         -9.0791e-02,  3.1170e+00,  5.6978e-01,  1.7519e+00, -1.3222e-02,\n",
       "          1.0025e+00, -2.3834e+00, -3.3474e-01, -2.3379e-01,  1.6545e+00,\n",
       "          4.7164e-01, -7.3336e-02, -2.0005e-02,  7.8986e-02,  5.2757e-01,\n",
       "         -6.8396e-02, -4.0401e-01, -1.1610e-02,  3.5772e+00, -1.1486e+00,\n",
       "         -1.2698e+00, -1.5885e+00, -2.1150e-01, -2.8384e-01, -9.8746e-02,\n",
       "          4.9602e-01,  6.3993e+00, -1.1097e-02,  1.6435e+00,  1.4692e-01,\n",
       "         -3.7476e-01, -4.2927e-01, -1.0022e+00, -2.2119e-02,  4.6049e-03,\n",
       "          3.8823e-01,  6.4600e-01,  2.3060e+00,  3.1586e-01]],\n",
       "       grad_fn=<AddmmBackward0>)"
      ]
     },
     "execution_count": 10,
     "metadata": {},
     "output_type": "execute_result"
    }
   ],
   "source": [
    "vit = net.mlp_extractor.policy_net[1].cpu()\n",
    "action_net = net.action_net.cpu()\n",
    "\n",
    "vit(th.tensor(observations[:1]).permute(0, 3, 1, 2).float().cpu())"
   ]
  },
  {
   "cell_type": "code",
   "execution_count": 11,
   "metadata": {},
   "outputs": [],
   "source": [
    "vrobas = action_net(vit(th.tensor(observations[:1]).permute(0, 3, 1, 2).float().cpu()))"
   ]
  },
  {
   "cell_type": "code",
   "execution_count": 12,
   "metadata": {},
   "outputs": [],
   "source": [
    "from vit_pytorch.extractor import Extractor\n",
    "from vit_pytorch.recorder import Recorder\n",
    "\n",
    "extractor = Extractor(vit).cpu()\n",
    "recorder = Recorder(vit).cpu()"
   ]
  },
  {
   "cell_type": "markdown",
   "metadata": {},
   "source": [
    "# Emdedding"
   ]
  },
  {
   "cell_type": "code",
   "execution_count": 13,
   "metadata": {},
   "outputs": [
    {
     "data": {
      "text/plain": [
       "(torch.Size([1, 64]), torch.Size([1, 257, 64]))"
      ]
     },
     "execution_count": 13,
     "metadata": {},
     "output_type": "execute_result"
    }
   ],
   "source": [
    "probas, extracted = extractor(th.tensor(observations[:1]).permute(0, 3, 1, 2).float().cpu())\n",
    "\n",
    "probas.shape, extracted.shape"
   ]
  },
  {
   "cell_type": "markdown",
   "metadata": {},
   "source": [
    "# Attention"
   ]
  },
  {
   "cell_type": "code",
   "execution_count": 14,
   "metadata": {},
   "outputs": [
    {
     "data": {
      "text/plain": [
       "(torch.Size([1, 64]), torch.Size([1, 4, 4, 257, 257]))"
      ]
     },
     "execution_count": 14,
     "metadata": {},
     "output_type": "execute_result"
    }
   ],
   "source": [
    "probas, attention = recorder(th.tensor(observations[:1]).permute(0, 3, 1, 2).float().cpu())\n",
    "\n",
    "probas.shape, attention.shape"
   ]
  },
  {
   "cell_type": "code",
   "execution_count": 15,
   "metadata": {},
   "outputs": [],
   "source": [
    "import cv2\n",
    "def attention_map(attention, image):\n",
    "    # avg attention over heads\n",
    "    attention = np.array(attention).mean(axis=1)\n",
    "\n",
    "    grid_size = int(np.sqrt(attention.shape[-1] - 1))\n",
    "    num_layers = attention.shape[0]\n",
    "    num_heads = attention.shape[1]\n",
    "    reshaped = attention.reshape(\n",
    "        (num_layers, num_heads, grid_size**2 + 1, grid_size**2 + 1)\n",
    "    )\n",
    "\n",
    "    # From Appendix D.6 in the paper ...\n",
    "    # Average the attention weights across all heads.\n",
    "    reshaped = reshaped.mean(axis=1)\n",
    "\n",
    "    # From Section 3 in https://arxiv.org/pdf/2005.00928.pdf ...\n",
    "    # To account for residual connections, we add an identity matrix to the\n",
    "    # attention matrix and re-normalize the weights.\n",
    "    reshaped = reshaped + np.eye(reshaped.shape[1])\n",
    "    reshaped = reshaped / reshaped.sum(axis=(1, 2))[:, np.newaxis, np.newaxis]\n",
    "\n",
    "    # Recursively multiply the weight matrices\n",
    "    v = reshaped[-1]\n",
    "    for n in range(1, len(reshaped)):\n",
    "        v = np.matmul(v, reshaped[-1 - n])\n",
    "\n",
    "    # Attention from the output token to the input space.\n",
    "    mask = v[0, 1:].reshape(grid_size, grid_size)\n",
    "    mask = mask / mask.max()\n",
    "    return mask"
   ]
  },
  {
   "cell_type": "code",
   "execution_count": 16,
   "metadata": {},
   "outputs": [
    {
     "data": {
      "image/png": "[encoded data removed]",
      "text/plain": [
       "<Figure size 1000x500 with 2 Axes>"
      ]
     },
     "metadata": {},
     "output_type": "display_data"
    }
   ],
   "source": [
    "recorder = recorder.cpu()\n",
    "frame = 304\n",
    "\n",
    "obs = th.tensor(observations[frame]).reshape(-1, 64, 64, 9).permute(0, 3, 1, 2).float().cpu()\n",
    "\n",
    "probas, attention = recorder(obs)\n",
    "\n",
    "map = attention_map(attention.cpu().detach().numpy(), observations[frame])\n",
    "\n",
    "# plot both\n",
    "fig, ax = plt.subplots(1, 2, figsize=(10, 5))\n",
    "ax[0].imshow(get_img(observations[frame]))\n",
    "ax[1].imshow(map)\n",
    "\n",
    "plt.show()"
   ]
  },
  {
   "cell_type": "code",
   "execution_count": 17,
   "metadata": {},
   "outputs": [],
   "source": [
    "def generate_attention_gif(observations, filename='attention.gif', duration=0.1):\n",
    "    frames = []\n",
    "    for i in tqdm.tqdm(range(len(observations))):\n",
    "        obs = th.tensor(observations[i]).reshape(-1, 64, 64, 9).permute(0, 3, 1, 2).float().cpu()\n",
    "        probas, attention = recorder(obs)\n",
    "        map = attention_map(attention.cpu().detach().numpy(), observations[i])\n",
    "        \n",
    "        fig, ax = plt.subplots(1, 2, figsize=(10, 5))\n",
    "        ax[0].imshow(get_img(observations[i]))\n",
    "        ax[1].imshow(map)\n",
    "        plt.close(fig)\n",
    "        \n",
    "        fig.canvas.draw()\n",
    "        image = np.frombuffer(fig.canvas.buffer_rgba(), dtype='uint8')\n",
    "        image = image.reshape(fig.canvas.get_width_height()[::-1] + (4,))\n",
    "        frames.append(image)\n",
    "    \n",
    "    # Save the frames as a gif\n",
    "    imageio.mimsave(filename, frames, duration=duration, loop=0)\n",
    "\n",
    "filename = \"attention.gif\"\n",
    "if not os.path.exists(filename):\n",
    "    generate_attention_gif(observations[:300], filename=filename)"
   ]
  },
  {
   "cell_type": "code",
   "execution_count": 18,
   "metadata": {},
   "outputs": [],
   "source": [
    "th.cuda.empty_cache()\n",
    "\n",
    "# # calculate attention and extract features for all observations\n",
    "# batch_size = 1\n",
    "# attention_list = []\n",
    "\n",
    "# recorder = recorder.cpu()\n",
    "\n",
    "# for i in tqdm.tqdm(range(0, len(observations), batch_size)):\n",
    "#     batch = th.tensor(observations[i:i+batch_size], device=\"cpu\").permute(0, 3, 1, 2).float().cpu()\n",
    "#     probas, attention = recorder(batch)\n",
    "#     map = attention_map(attention.cpu().detach().numpy(), observations[i])\n",
    "#     attention_list.append(map)\n",
    "\n",
    "#     del batch\n",
    "#     del probas\n",
    "#     del attention\n",
    "    \n",
    "# attention_list = np.array(attention_list)"
   ]
  },
  {
   "cell_type": "code",
   "execution_count": 19,
   "metadata": {},
   "outputs": [
    {
     "data": {
      "text/plain": [
       "(10000, 64, 64, 3)"
      ]
     },
     "execution_count": 19,
     "metadata": {},
     "output_type": "execute_result"
    }
   ],
   "source": [
    "seg_observations.shape"
   ]
  },
  {
   "cell_type": "code",
   "execution_count": 20,
   "metadata": {},
   "outputs": [
    {
     "data": {
      "text/plain": [
       "(10000, 64, 64, 1)"
      ]
     },
     "execution_count": 20,
     "metadata": {},
     "output_type": "execute_result"
    }
   ],
   "source": [
    "UNIQUE_COLORS = np.array([(191, 255, 191), (191, 63, 191), (191, 255, 255), (127, 127, 255), (255, 127, 63), (0.0, 0.0, 0.0), (255, 191, 191), (255, 127, 127), (255, 191, 255), (127, 255, 127), (127, 63, 127), (63, 127, 127), (127, 63, 191), (127, 191, 63)], dtype=np.uint8)[np.newaxis]\n",
    "\n",
    "seg_observations_index = np.argmax((seg_observations.reshape(-1, 1, 3) == UNIQUE_COLORS).all(axis=2), axis=1).reshape(seg_observations.shape[0], 64, 64, 1).astype(np.uint8)\n",
    "seg_observations_index.shape"
   ]
  },
  {
   "cell_type": "code",
   "execution_count": 21,
   "metadata": {},
   "outputs": [],
   "source": [
    "DATASET_SIZE = 5_000"
   ]
  },
  {
   "cell_type": "code",
   "execution_count": 22,
   "metadata": {},
   "outputs": [
    {
     "name": "stderr",
     "output_type": "stream",
     "text": [
      "100%|██████████| 5000/5000 [00:56<00:00, 88.39it/s] \n"
     ]
    },
    {
     "data": {
      "text/plain": [
       "(5000, 257, 64)"
      ]
     },
     "execution_count": 22,
     "metadata": {},
     "output_type": "execute_result"
    }
   ],
   "source": [
    "# calculate features using extractor\n",
    "extractor = extractor.cpu()\n",
    "batch_size = 1\n",
    "features_list = []\n",
    "\n",
    "for i in tqdm.tqdm(range(0, DATASET_SIZE, batch_size)):\n",
    "    batch = th.tensor(observations[i:i+batch_size], device=\"cpu\").permute(0, 3, 1, 2).float().cpu()\n",
    "    probs, features = extractor(batch)\n",
    "    features_list.append(features.detach().numpy())\n",
    "\n",
    "    del batch\n",
    "    del features\n",
    "\n",
    "features_list = np.array(features_list).squeeze()\n",
    "\n",
    "features_list.shape"
   ]
  },
  {
   "cell_type": "code",
   "execution_count": 23,
   "metadata": {},
   "outputs": [
    {
     "data": {
      "text/plain": [
       "(5000, 16, 16, 64)"
      ]
     },
     "execution_count": 23,
     "metadata": {},
     "output_type": "execute_result"
    }
   ],
   "source": [
    "# (N, 257, 64) -> (N, 16, 16, 64) and cls token removed\n",
    "features_list = features_list[:, 1:].reshape(-1, 16, 16, 64)\n",
    "\n",
    "features_list.shape"
   ]
  },
  {
   "cell_type": "code",
   "execution_count": 24,
   "metadata": {},
   "outputs": [
    {
     "data": {
      "text/plain": [
       "(1280000, 64)"
      ]
     },
     "execution_count": 24,
     "metadata": {},
     "output_type": "execute_result"
    }
   ],
   "source": [
    "# features are (1000, 16, 16, 64), but we can flatten them to (1000*16*16, 64)\n",
    "features_list = features_list.reshape(-1, 64)\n",
    "features_list.shape"
   ]
  },
  {
   "cell_type": "code",
   "execution_count": 25,
   "metadata": {},
   "outputs": [
    {
     "data": {
      "text/plain": [
       "array([-0.29100844, -0.24906981,  0.58117634,  0.60312545,  0.29301405,\n",
       "        0.12083489, -0.78355587,  0.04900158,  0.04233849,  0.38917395,\n",
       "       -0.9194979 ,  0.96211797, -0.6918387 ,  0.7392917 , -0.6044501 ,\n",
       "        0.7695453 ,  0.5317141 ,  0.5454258 , -0.32940397, -0.34253132,\n",
       "       -0.7859974 , -0.13165262, -0.3631713 ,  0.6605869 , -0.2717448 ,\n",
       "       -0.7522396 ,  0.5364249 ,  0.20119514, -0.6048635 , -0.7018144 ,\n",
       "        0.7421007 ,  0.39630315,  0.8145605 , -1.090214  ,  0.6578169 ,\n",
       "       -0.24890801,  1.0444858 ,  0.50527763, -0.4119891 , -0.9603286 ,\n",
       "       -0.30278265,  0.9021632 ,  0.2501182 , -0.74756294, -0.94101363,\n",
       "       -0.08050829, -0.24600668, -0.05529638, -1.5230951 ,  0.9481221 ,\n",
       "        0.00558988,  0.72324663, -0.42109427,  1.007476  , -0.02299905,\n",
       "        0.55611527, -0.23677023, -0.40666097,  0.6333565 ,  0.78858423,\n",
       "        1.0137382 ,  0.34761915, -0.6761734 , -0.4445585 ], dtype=float32)"
      ]
     },
     "execution_count": 25,
     "metadata": {},
     "output_type": "execute_result"
    }
   ],
   "source": [
    "features_list[0]"
   ]
  },
  {
   "cell_type": "code",
   "execution_count": 26,
   "metadata": {},
   "outputs": [
    {
     "data": {
      "text/plain": [
       "(10000, 64, 64, 1)"
      ]
     },
     "execution_count": 26,
     "metadata": {},
     "output_type": "execute_result"
    }
   ],
   "source": [
    "seg_observations_index.shape"
   ]
  },
  {
   "cell_type": "code",
   "execution_count": 27,
   "metadata": {},
   "outputs": [
    {
     "name": "stdout",
     "output_type": "stream",
     "text": [
      "(10000, 64, 64, 1)\n"
     ]
    },
    {
     "data": {
      "text/plain": [
       "(10000, 16, 16, 1)"
      ]
     },
     "execution_count": 27,
     "metadata": {},
     "output_type": "execute_result"
    }
   ],
   "source": [
    "# seg_observations_onehot\n",
    "# (1000, 64, 64, 14) -> (1000, 16, 16, 14) -> (1000*16*16, 14)\n",
    "\n",
    "print(seg_observations_index.shape)\n",
    "\n",
    "seg_observations_index_downsample = seg_observations_index\n",
    "#        mono = cv2.resize(mono, (16, 16), interpolation=cv2.INTER_NEAREST)\n",
    "#        mono = np.argmax((mono.reshape(-1, 1, 3) == ProcGenWrapper.UNIQUE_COLORS).all(axis=2), axis=1).reshape(16, 16, 1).astype(np.int32)\n",
    "import cv2\n",
    "\n",
    "seg_observations_index_downsample = np.array([cv2.resize(img, (16, 16), interpolation=cv2.INTER_NEAREST) for img in seg_observations_index]).reshape(-1, 16, 16, 1)\n",
    "\n",
    "seg_observations_index_downsample.shape"
   ]
  },
  {
   "cell_type": "code",
   "execution_count": 28,
   "metadata": {},
   "outputs": [
    {
     "data": {
      "text/plain": [
       "<matplotlib.image.AxesImage at 0x7ff1b87ce370>"
      ]
     },
     "execution_count": 28,
     "metadata": {},
     "output_type": "execute_result"
    },
    {
     "data": {
      "image/png": "[encoded data removed]",
      "text/plain": [
       "<Figure size 640x480 with 1 Axes>"
      ]
     },
     "metadata": {},
     "output_type": "display_data"
    }
   ],
   "source": [
    "plt.imshow(seg_observations_index_downsample[150]) "
   ]
  },
  {
   "cell_type": "code",
   "execution_count": 29,
   "metadata": {},
   "outputs": [
    {
     "data": {
      "text/plain": [
       "(10000, 16, 16, 1)"
      ]
     },
     "execution_count": 29,
     "metadata": {},
     "output_type": "execute_result"
    }
   ],
   "source": [
    "seg_observations_index_downsample.shape"
   ]
  },
  {
   "cell_type": "code",
   "execution_count": 30,
   "metadata": {},
   "outputs": [],
   "source": [
    "seg_observations_index_downsample = seg_observations_index_downsample.reshape(-1, 1)"
   ]
  },
  {
   "cell_type": "code",
   "execution_count": 31,
   "metadata": {},
   "outputs": [
    {
     "data": {
      "text/plain": [
       "((1280000, 64), (2560000, 1))"
      ]
     },
     "execution_count": 31,
     "metadata": {},
     "output_type": "execute_result"
    }
   ],
   "source": [
    "features_list.shape, seg_observations_index_downsample.shape"
   ]
  },
  {
   "cell_type": "code",
   "execution_count": 32,
   "metadata": {},
   "outputs": [
    {
     "name": "stdout",
     "output_type": "stream",
     "text": [
      "torch.Size([1280000, 64]) torch.Size([1280000, 1])\n"
     ]
    },
    {
     "name": "stderr",
     "output_type": "stream",
     "text": [
      "Epoch 24 Loss: 1.149248960018158: 100%|██████████| 25/25 [02:24<00:00,  5.79s/it] \n"
     ]
    }
   ],
   "source": [
    "data_extractor = nn.Sequential(\n",
    "    nn.Linear(64, 64),\n",
    "    nn.ReLU(),\n",
    "    nn.Linear(64, 32),\n",
    "    nn.ReLU(),\n",
    "    nn.Linear(32, 14),\n",
    ")\n",
    "\n",
    "X = th.tensor(features_list, dtype=th.float32)\n",
    "y = th.tensor(seg_observations_index_downsample[:16*16*DATASET_SIZE], dtype=th.float32)\n",
    "\n",
    "print(X.shape, y.shape)\n",
    "\n",
    "mask = y != 5\n",
    "X_masked = X[mask.squeeze()]\n",
    "y_masked = y[mask.squeeze()]\n",
    "\n",
    "# train the data extractor to predict the segment from the features\n",
    "dataset_features = th.utils.data.TensorDataset(X_masked, y_masked)\n",
    "\n",
    "# Repeat the data in the dataset\n",
    "dataset_features = th.utils.data.ConcatDataset([dataset_features]*10)\n",
    "\n",
    "train_loader = th.utils.data.DataLoader(dataset_features, batch_size=512, shuffle=True, num_workers=4)\n",
    "\n",
    "optimizer = th.optim.Adam(data_extractor.parameters(), lr=1e-3)\n",
    "scheduler = th.optim.lr_scheduler.MultiStepLR(optimizer, milestones=[10, 15], gamma=0.1)\n",
    "\n",
    "epoches = tqdm.tqdm(range(25))\n",
    "losses = []\n",
    "for epoch in epoches:\n",
    "    for features, target in train_loader:\n",
    "        optimizer.zero_grad()\n",
    "        output = data_extractor(features)\n",
    "        # target is int,\n",
    "        loss = F.cross_entropy(output, target.squeeze().long())\n",
    "        losses.append(loss.item())\n",
    "        loss.backward()\n",
    "        optimizer.step()\n",
    "    \n",
    "        if len(losses) > 100:\n",
    "            epoches.set_description(f\"Epoch {epoch} Loss: {np.mean(losses[-100:])}\")\n",
    "        scheduler.step()"
   ]
  },
  {
   "cell_type": "code",
   "execution_count": 33,
   "metadata": {},
   "outputs": [
    {
     "data": {
      "text/plain": [
       "[<matplotlib.lines.Line2D at 0x7ff05f5d9910>]"
      ]
     },
     "execution_count": 33,
     "metadata": {},
     "output_type": "execute_result"
    },
    {
     "data": {
      "image/png": "[encoded data removed]",
      "text/plain": [
       "<Figure size 640x480 with 1 Axes>"
      ]
     },
     "metadata": {},
     "output_type": "display_data"
    }
   ],
   "source": [
    "plt.plot(losses)"
   ]
  },
  {
   "cell_type": "code",
   "execution_count": 34,
   "metadata": {},
   "outputs": [
    {
     "data": {
      "text/plain": [
       "torch.Size([1280000, 64])"
      ]
     },
     "execution_count": 34,
     "metadata": {},
     "output_type": "execute_result"
    }
   ],
   "source": [
    "X.shape"
   ]
  },
  {
   "cell_type": "code",
   "execution_count": 35,
   "metadata": {},
   "outputs": [
    {
     "name": "stdout",
     "output_type": "stream",
     "text": [
      "torch.Size([1280000, 14])\n"
     ]
    },
    {
     "data": {
      "text/plain": [
       "torch.Size([5000, 16, 16, 14])"
      ]
     },
     "execution_count": 35,
     "metadata": {},
     "output_type": "execute_result"
    }
   ],
   "source": [
    "# try visualizing the output\n",
    "output = data_extractor(X)\n",
    "print(output.shape)\n",
    "output = output.reshape(-1, 16, 16, 14)\n",
    "output.shape"
   ]
  },
  {
   "cell_type": "code",
   "execution_count": 36,
   "metadata": {},
   "outputs": [
    {
     "data": {
      "text/plain": [
       "tensor([-7.9243, -8.7288,  0.5812,  1.1742, -9.1103, -8.8862,  4.1821, -0.6819,\n",
       "        -1.6762,  1.9095,  3.0446, -8.5539,  0.0774, -1.2047],\n",
       "       grad_fn=<SelectBackward0>)"
      ]
     },
     "execution_count": 36,
     "metadata": {},
     "output_type": "execute_result"
    }
   ],
   "source": [
    "output[200][5][5]"
   ]
  },
  {
   "cell_type": "code",
   "execution_count": 37,
   "metadata": {},
   "outputs": [
    {
     "data": {
      "text/plain": [
       "<matplotlib.image.AxesImage at 0x7ff05f5e52e0>"
      ]
     },
     "execution_count": 37,
     "metadata": {},
     "output_type": "execute_result"
    },
    {
     "data": {
      "image/png": "[encoded data removed]",
      "text/plain": [
       "<Figure size 1000x500 with 2 Axes>"
      ]
     },
     "metadata": {},
     "output_type": "display_data"
    }
   ],
   "source": [
    "# display\n",
    "fig, ax = plt.subplots(1, 2, figsize=(10, 5))\n",
    "\n",
    "I = 200\n",
    "ax[0].imshow(seg_observations_index[I].squeeze(), cmap=\"twilight\", vmin=0, vmax=13)\n",
    "ax[1].imshow(output[I].detach().numpy().argmax(axis=2), cmap=\"twilight\", vmin=0, vmax=13)"
   ]
  },
  {
   "cell_type": "code",
   "execution_count": 38,
   "metadata": {},
   "outputs": [],
   "source": [
    "# make animation out of seg_observations_index and output\n",
    "\n",
    "def create_segmentation_gif(observations, segmentations, filename='segmentations_first.gif', duration=0.1):\n",
    "    frames = []\n",
    "    for i in tqdm.tqdm(range(len(observations))):\n",
    "        fig, ax = plt.subplots(1, 2, figsize=(10, 5))\n",
    "        ax[0].imshow(get_img(observations[i]))\n",
    "        ax[1].imshow(segmentations[i].argmax(axis=2), cmap=\"twilight\", vmin=0, vmax=13)\n",
    "        plt.close(fig)\n",
    "        \n",
    "        fig.canvas.draw()\n",
    "        image = np.frombuffer(fig.canvas.buffer_rgba(), dtype='uint8')\n",
    "        image = image.reshape(fig.canvas.get_width_height()[::-1] + (4,))\n",
    "        frames.append(image)\n",
    "    \n",
    "    # Save the frames as a gif\n",
    "    imageio.mimsave(filename, frames, duration=duration, loop=0)\n",
    "\n",
    "filename = \"segmentations_first.gif\"\n",
    "if not os.path.exists(filename):\n",
    "    create_segmentation_gif(observations[:300], output.detach().numpy(), filename=filename)"
   ]
  },
  {
   "cell_type": "code",
   "execution_count": 39,
   "metadata": {},
   "outputs": [
    {
     "name": "stdout",
     "output_type": "stream",
     "text": [
      "torch.Size([1280000, 64]) torch.Size([1280000, 3])\n"
     ]
    }
   ],
   "source": [
    "# try training on rgb\n",
    "seg_observations\n",
    "\n",
    "seg_observations_downsampled = np.array([cv2.resize(img, (16, 16), interpolation=cv2.INTER_NEAREST) for img in seg_observations]).reshape(-1, 3)\n",
    "\n",
    "X = th.tensor(features_list, dtype=th.float32)\n",
    "y = th.tensor(seg_observations_downsampled[:16*16*DATASET_SIZE], dtype=th.float32)\n",
    "y = y / 255.0\n",
    "\n",
    "print(X.shape, y.shape)"
   ]
  },
  {
   "cell_type": "code",
   "execution_count": 40,
   "metadata": {},
   "outputs": [
    {
     "name": "stdout",
     "output_type": "stream",
     "text": [
      "torch.Size([1280000, 64]) torch.Size([1280000, 3])\n"
     ]
    },
    {
     "name": "stderr",
     "output_type": "stream",
     "text": [
      "Epoch 2 Loss: 0.019486802434548735: 100%|██████████| 3/3 [00:56<00:00, 18.91s/it]\n"
     ]
    }
   ],
   "source": [
    "data_extractor = nn.Sequential(\n",
    "    nn.Linear(64, 64),\n",
    "    nn.ReLU(),\n",
    "    nn.Linear(64, 64),\n",
    "    nn.ReLU(),\n",
    "    nn.Linear(64, 3),\n",
    ")\n",
    "\n",
    "print(X.shape, y.shape)\n",
    "\n",
    "\n",
    "# train the data extractor to predict the segment from the features\n",
    "dataset_features = th.utils.data.TensorDataset(X, y)\n",
    "\n",
    "# Repeat the data in the dataset\n",
    "dataset_features = th.utils.data.ConcatDataset([dataset_features]*2)\n",
    "\n",
    "train_loader = th.utils.data.DataLoader(dataset_features, batch_size=512, shuffle=True, num_workers=4)\n",
    "\n",
    "optimizer = th.optim.Adam(data_extractor.parameters(), lr=1e-3)\n",
    "scheduler = th.optim.lr_scheduler.MultiStepLR(optimizer, milestones=[1, 2], gamma=0.1)\n",
    "\n",
    "epoches = tqdm.tqdm(range(3))\n",
    "losses_old_rgb_trained = []\n",
    "for epoch in epoches:\n",
    "    for features, target in train_loader:\n",
    "        optimizer.zero_grad()\n",
    "        output = data_extractor(features)\n",
    "        # target is int,\n",
    "        loss = F.mse_loss(output, target)\n",
    "        losses_old_rgb_trained.append(loss.item())\n",
    "        loss.backward()\n",
    "        optimizer.step()\n",
    "\n",
    "        if len(losses_old_rgb_trained) > 100 and len(losses_old_rgb_trained) % 10 == 0:\n",
    "            epoches.set_description(f\"Epoch {epoch} Loss: {np.mean(losses_old_rgb_trained[-100:])}\")\n",
    "        scheduler.step()"
   ]
  },
  {
   "cell_type": "code",
   "execution_count": 41,
   "metadata": {},
   "outputs": [
    {
     "data": {
      "text/plain": [
       "(300, 16, 16, 3)"
      ]
     },
     "execution_count": 41,
     "metadata": {},
     "output_type": "execute_result"
    }
   ],
   "source": [
    "output_rgb_old = data_extractor(X[:16*16*300])\n",
    "output_rgb_old = output_rgb_old.detach().numpy().reshape(-1, 16, 16, 3)\n",
    "output_rgb_old.shape"
   ]
  },
  {
   "cell_type": "code",
   "execution_count": 42,
   "metadata": {},
   "outputs": [
    {
     "name": "stderr",
     "output_type": "stream",
     "text": [
      "Clipping input data to the valid range for imshow with RGB data ([0..1] for floats or [0..255] for integers). Got range [-0.023221087..0.19612084].\n"
     ]
    },
    {
     "data": {
      "text/plain": [
       "<matplotlib.image.AxesImage at 0x7ff183336340>"
      ]
     },
     "execution_count": 42,
     "metadata": {},
     "output_type": "execute_result"
    },
    {
     "data": {
      "image/png": "[encoded data removed]",
      "text/plain": [
       "<Figure size 1000x500 with 2 Axes>"
      ]
     },
     "metadata": {},
     "output_type": "display_data"
    }
   ],
   "source": [
    "# plot\n",
    "fig, ax = plt.subplots(1, 2, figsize=(10, 5))\n",
    "\n",
    "I = 200\n",
    "ax[0].imshow(seg_observations[I])\n",
    "ax[1].imshow(output_rgb_old[I, :, :, :])"
   ]
  },
  {
   "cell_type": "code",
   "execution_count": 43,
   "metadata": {},
   "outputs": [],
   "source": [
    "def create_rgb_gif(observations, segmentations, filename='rgb.gif', duration=0.1):\n",
    "    frames = []\n",
    "    for i in tqdm.tqdm(range(len(observations))):\n",
    "        fig, ax = plt.subplots(1, 2, figsize=(10, 5))\n",
    "        ax[0].imshow(get_img(observations[i]))\n",
    "        seg = segmentations[i].reshape(16, 16, 3)\n",
    "        seg = np.clip(seg, 0, 1)\n",
    "        ax[1].imshow(seg)\n",
    "        plt.close(fig)\n",
    "        \n",
    "        fig.canvas.draw()\n",
    "        image = np.frombuffer(fig.canvas.buffer_rgba(), dtype='uint8')\n",
    "        image = image.reshape(fig.canvas.get_width_height()[::-1] + (4,))\n",
    "        frames.append(image)\n",
    "    \n",
    "    # Save the frames as a gif\n",
    "    imageio.mimsave(filename, frames, duration=duration, loop=0)\n",
    "\n",
    "filename = \"segmentations_old_rgb.gif\"\n",
    "\n",
    "if not os.path.exists(filename):\n",
    "    create_rgb_gif(observations[:300], output_rgb_old, filename=filename)"
   ]
  },
  {
   "cell_type": "code",
   "execution_count": 44,
   "metadata": {},
   "outputs": [
    {
     "name": "stdout",
     "output_type": "stream",
     "text": [
      "== CURRENT SYSTEM INFO ==\n",
      "- OS: Linux-5.15.167.4-microsoft-standard-WSL2-x86_64-with-glibc2.39 # 1 SMP Tue Nov 5 00:21:55 UTC 2024\n",
      "- Python: 3.9.21\n",
      "- Stable-Baselines3: 2.5.0\n",
      "- PyTorch: 2.6.0+cu124\n",
      "- GPU Enabled: True\n",
      "- Numpy: 1.26.4\n",
      "- Cloudpickle: 1.2.2\n",
      "- Gymnasium: 1.0.0\n",
      "- OpenAI Gym: 0.15.7\n",
      "\n",
      "== SAVED MODEL SYSTEM INFO ==\n",
      "- OS: Linux-5.15.167.4-microsoft-standard-WSL2-x86_64-with-glibc2.39 # 1 SMP Tue Nov 5 00:21:55 UTC 2024\n",
      "- Python: 3.9.21\n",
      "- Stable-Baselines3: 2.5.0\n",
      "- PyTorch: 2.6.0+cu124\n",
      "- GPU Enabled: True\n",
      "- Numpy: 1.26.4\n",
      "- Cloudpickle: 1.2.2\n",
      "- Gymnasium: 1.0.0\n",
      "- OpenAI Gym: 0.15.7\n",
      "\n",
      "Wrapping the env with a `Monitor` wrapper\n",
      "Wrapping the env in a DummyVecEnv.\n",
      "Wrapping the env in a VecTransposeImage.\n"
     ]
    },
    {
     "data": {
      "text/plain": [
       "ViT(\n",
       "  (to_patch_embedding): Sequential(\n",
       "    (0): Rearrange('b c (h p1) (w p2) -> b (h w) (p1 p2 c)', p1=4, p2=4)\n",
       "    (1): LayerNorm((144,), eps=1e-05, elementwise_affine=True)\n",
       "    (2): Linear(in_features=144, out_features=64, bias=True)\n",
       "    (3): LayerNorm((64,), eps=1e-05, elementwise_affine=True)\n",
       "  )\n",
       "  (dropout): Dropout(p=0.0, inplace=False)\n",
       "  (transformer): Transformer(\n",
       "    (norm): LayerNorm((64,), eps=1e-05, elementwise_affine=True)\n",
       "    (layers): ModuleList(\n",
       "      (0-3): 4 x ModuleList(\n",
       "        (0): Attention(\n",
       "          (norm): LayerNorm((64,), eps=1e-05, elementwise_affine=True)\n",
       "          (attend): Softmax(dim=-1)\n",
       "          (dropout): Dropout(p=0.0, inplace=False)\n",
       "          (to_qkv): Linear(in_features=64, out_features=1152, bias=False)\n",
       "          (to_out): Sequential(\n",
       "            (0): Linear(in_features=384, out_features=64, bias=True)\n",
       "            (1): Dropout(p=0.0, inplace=False)\n",
       "          )\n",
       "        )\n",
       "        (1): FeedForward(\n",
       "          (net): Sequential(\n",
       "            (0): LayerNorm((64,), eps=1e-05, elementwise_affine=True)\n",
       "            (1): Linear(in_features=64, out_features=256, bias=True)\n",
       "            (2): GELU(approximate='none')\n",
       "            (3): Dropout(p=0.0, inplace=False)\n",
       "            (4): Linear(in_features=256, out_features=64, bias=True)\n",
       "            (5): Dropout(p=0.0, inplace=False)\n",
       "          )\n",
       "        )\n",
       "      )\n",
       "    )\n",
       "  )\n",
       "  (to_latent): Identity()\n",
       "  (mlp_head): Linear(in_features=64, out_features=64, bias=True)\n",
       ")"
      ]
     },
     "execution_count": 44,
     "metadata": {},
     "output_type": "execute_result"
    }
   ],
   "source": [
    "FILE_NAME = \"/home/lord225/pyrepos/explain-rl/models/20250326-140543-DrugRedMessage_41_v3.1\"\n",
    "\n",
    "model = PPO.load(FILE_NAME,\n",
    "                    env=venv, \n",
    "                    print_system_info=True,\n",
    "                    custom_objects={\n",
    "                        \"ViT\":ViT,\n",
    "                    })\n",
    "net = model.policy\n",
    "vit = net.mlp_extractor.policy_net[1]\n",
    "vit"
   ]
  },
  {
   "cell_type": "code",
   "execution_count": 45,
   "metadata": {},
   "outputs": [
    {
     "data": {
      "image/png": "[encoded data removed]",
      "text/plain": [
       "<Figure size 1000x500 with 2 Axes>"
      ]
     },
     "metadata": {},
     "output_type": "display_data"
    }
   ],
   "source": [
    "from vit_pytorch.extractor import Extractor\n",
    "from vit_pytorch.recorder import Recorder\n",
    "\n",
    "recorder = Recorder(vit)\n",
    "recorder = recorder.cpu()\n",
    "\n",
    "frame = 304\n",
    "\n",
    "obs = th.tensor(observations[frame]).reshape(-1, 64, 64, 9).permute(0, 3, 1, 2).float().cpu()\n",
    "\n",
    "probas, attention = recorder(obs)\n",
    "\n",
    "map = attention_map(attention.cpu().detach().numpy(), observations[frame])\n",
    "\n",
    "# plot both\n",
    "fig, ax = plt.subplots(1, 2, figsize=(10, 5))\n",
    "ax[0].imshow(get_img(observations[frame]))\n",
    "ax[1].imshow(map)\n",
    "\n",
    "plt.show()"
   ]
  },
  {
   "cell_type": "code",
   "execution_count": 46,
   "metadata": {},
   "outputs": [],
   "source": [
    "# create gif\n",
    "filename = \"attention_new.gif\"\n",
    "if not os.path.exists(filename):\n",
    "    generate_attention_gif(observations[:300], filename=filename)\n"
   ]
  },
  {
   "cell_type": "code",
   "execution_count": 47,
   "metadata": {},
   "outputs": [
    {
     "name": "stderr",
     "output_type": "stream",
     "text": [
      "100%|██████████| 5000/5000 [04:13<00:00, 19.75it/s] \n"
     ]
    }
   ],
   "source": [
    "import tqdm\n",
    "from vit_pytorch.extractor import Extractor\n",
    "\n",
    "\n",
    "extractor = Extractor(vit).cuda()\n",
    "\n",
    "batch_size = 1\n",
    "features_list = []\n",
    "DATASET_SIZE = 5_000\n",
    "for i in tqdm.tqdm(range(0, DATASET_SIZE, batch_size)):\n",
    "    batch = th.tensor(observations[i:i+batch_size], device=\"cpu\").permute(0, 3, 1, 2).float().cuda()\n",
    "    probs, features = extractor(batch)\n",
    "    features_list.append(features.cpu().detach().numpy())\n",
    "\n",
    "    del batch\n",
    "    del features\n",
    "\n",
    "features_list = np.array(features_list).squeeze()"
   ]
  },
  {
   "cell_type": "code",
   "execution_count": 48,
   "metadata": {},
   "outputs": [
    {
     "data": {
      "text/plain": [
       "(5000, 257, 64)"
      ]
     },
     "execution_count": 48,
     "metadata": {},
     "output_type": "execute_result"
    }
   ],
   "source": [
    "features_list.shape"
   ]
  },
  {
   "cell_type": "code",
   "execution_count": 49,
   "metadata": {},
   "outputs": [
    {
     "data": {
      "text/plain": [
       "(1280000, 64)"
      ]
     },
     "execution_count": 49,
     "metadata": {},
     "output_type": "execute_result"
    }
   ],
   "source": [
    "features_list = features_list[:, 1:].reshape(-1, 64)\n",
    "features_list.shape"
   ]
  },
  {
   "cell_type": "code",
   "execution_count": 50,
   "metadata": {},
   "outputs": [
    {
     "name": "stdout",
     "output_type": "stream",
     "text": [
      "torch.Size([1280000, 64]) torch.Size([1280000, 1])\n"
     ]
    },
    {
     "name": "stderr",
     "output_type": "stream",
     "text": [
      "Epoch 24 Loss: 0.6240043872594834: 100%|██████████| 25/25 [02:34<00:00,  6.17s/it]\n"
     ]
    }
   ],
   "source": [
    "data_extractor = nn.Sequential(\n",
    "    nn.Linear(64, 64),\n",
    "    nn.ReLU(),\n",
    "    nn.Linear(64, 64),\n",
    "    nn.ReLU(),\n",
    "    nn.Linear(64, 14),\n",
    ")\n",
    "\n",
    "X = th.tensor(features_list, dtype=th.float32)\n",
    "y = th.tensor(seg_observations_index_downsample[:16*16*DATASET_SIZE], dtype=th.float32)\n",
    "\n",
    "print(X.shape, y.shape)\n",
    "\n",
    "mask = y != 5\n",
    "X_masked = X[mask.squeeze()]\n",
    "y_masked = y[mask.squeeze()]\n",
    "\n",
    "# train the data extractor to predict the segment from the features\n",
    "dataset_features = th.utils.data.TensorDataset(X_masked, y_masked)\n",
    "\n",
    "# Repeat the data in the dataset\n",
    "dataset_features = th.utils.data.ConcatDataset([dataset_features]*10)\n",
    "\n",
    "train_loader = th.utils.data.DataLoader(dataset_features, batch_size=512, shuffle=True, num_workers=4)\n",
    "\n",
    "optimizer = th.optim.Adam(data_extractor.parameters(), lr=1e-3)\n",
    "scheduler = th.optim.lr_scheduler.MultiStepLR(optimizer, milestones=[10, 15], gamma=0.1)\n",
    "\n",
    "epoches = tqdm.tqdm(range(25))\n",
    "losses_seg_trained = []\n",
    "for epoch in epoches:\n",
    "    for features, target in train_loader:\n",
    "        optimizer.zero_grad()\n",
    "        output = data_extractor(features)\n",
    "        # target is int,\n",
    "        loss = F.cross_entropy(output, target.squeeze().long())\n",
    "        losses_seg_trained.append(loss.item())\n",
    "        loss.backward()\n",
    "        optimizer.step()\n",
    "\n",
    "        if len(losses_seg_trained) > 100:\n",
    "            epoches.set_description(f\"Epoch {epoch} Loss: {np.mean(losses_seg_trained[-100:])}\")\n",
    "        scheduler.step()"
   ]
  },
  {
   "cell_type": "code",
   "execution_count": 51,
   "metadata": {},
   "outputs": [
    {
     "data": {
      "image/png": "[encoded data removed]",
      "text/plain": [
       "<Figure size 640x480 with 1 Axes>"
      ]
     },
     "metadata": {},
     "output_type": "display_data"
    }
   ],
   "source": [
    "plt.plot(losses_seg_trained, alpha=0.5)\n",
    "plt.plot(np.convolve(losses_seg_trained, np.ones(100)/100, mode='valid'))\n",
    "\n",
    "plt.plot(losses, alpha=0.5)\n",
    "plt.plot(np.convolve(losses, np.ones(100)/100, mode='valid'))\n",
    "\n",
    "plt.title(\"Segmentation Loss\")\n",
    "plt.xlabel(\"Steps\")\n",
    "plt.ylabel(\"Loss\")\n",
    "plt.legend([\"Old RGB\", \"Old Segmentation\", \"New Segmentation\"])\n",
    "plt.show()"
   ]
  },
  {
   "cell_type": "code",
   "execution_count": 52,
   "metadata": {},
   "outputs": [
    {
     "name": "stdout",
     "output_type": "stream",
     "text": [
      "torch.Size([330, 14])\n"
     ]
    }
   ],
   "source": [
    "\n",
    "output_seg_tuned = data_extractor(X.reshape(-1, 16, 16, 64)[:300])\n",
    "print(output.shape)"
   ]
  },
  {
   "cell_type": "code",
   "execution_count": 62,
   "metadata": {},
   "outputs": [
    {
     "name": "stderr",
     "output_type": "stream",
     "text": [
      "100%|██████████| 300/300 [00:26<00:00, 11.49it/s]\n"
     ]
    }
   ],
   "source": [
    "# make animation out of seg_observations_index and output\n",
    "\n",
    "def create_segmentation_gif(observations, segmentations, filename='segmentations_secomd.gif', duration=0.1):\n",
    "    frames = []\n",
    "    for i in tqdm.tqdm(range(len(observations))):\n",
    "        fig, ax = plt.subplots(1, 2, figsize=(10, 5))\n",
    "        ax[0].imshow(get_img(observations[i]))\n",
    "        ax[1].imshow(segmentations[i].argmax(axis=2), cmap=\"twilight\", vmin=0, vmax=13)\n",
    "        plt.close(fig)\n",
    "        \n",
    "        fig.canvas.draw()\n",
    "        image = np.frombuffer(fig.canvas.buffer_rgba(), dtype='uint8')\n",
    "        image = image.reshape(fig.canvas.get_width_height()[::-1] + (4,))\n",
    "        frames.append(image)\n",
    "    \n",
    "    # Save the frames as a gif\n",
    "    imageio.mimsave(filename, frames, duration=duration, loop=0)\n",
    "\n",
    "filename = \"segmentations_secomd.gif\"\n",
    "if not os.path.exists(filename):\n",
    "    create_segmentation_gif(observations[:300], output_seg_tuned.detach().numpy(), filename=filename)"
   ]
  },
  {
   "cell_type": "code",
   "execution_count": 54,
   "metadata": {},
   "outputs": [
    {
     "name": "stdout",
     "output_type": "stream",
     "text": [
      "torch.Size([1280000, 64]) torch.Size([1280000, 3])\n"
     ]
    }
   ],
   "source": [
    "seg_observations_downsampled = np.array([cv2.resize(img, (16, 16), interpolation=cv2.INTER_NEAREST) for img in seg_observations]).reshape(-1, 3)\n",
    "\n",
    "X = th.tensor(features_list, dtype=th.float32)\n",
    "y = th.tensor(seg_observations_downsampled[:16*16*5000], dtype=th.float32)\n",
    "y = y / 255.0\n",
    "\n",
    "print(X.shape, y.shape)"
   ]
  },
  {
   "cell_type": "code",
   "execution_count": 55,
   "metadata": {},
   "outputs": [
    {
     "data": {
      "text/plain": [
       "(torch.Size([54049, 64]), torch.Size([54049, 3]))"
      ]
     },
     "execution_count": 55,
     "metadata": {},
     "output_type": "execute_result"
    }
   ],
   "source": [
    "# remove samples where y == (0, 0, 0)\n",
    "\n",
    "mask = (y != 0).all(axis=1)\n",
    "\n",
    "X_masked = X[mask.squeeze()]\n",
    "y_masked = y[mask.squeeze()]\n",
    "\n",
    "\n",
    "X_masked.shape, y_masked.shape"
   ]
  },
  {
   "cell_type": "code",
   "execution_count": 56,
   "metadata": {},
   "outputs": [
    {
     "name": "stdout",
     "output_type": "stream",
     "text": [
      "torch.Size([1280000, 64]) torch.Size([1280000, 3])\n"
     ]
    },
    {
     "name": "stderr",
     "output_type": "stream",
     "text": [
      "Epoch 2 Loss: 0.015009522852487862: 100%|██████████| 3/3 [01:04<00:00, 21.55s/it]\n"
     ]
    }
   ],
   "source": [
    "data_extractor = nn.Sequential(\n",
    "    nn.Linear(64, 64),\n",
    "    nn.ReLU(),\n",
    "    nn.Linear(64, 64),\n",
    "    nn.ReLU(),\n",
    "    nn.Linear(64, 3),\n",
    ")\n",
    "\n",
    "print(X.shape, y.shape)\n",
    "\n",
    "\n",
    "dataset_features = th.utils.data.TensorDataset(X, y)\n",
    "\n",
    "dataset_features = th.utils.data.ConcatDataset([dataset_features]*2)\n",
    "\n",
    "train_loader = th.utils.data.DataLoader(dataset_features, batch_size=512, shuffle=True, num_workers=4)\n",
    "\n",
    "optimizer = th.optim.Adam(data_extractor.parameters(), lr=1e-3)\n",
    "scheduler = th.optim.lr_scheduler.MultiStepLR(optimizer, milestones=[1, 2], gamma=0.1)\n",
    "\n",
    "epoches = tqdm.tqdm(range(3))\n",
    "losses_rgb_trained = []\n",
    "for epoch in epoches:\n",
    "    for features, target in train_loader:\n",
    "        optimizer.zero_grad()\n",
    "        output = data_extractor(features)\n",
    "        # target is int,\n",
    "        loss = F.mse_loss(output, target)\n",
    "        losses_rgb_trained.append(loss.item())\n",
    "        loss.backward()\n",
    "        optimizer.step()\n",
    "\n",
    "        if len(losses_rgb_trained) > 100 and len(losses_rgb_trained) % 10 == 0:\n",
    "            epoches.set_description(f\"Epoch {epoch} Loss: {np.mean(losses_rgb_trained[-100:])}\")\n",
    "        scheduler.step()"
   ]
  },
  {
   "cell_type": "code",
   "execution_count": 57,
   "metadata": {},
   "outputs": [
    {
     "data": {
      "text/plain": [
       "[<matplotlib.lines.Line2D at 0x7fef331ccdc0>]"
      ]
     },
     "execution_count": 57,
     "metadata": {},
     "output_type": "execute_result"
    },
    {
     "data": {
      "image/png": "[encoded data removed]",
      "text/plain": [
       "<Figure size 640x480 with 1 Axes>"
      ]
     },
     "metadata": {},
     "output_type": "display_data"
    }
   ],
   "source": [
    "plt.plot(losses_rgb_trained, alpha=0.5)\n",
    "plt.plot(np.convolve(losses_rgb_trained, np.ones(100)/100, mode='valid'))"
   ]
  },
  {
   "cell_type": "code",
   "execution_count": 58,
   "metadata": {},
   "outputs": [
    {
     "data": {
      "text/plain": [
       "(300, 16, 16, 3)"
      ]
     },
     "execution_count": 58,
     "metadata": {},
     "output_type": "execute_result"
    }
   ],
   "source": [
    "output_rgb_tuned = data_extractor(X[:16*16*300])\n",
    "output_rgb_tuned = output_rgb_tuned.detach().numpy().reshape(-1, 16, 16, 3)\n",
    "output_rgb_tuned.shape"
   ]
  },
  {
   "cell_type": "code",
   "execution_count": 59,
   "metadata": {},
   "outputs": [
    {
     "name": "stderr",
     "output_type": "stream",
     "text": [
      "Clipping input data to the valid range for imshow with RGB data ([0..1] for floats or [0..255] for integers). Got range [-0.059575878..0.67145836].\n"
     ]
    },
    {
     "data": {
      "text/plain": [
       "<matplotlib.image.AxesImage at 0x7fef330f21c0>"
      ]
     },
     "execution_count": 59,
     "metadata": {},
     "output_type": "execute_result"
    },
    {
     "data": {
      "image/png": "[encoded data removed]",
      "text/plain": [
       "<Figure size 1000x500 with 2 Axes>"
      ]
     },
     "metadata": {},
     "output_type": "display_data"
    }
   ],
   "source": [
    "# plot\n",
    "fig, ax = plt.subplots(1, 2, figsize=(10, 5))\n",
    "\n",
    "I = 200\n",
    "ax[0].imshow(y.reshape(-1, 16, 16, 3)[I, :, :, :])\n",
    "ax[1].imshow(output_rgb_tuned[I, :, :, :])"
   ]
  },
  {
   "cell_type": "code",
   "execution_count": 61,
   "metadata": {},
   "outputs": [
    {
     "name": "stderr",
     "output_type": "stream",
     "text": [
      "100%|██████████| 300/300 [00:23<00:00, 12.56it/s]\n"
     ]
    }
   ],
   "source": [
    "# generate gif\n",
    "filename = \"rgb_tuned.gif\"\n",
    "\n",
    "if not os.path.exists(filename):\n",
    "    create_rgb_gif(observations[:300], output_rgb_tuned, filename=filename)"
   ]
  },
  {
   "cell_type": "code",
   "execution_count": null,
   "metadata": {},
   "outputs": [],
   "source": []
  }
 ],
 "metadata": {
  "kernelspec": {
   "display_name": "tf",
   "language": "python",
   "name": "python3"
  },
  "language_info": {
   "codemirror_mode": {
    "name": "ipython",
    "version": 3
   },
   "file_extension": ".py",
   "mimetype": "text/x-python",
   "name": "python",
   "nbconvert_exporter": "python",
   "pygments_lexer": "ipython3",
   "version": "3.9.21"
  }
 },
 "nbformat": 4,
 "nbformat_minor": 2
}

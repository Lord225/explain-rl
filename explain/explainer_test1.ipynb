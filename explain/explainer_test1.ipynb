{
 "cells": [
  {
   "cell_type": "code",
   "execution_count": 1,
   "metadata": {},
   "outputs": [
    {
     "name": "stderr",
     "output_type": "stream",
     "text": [
      "2025-03-20 21:30:26.279618: I tensorflow/core/util/port.cc:113] oneDNN custom operations are on. You may see slightly different numerical results due to floating-point round-off errors from different computation orders. To turn them off, set the environment variable `TF_ENABLE_ONEDNN_OPTS=0`.\n",
      "2025-03-20 21:30:26.313687: E external/local_xla/xla/stream_executor/cuda/cuda_dnn.cc:9261] Unable to register cuDNN factory: Attempting to register factory for plugin cuDNN when one has already been registered\n",
      "2025-03-20 21:30:26.313726: E external/local_xla/xla/stream_executor/cuda/cuda_fft.cc:607] Unable to register cuFFT factory: Attempting to register factory for plugin cuFFT when one has already been registered\n",
      "2025-03-20 21:30:26.315516: E external/local_xla/xla/stream_executor/cuda/cuda_blas.cc:1515] Unable to register cuBLAS factory: Attempting to register factory for plugin cuBLAS when one has already been registered\n",
      "2025-03-20 21:30:26.322446: I tensorflow/core/platform/cpu_feature_guard.cc:182] This TensorFlow binary is optimized to use available CPU instructions in performance-critical operations.\n",
      "To enable the following instructions: AVX2 AVX512F AVX512_VNNI AVX512_BF16 FMA, in other operations, rebuild TensorFlow with the appropriate compiler flags.\n",
      "2025-03-20 21:30:27.134628: W tensorflow/compiler/tf2tensorrt/utils/py_utils.cc:38] TF-TRT Warning: Could not find TensorRT\n"
     ]
    },
    {
     "name": "stdout",
     "output_type": "stream",
     "text": [
      "building procgen...done\n",
      "== CURRENT SYSTEM INFO ==\n",
      "- OS: Linux-5.15.153.1-microsoft-standard-WSL2-x86_64-with-glibc2.35 # 1 SMP Fri Mar 29 23:14:13 UTC 2024\n",
      "- Python: 3.9.21\n",
      "- Stable-Baselines3: 2.5.0\n",
      "- PyTorch: 2.6.0+cu124\n",
      "- GPU Enabled: True\n",
      "- Numpy: 1.26.4\n",
      "- Cloudpickle: 3.1.1\n",
      "- Gymnasium: 1.0.0\n",
      "- OpenAI Gym: 0.26.2\n",
      "\n",
      "== SAVED MODEL SYSTEM INFO ==\n",
      "- OS: Linux-5.15.167.4-microsoft-standard-WSL2-x86_64-with-glibc2.39 # 1 SMP Tue Nov 5 00:21:55 UTC 2024\n",
      "- Python: 3.9.21\n",
      "- Stable-Baselines3: 2.5.0\n",
      "- PyTorch: 2.6.0+cu124\n",
      "- GPU Enabled: True\n",
      "- Numpy: 1.26.4\n",
      "- Cloudpickle: 1.2.2\n",
      "- Gymnasium: 1.0.0\n",
      "- OpenAI Gym: 0.15.7\n",
      "\n",
      "Wrapping the env with a `Monitor` wrapper\n",
      "Wrapping the env in a DummyVecEnv.\n",
      "Wrapping the env in a VecTransposeImage.\n",
      "(10000, 64, 64, 9)\n"
     ]
    }
   ],
   "source": [
    "import torch as th\n",
    "import torch.nn as nn\n",
    "import torch.nn.functional as F\n",
    "import sys\n",
    "import os\n",
    "import h5py\n",
    "import numpy as np\n",
    "\n",
    "from vit_pytorch import ViT\n",
    "\n",
    "sys.path.append(\"/home/lord225/pyrepos/explain-rl\")\n",
    "\n",
    "from ppo import PPO\n",
    "import procgenwrapper\n",
    "\n",
    "\n",
    "MODEL_PATH = \"/home/lord225/pyrepos/explain-rl/preserve\"\n",
    "DATA_PATH = \"/home/lord225/pyrepos/explain-rl/explain/records\"\n",
    "\n",
    "MODEL_NAME = \"20250319-212023-ParentKnowShake_29_v3.1\"\n",
    "\n",
    "MODEL_PATH = os.path.join(MODEL_PATH, MODEL_NAME)\n",
    "DATA_PATH = os.path.join(DATA_PATH, MODEL_NAME+\"_replay.h5\")\n",
    "\n",
    "\n",
    "venv = procgenwrapper.ProcGenWrapper(\"starpilot\", human=False, collect_seg=True)\n",
    "\n",
    "\n",
    "model = PPO.load(MODEL_PATH, \n",
    "                 env=venv, \n",
    "                 print_system_info=True,\n",
    "                 custom_objects={\n",
    "                     \"ViT\":ViT,\n",
    "                 })\n",
    "\n",
    "# f.create_dataset(\"observations\", data=np.array(observations, dtype=np.uint8))\n",
    "# f.create_dataset(\"actions\", data=np.array(actions))\n",
    "# f.create_dataset(\"rewards\", data=np.array(rewards))\n",
    "# f.create_dataset(\"dones\", data=np.array(dones))\n",
    "# f.create_dataset(\"seg_observations\", data=np.array(seg_observations, dtype=np.uint8))\n",
    "# f.create_dataset(\"next_observations\", data=np.array(next_observations, dtype=np.uint8))\n",
    "\n",
    "dataset = h5py.File(DATA_PATH, \"r\")\n",
    "\n",
    "observations = np.array(dataset[\"observations\"])\n",
    "actions = np.array(dataset[\"actions\"])\n",
    "rewards = np.array(dataset[\"rewards\"])\n",
    "dones = np.array(dataset[\"dones\"])\n",
    "seg_observations = np.array(dataset[\"seg_observations\"])\n",
    "next_observations = np.array(dataset[\"next_observations\"])\n",
    "\n",
    "dataset.close() \n",
    "\n",
    "print(observations.shape)"
   ]
  },
  {
   "cell_type": "code",
   "execution_count": 2,
   "metadata": {},
   "outputs": [
    {
     "data": {
      "image/png": "[encoded data removed]",
      "text/plain": [
       "<Figure size 1000x500 with 2 Axes>"
      ]
     },
     "metadata": {},
     "output_type": "display_data"
    }
   ],
   "source": [
    "import matplotlib.pyplot as plt\n",
    "\n",
    "def get_img(obs):\n",
    "    return obs[:, :, 6:9]\n",
    "\n",
    "ax, fig = plt.subplots(1, 2, figsize=(10, 5))\n",
    "\n",
    "fig[0].imshow(get_img(observations[100]))\n",
    "fig[1].imshow(seg_observations[100])\n",
    "\n",
    "plt.show()"
   ]
  },
  {
   "cell_type": "code",
   "execution_count": 3,
   "metadata": {},
   "outputs": [
    {
     "name": "stderr",
     "output_type": "stream",
     "text": [
      "100%|██████████| 300/300 [00:29<00:00, 10.27it/s]\n"
     ]
    }
   ],
   "source": [
    "import imageio\n",
    "import tqdm\n",
    "\n",
    "def create_gif(observations, seg_observations, filename='output.gif', duration=0.1):\n",
    "    frames = []\n",
    "    for i in tqdm.tqdm(range(len(observations))):\n",
    "        fig, ax = plt.subplots(1, 2, figsize=(10, 5))\n",
    "        ax[0].imshow(get_img(observations[i]))\n",
    "        ax[1].imshow(seg_observations[i])\n",
    "        plt.close(fig)\n",
    "        \n",
    "        fig.canvas.draw()\n",
    "        image = np.frombuffer(fig.canvas.buffer_rgba(), dtype='uint8')\n",
    "        image = image.reshape(fig.canvas.get_width_height()[::-1] + (4,))\n",
    "        frames.append(image)\n",
    "    \n",
    "    # Save the frames as a gif\n",
    "    imageio.mimsave(filename, frames, duration=duration)\n",
    "\n",
    "# create_gif(observations[:300], seg_observations[:300])"
   ]
  },
  {
   "cell_type": "code",
   "execution_count": 4,
   "metadata": {},
   "outputs": [
    {
     "data": {
      "text/plain": [
       "CustomActorCriticPolicy(\n",
       "  (features_extractor): FlattenExtractor(\n",
       "    (flatten): Flatten(start_dim=1, end_dim=-1)\n",
       "  )\n",
       "  (pi_features_extractor): FlattenExtractor(\n",
       "    (flatten): Flatten(start_dim=1, end_dim=-1)\n",
       "  )\n",
       "  (vf_features_extractor): FlattenExtractor(\n",
       "    (flatten): Flatten(start_dim=1, end_dim=-1)\n",
       "  )\n",
       "  (mlp_extractor): CustomNetwork(\n",
       "    (policy_net): Sequential(\n",
       "      (0): Unflatten(dim=1, unflattened_size=(9, 64, 64))\n",
       "      (1): ViT(\n",
       "        (to_patch_embedding): Sequential(\n",
       "          (0): Rearrange('b c (h p1) (w p2) -> b (h w) (p1 p2 c)', p1=4, p2=4)\n",
       "          (1): LayerNorm((144,), eps=1e-05, elementwise_affine=True)\n",
       "          (2): Linear(in_features=144, out_features=64, bias=True)\n",
       "          (3): LayerNorm((64,), eps=1e-05, elementwise_affine=True)\n",
       "        )\n",
       "        (dropout): Dropout(p=0.1, inplace=False)\n",
       "        (transformer): Transformer(\n",
       "          (norm): LayerNorm((64,), eps=1e-05, elementwise_affine=True)\n",
       "          (layers): ModuleList(\n",
       "            (0-3): 4 x ModuleList(\n",
       "              (0): Attention(\n",
       "                (norm): LayerNorm((64,), eps=1e-05, elementwise_affine=True)\n",
       "                (attend): Softmax(dim=-1)\n",
       "                (dropout): Dropout(p=0.1, inplace=False)\n",
       "                (to_qkv): Linear(in_features=64, out_features=768, bias=False)\n",
       "                (to_out): Sequential(\n",
       "                  (0): Linear(in_features=256, out_features=64, bias=True)\n",
       "                  (1): Dropout(p=0.1, inplace=False)\n",
       "                )\n",
       "              )\n",
       "              (1): FeedForward(\n",
       "                (net): Sequential(\n",
       "                  (0): LayerNorm((64,), eps=1e-05, elementwise_affine=True)\n",
       "                  (1): Linear(in_features=64, out_features=128, bias=True)\n",
       "                  (2): GELU(approximate='none')\n",
       "                  (3): Dropout(p=0.1, inplace=False)\n",
       "                  (4): Linear(in_features=128, out_features=64, bias=True)\n",
       "                  (5): Dropout(p=0.1, inplace=False)\n",
       "                )\n",
       "              )\n",
       "            )\n",
       "          )\n",
       "        )\n",
       "        (to_latent): Identity()\n",
       "        (mlp_head): Linear(in_features=64, out_features=64, bias=True)\n",
       "      )\n",
       "    )\n",
       "    (value_net): Sequential(\n",
       "      (0): Unflatten(dim=1, unflattened_size=(9, 64, 64))\n",
       "      (1): Conv2d(9, 32, kernel_size=(8, 8), stride=(4, 4))\n",
       "      (2): ReLU()\n",
       "      (3): Conv2d(32, 32, kernel_size=(4, 4), stride=(2, 2))\n",
       "      (4): ReLU()\n",
       "      (5): Conv2d(32, 32, kernel_size=(3, 3), stride=(1, 1))\n",
       "      (6): ReLU()\n",
       "      (7): Conv2d(32, 32, kernel_size=(2, 2), stride=(1, 1))\n",
       "      (8): ReLU()\n",
       "      (9): Conv2d(32, 32, kernel_size=(2, 2), stride=(1, 1))\n",
       "      (10): ReLU()\n",
       "      (11): Flatten(start_dim=1, end_dim=-1)\n",
       "      (12): Linear(in_features=128, out_features=64, bias=True)\n",
       "    )\n",
       "  )\n",
       "  (action_net): Linear(in_features=64, out_features=15, bias=True)\n",
       "  (value_net): Linear(in_features=64, out_features=1, bias=True)\n",
       ")"
      ]
     },
     "execution_count": 4,
     "metadata": {},
     "output_type": "execute_result"
    }
   ],
   "source": [
    "net = model.policy\n",
    "\n",
    "net"
   ]
  },
  {
   "cell_type": "code",
   "execution_count": 5,
   "metadata": {},
   "outputs": [
    {
     "name": "stdout",
     "output_type": "stream",
     "text": [
      "torch.Size([1, 64]) torch.Size([1, 64])\n"
     ]
    }
   ],
   "source": [
    "# Reshape the observations to match the expected input shape\n",
    "obs_tensor = th.tensor(observations[:1].reshape((1, -1)), dtype=th.float32, device=net.device)\n",
    "\n",
    "# Pass the tensor through the action_net\n",
    "features_a, features_b = net.mlp_extractor(obs_tensor)\n",
    "\n",
    "print(features_a.shape, features_b.shape)"
   ]
  },
  {
   "cell_type": "code",
   "execution_count": 6,
   "metadata": {},
   "outputs": [
    {
     "name": "stdout",
     "output_type": "stream",
     "text": [
      "torch.Size([1, 15])\n"
     ]
    }
   ],
   "source": [
    "# Get the action logits\n",
    "action_logits = net.action_net(features_a)\n",
    "\n",
    "print(action_logits.shape)"
   ]
  },
  {
   "cell_type": "code",
   "execution_count": 7,
   "metadata": {},
   "outputs": [
    {
     "data": {
      "text/plain": [
       "Sequential(\n",
       "  (0): Unflatten(dim=1, unflattened_size=(9, 64, 64))\n",
       "  (1): ViT(\n",
       "    (to_patch_embedding): Sequential(\n",
       "      (0): Rearrange('b c (h p1) (w p2) -> b (h w) (p1 p2 c)', p1=4, p2=4)\n",
       "      (1): LayerNorm((144,), eps=1e-05, elementwise_affine=True)\n",
       "      (2): Linear(in_features=144, out_features=64, bias=True)\n",
       "      (3): LayerNorm((64,), eps=1e-05, elementwise_affine=True)\n",
       "    )\n",
       "    (dropout): Dropout(p=0.1, inplace=False)\n",
       "    (transformer): Transformer(\n",
       "      (norm): LayerNorm((64,), eps=1e-05, elementwise_affine=True)\n",
       "      (layers): ModuleList(\n",
       "        (0-3): 4 x ModuleList(\n",
       "          (0): Attention(\n",
       "            (norm): LayerNorm((64,), eps=1e-05, elementwise_affine=True)\n",
       "            (attend): Softmax(dim=-1)\n",
       "            (dropout): Dropout(p=0.1, inplace=False)\n",
       "            (to_qkv): Linear(in_features=64, out_features=768, bias=False)\n",
       "            (to_out): Sequential(\n",
       "              (0): Linear(in_features=256, out_features=64, bias=True)\n",
       "              (1): Dropout(p=0.1, inplace=False)\n",
       "            )\n",
       "          )\n",
       "          (1): FeedForward(\n",
       "            (net): Sequential(\n",
       "              (0): LayerNorm((64,), eps=1e-05, elementwise_affine=True)\n",
       "              (1): Linear(in_features=64, out_features=128, bias=True)\n",
       "              (2): GELU(approximate='none')\n",
       "              (3): Dropout(p=0.1, inplace=False)\n",
       "              (4): Linear(in_features=128, out_features=64, bias=True)\n",
       "              (5): Dropout(p=0.1, inplace=False)\n",
       "            )\n",
       "          )\n",
       "        )\n",
       "      )\n",
       "    )\n",
       "    (to_latent): Identity()\n",
       "    (mlp_head): Linear(in_features=64, out_features=64, bias=True)\n",
       "  )\n",
       ")"
      ]
     },
     "execution_count": 7,
     "metadata": {},
     "output_type": "execute_result"
    }
   ],
   "source": [
    "vit = net.mlp_extractor.policy_net\n",
    "vit"
   ]
  },
  {
   "cell_type": "code",
   "execution_count": 8,
   "metadata": {},
   "outputs": [
    {
     "data": {
      "text/plain": [
       "(1, 64, 64, 9)"
      ]
     },
     "execution_count": 8,
     "metadata": {},
     "output_type": "execute_result"
    }
   ],
   "source": [
    "observations[:1].shape"
   ]
  },
  {
   "cell_type": "code",
   "execution_count": 9,
   "metadata": {},
   "outputs": [
    {
     "data": {
      "text/plain": [
       "tensor([[-2.8837, -0.1371,  0.3956, -0.8866, -3.0618, -0.2293,  0.4853, -0.4020,\n",
       "          6.6181,  0.0430, -0.1739,  0.6156,  0.4764,  0.6566,  0.2312,  1.3945,\n",
       "         -1.5027, -0.4992,  4.2064, -4.6301, -0.5014, -0.0801, -0.1777,  0.3860,\n",
       "          0.5314, -0.1908,  2.9518,  0.4651,  1.7628,  0.0462,  0.8507, -2.3137,\n",
       "         -0.4550, -0.3317,  1.6050,  0.5979, -0.0309,  0.0502,  0.0509,  0.5242,\n",
       "         -0.0106, -0.5018,  0.0566,  3.6061, -1.1753, -1.2471, -1.4254, -0.2167,\n",
       "         -0.3652, -0.1440,  0.4525,  6.5460, -0.0487,  1.6479,  0.1897, -0.3337,\n",
       "         -0.3102, -1.0874, -0.0477,  0.0114,  0.4342,  0.5210,  2.4043,  0.3127]],\n",
       "       device='cuda:0', grad_fn=<AddmmBackward0>)"
      ]
     },
     "execution_count": 9,
     "metadata": {},
     "output_type": "execute_result"
    }
   ],
   "source": [
    "vit = net.mlp_extractor.policy_net[1]\n",
    "action_net = net.action_net\n",
    "\n",
    "vit(th.tensor(observations[:1]).permute(0, 3, 1, 2).float().cuda())"
   ]
  },
  {
   "cell_type": "code",
   "execution_count": 10,
   "metadata": {},
   "outputs": [],
   "source": [
    "vrobas = action_net(vit(th.tensor(observations[:1]).permute(0, 3, 1, 2).float().cuda()))"
   ]
  },
  {
   "cell_type": "code",
   "execution_count": 11,
   "metadata": {},
   "outputs": [],
   "source": [
    "from vit_pytorch.extractor import Extractor\n",
    "from vit_pytorch.recorder import Recorder\n",
    "\n",
    "extractor = Extractor(vit)\n",
    "recorder = Recorder(vit)\n"
   ]
  },
  {
   "cell_type": "markdown",
   "metadata": {},
   "source": [
    "# Emdedding"
   ]
  },
  {
   "cell_type": "code",
   "execution_count": 12,
   "metadata": {},
   "outputs": [
    {
     "data": {
      "text/plain": [
       "(torch.Size([1, 64]), torch.Size([1, 257, 64]))"
      ]
     },
     "execution_count": 12,
     "metadata": {},
     "output_type": "execute_result"
    }
   ],
   "source": [
    "probas, extracted = extractor(th.tensor(observations[:1]).permute(0, 3, 1, 2).float().cuda())\n",
    "\n",
    "probas.shape, extracted.shape"
   ]
  },
  {
   "cell_type": "markdown",
   "metadata": {},
   "source": [
    "# Attention"
   ]
  },
  {
   "cell_type": "code",
   "execution_count": 13,
   "metadata": {},
   "outputs": [
    {
     "data": {
      "text/plain": [
       "(torch.Size([1, 64]), torch.Size([1, 4, 4, 257, 257]))"
      ]
     },
     "execution_count": 13,
     "metadata": {},
     "output_type": "execute_result"
    }
   ],
   "source": [
    "probas, attention = recorder(th.tensor(observations[:1]).permute(0, 3, 1, 2).float().cuda())\n",
    "\n",
    "probas.shape, attention.shape"
   ]
  },
  {
   "cell_type": "code",
   "execution_count": 14,
   "metadata": {},
   "outputs": [],
   "source": [
    "import cv2\n",
    "def attention_map(attention, image):\n",
    "    # avg attention over heads\n",
    "    attention = np.array(attention).mean(axis=1)\n",
    "\n",
    "    grid_size = int(np.sqrt(attention.shape[-1] - 1))\n",
    "    num_layers = attention.shape[0]\n",
    "    num_heads = attention.shape[1]\n",
    "    reshaped = attention.reshape(\n",
    "        (num_layers, num_heads, grid_size**2 + 1, grid_size**2 + 1)\n",
    "    )\n",
    "\n",
    "    # From Appendix D.6 in the paper ...\n",
    "    # Average the attention weights across all heads.\n",
    "    reshaped = reshaped.mean(axis=1)\n",
    "\n",
    "    # From Section 3 in https://arxiv.org/pdf/2005.00928.pdf ...\n",
    "    # To account for residual connections, we add an identity matrix to the\n",
    "    # attention matrix and re-normalize the weights.\n",
    "    reshaped = reshaped + np.eye(reshaped.shape[1])\n",
    "    reshaped = reshaped / reshaped.sum(axis=(1, 2))[:, np.newaxis, np.newaxis]\n",
    "\n",
    "    # Recursively multiply the weight matrices\n",
    "    v = reshaped[-1]\n",
    "    for n in range(1, len(reshaped)):\n",
    "        v = np.matmul(v, reshaped[-1 - n])\n",
    "\n",
    "    # Attention from the output token to the input space.\n",
    "    mask = v[0, 1:].reshape(grid_size, grid_size)\n",
    "    mask = cv2.resize(mask / mask.max(), (image.shape[1], image.shape[0]))[\n",
    "        ..., np.newaxis\n",
    "    ]\n",
    "    return mask"
   ]
  },
  {
   "cell_type": "code",
   "execution_count": 15,
   "metadata": {},
   "outputs": [
    {
     "data": {
      "image/png": "[encoded data removed]",
      "text/plain": [
       "<Figure size 1000x500 with 2 Axes>"
      ]
     },
     "metadata": {},
     "output_type": "display_data"
    }
   ],
   "source": [
    "obs = th.tensor(observations[100]).reshape(-1, 64, 64, 9).permute(0, 3, 1, 2).float().cuda()\n",
    "\n",
    "probas, attention = recorder(obs)\n",
    "\n",
    "map = attention_map(attention.cpu().detach().numpy(), observations[100])\n",
    "\n",
    "# plot both\n",
    "fig, ax = plt.subplots(1, 2, figsize=(10, 5))\n",
    "ax[0].imshow(get_img(observations[100]))\n",
    "ax[1].imshow(map)\n",
    "\n",
    "plt.show()"
   ]
  },
  {
   "cell_type": "code",
   "execution_count": null,
   "metadata": {},
   "outputs": [],
   "source": []
  }
 ],
 "metadata": {
  "kernelspec": {
   "display_name": "tf",
   "language": "python",
   "name": "python3"
  },
  "language_info": {
   "codemirror_mode": {
    "name": "ipython",
    "version": 3
   },
   "file_extension": ".py",
   "mimetype": "text/x-python",
   "name": "python",
   "nbconvert_exporter": "python",
   "pygments_lexer": "ipython3",
   "version": "3.9.21"
  }
 },
 "nbformat": 4,
 "nbformat_minor": 2
}

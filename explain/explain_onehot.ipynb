{
 "cells": [
  {
   "cell_type": "code",
   "execution_count": 1,
   "metadata": {},
   "outputs": [
    {
     "name": "stderr",
     "output_type": "stream",
     "text": [
      "2025-04-22 13:00:35.822089: E external/local_xla/xla/stream_executor/cuda/cuda_dnn.cc:9261] Unable to register cuDNN factory: Attempting to register factory for plugin cuDNN when one has already been registered\n",
      "2025-04-22 13:00:35.822137: E external/local_xla/xla/stream_executor/cuda/cuda_fft.cc:607] Unable to register cuFFT factory: Attempting to register factory for plugin cuFFT when one has already been registered\n",
      "2025-04-22 13:00:35.822952: E external/local_xla/xla/stream_executor/cuda/cuda_blas.cc:1515] Unable to register cuBLAS factory: Attempting to register factory for plugin cuBLAS when one has already been registered\n",
      "2025-04-22 13:00:35.827167: I tensorflow/core/platform/cpu_feature_guard.cc:182] This TensorFlow binary is optimized to use available CPU instructions in performance-critical operations.\n",
      "To enable the following instructions: AVX2 FMA, in other operations, rebuild TensorFlow with the appropriate compiler flags.\n",
      "2025-04-22 13:00:36.464868: W tensorflow/compiler/tf2tensorrt/utils/py_utils.cc:38] TF-TRT Warning: Could not find TensorRT\n"
     ]
    },
    {
     "name": "stdout",
     "output_type": "stream",
     "text": [
      "building procgen...done\n",
      "== CURRENT SYSTEM INFO ==\n",
      "- OS: Linux-5.15.167.4-microsoft-standard-WSL2-x86_64-with-glibc2.39 # 1 SMP Tue Nov 5 00:21:55 UTC 2024\n",
      "- Python: 3.9.21\n",
      "- Stable-Baselines3: 2.5.0\n",
      "- PyTorch: 2.6.0+cu124\n",
      "- GPU Enabled: True\n",
      "- Numpy: 1.26.4\n",
      "- Cloudpickle: 1.2.2\n",
      "- Gymnasium: 1.0.0\n",
      "- OpenAI Gym: 0.15.7\n",
      "\n",
      "== SAVED MODEL SYSTEM INFO ==\n",
      "- OS: Linux-5.15.167.4-microsoft-standard-WSL2-x86_64-with-glibc2.39 # 1 SMP Tue Nov 5 00:21:55 UTC 2024\n",
      "- Python: 3.9.21\n",
      "- Stable-Baselines3: 2.5.0\n",
      "- PyTorch: 2.6.0+cu124\n",
      "- GPU Enabled: True\n",
      "- Numpy: 1.26.4\n",
      "- Cloudpickle: 1.2.2\n",
      "- Gymnasium: 1.0.0\n",
      "- OpenAI Gym: 0.15.7\n",
      "\n",
      "Wrapping the env with a `Monitor` wrapper\n",
      "Wrapping the env in a DummyVecEnv.\n",
      "Wrapping the env in a VecTransposeImage.\n",
      "(10000, 64, 64, 9)\n"
     ]
    },
    {
     "data": {
      "text/plain": [
       "ViT(\n",
       "  (to_patch_embedding): Sequential(\n",
       "    (0): Rearrange('b c (h p1) (w p2) -> b (h w) (p1 p2 c)', p1=4, p2=4)\n",
       "    (1): LayerNorm((144,), eps=1e-05, elementwise_affine=True)\n",
       "    (2): Linear(in_features=144, out_features=64, bias=True)\n",
       "    (3): LayerNorm((64,), eps=1e-05, elementwise_affine=True)\n",
       "  )\n",
       "  (dropout): Dropout(p=0.0, inplace=False)\n",
       "  (transformer): Transformer(\n",
       "    (norm): LayerNorm((64,), eps=1e-05, elementwise_affine=True)\n",
       "    (layers): ModuleList(\n",
       "      (0-3): 4 x ModuleList(\n",
       "        (0): Attention(\n",
       "          (norm): LayerNorm((64,), eps=1e-05, elementwise_affine=True)\n",
       "          (attend): Softmax(dim=-1)\n",
       "          (dropout): Dropout(p=0.1, inplace=False)\n",
       "          (to_qkv): Linear(in_features=64, out_features=1152, bias=False)\n",
       "          (to_out): Sequential(\n",
       "            (0): Linear(in_features=384, out_features=64, bias=True)\n",
       "            (1): Dropout(p=0.1, inplace=False)\n",
       "          )\n",
       "        )\n",
       "        (1): FeedForward(\n",
       "          (net): Sequential(\n",
       "            (0): LayerNorm((64,), eps=1e-05, elementwise_affine=True)\n",
       "            (1): Linear(in_features=64, out_features=256, bias=True)\n",
       "            (2): GELU(approximate='none')\n",
       "            (3): Dropout(p=0.1, inplace=False)\n",
       "            (4): Linear(in_features=256, out_features=64, bias=True)\n",
       "            (5): Dropout(p=0.1, inplace=False)\n",
       "          )\n",
       "        )\n",
       "      )\n",
       "    )\n",
       "  )\n",
       "  (to_latent): Identity()\n",
       "  (mlp_head): Linear(in_features=64, out_features=64, bias=True)\n",
       ")"
      ]
     },
     "execution_count": 1,
     "metadata": {},
     "output_type": "execute_result"
    }
   ],
   "source": [
    "import torch as th\n",
    "import torch.nn as nn\n",
    "import torch.nn.functional as F\n",
    "import sys\n",
    "import os\n",
    "import h5py\n",
    "import numpy as np\n",
    "\n",
    "from vit_pytorch import ViT\n",
    "\n",
    "sys.path.append(\"/home/lord225/pyrepos/explain-rl\")\n",
    "\n",
    "from ppo import PPO\n",
    "import procgenwrapper\n",
    "\n",
    "MODEL_PATH = \"/home/lord225/pyrepos/explain-rl/preserve\"\n",
    "DATA_PATH = \"/home/lord225/pyrepos/explain-rl/explain/records\"\n",
    "\n",
    "MODEL_NAME = \"20250418-212536-WhenFactBe_69_v4.2\"\n",
    "\n",
    "MODEL_PATH = os.path.join(MODEL_PATH, MODEL_NAME)\n",
    "DATA_PATH = os.path.join(DATA_PATH, MODEL_NAME+\"_replay.h5\")\n",
    "\n",
    "venv = procgenwrapper.ProcGenWrapper(\"starpilot\", human=False, collect_seg=True)\n",
    "\n",
    "model = PPO.load(MODEL_PATH,\n",
    "                    env=venv, \n",
    "                    print_system_info=True,\n",
    "                    custom_objects={\n",
    "                        \"ViT\":ViT,\n",
    "                    })\n",
    "\n",
    "dataset = h5py.File(DATA_PATH, \"r\")\n",
    "\n",
    "observations = np.array(dataset[\"observations\"])\n",
    "actions = np.array(dataset[\"actions\"])\n",
    "rewards = np.array(dataset[\"rewards\"])\n",
    "dones = np.array(dataset[\"dones\"])\n",
    "seg_observations = np.array(dataset[\"seg_observations\"])\n",
    "next_observations = np.array(dataset[\"next_observations\"])\n",
    "\n",
    "dataset.close() \n",
    "\n",
    "print(observations.shape)\n",
    "\n",
    "net = model.policy\n",
    "vit = net.mlp_extractor.policy_net[1]\n",
    "vit\n"
   ]
  },
  {
   "cell_type": "code",
   "execution_count": 2,
   "metadata": {},
   "outputs": [
    {
     "data": {
      "image/png": "[encoded data removed]",
      "text/plain": [
       "<Figure size 1000x500 with 2 Axes>"
      ]
     },
     "metadata": {},
     "output_type": "display_data"
    }
   ],
   "source": [
    "import matplotlib.pyplot as plt\n",
    "\n",
    "def get_img(obs):\n",
    "    return obs[:, :, 6:9]\n",
    "\n",
    "ax, fig = plt.subplots(1, 2, figsize=(10, 5))\n",
    "\n",
    "fig[0].imshow(get_img(observations[120]))\n",
    "fig[1].imshow(seg_observations[120], vmin=0, vmax=14)\n",
    "\n",
    "plt.show()"
   ]
  },
  {
   "cell_type": "code",
   "execution_count": 3,
   "metadata": {},
   "outputs": [
    {
     "name": "stdout",
     "output_type": "stream",
     "text": [
      "torch.Size([1, 64]) torch.Size([1, 64])\n"
     ]
    }
   ],
   "source": [
    "# Reshape the observations to match the expected input shape\n",
    "obs_tensor = th.tensor(observations[:1].reshape((1, -1)), dtype=th.float32, device=net.device)\n",
    "\n",
    "# Pass the tensor through the action_net\n",
    "features_a, features_b = net.mlp_extractor(obs_tensor)\n",
    "\n",
    "print(features_a.shape, features_b.shape)"
   ]
  },
  {
   "cell_type": "code",
   "execution_count": 4,
   "metadata": {},
   "outputs": [
    {
     "name": "stdout",
     "output_type": "stream",
     "text": [
      "torch.Size([1, 15])\n"
     ]
    }
   ],
   "source": [
    "# Get the action logits\n",
    "action_logits = net.action_net(features_a)\n",
    "\n",
    "print(action_logits.shape)"
   ]
  },
  {
   "cell_type": "code",
   "execution_count": 5,
   "metadata": {},
   "outputs": [],
   "source": [
    "from vit_pytorch.extractor import Extractor\n",
    "from vit_pytorch.recorder import Recorder\n",
    "\n",
    "extractor = Extractor(vit).cpu()\n",
    "recorder = Recorder(vit).cpu()"
   ]
  },
  {
   "cell_type": "code",
   "execution_count": 6,
   "metadata": {},
   "outputs": [
    {
     "data": {
      "text/plain": [
       "(torch.Size([1, 64]), torch.Size([1, 257, 64]))"
      ]
     },
     "execution_count": 6,
     "metadata": {},
     "output_type": "execute_result"
    }
   ],
   "source": [
    "probas, extracted = extractor(th.tensor(observations[:1]).permute(0, 3, 1, 2).float().cpu())\n",
    "\n",
    "probas.shape, extracted.shape"
   ]
  },
  {
   "cell_type": "code",
   "execution_count": 7,
   "metadata": {},
   "outputs": [
    {
     "data": {
      "text/plain": [
       "(torch.Size([1, 64]), torch.Size([1, 4, 6, 257, 257]))"
      ]
     },
     "execution_count": 7,
     "metadata": {},
     "output_type": "execute_result"
    }
   ],
   "source": [
    "probas, attention = recorder(th.tensor(observations[:1]).permute(0, 3, 1, 2).float().cpu())\n",
    "\n",
    "probas.shape, attention.shape"
   ]
  },
  {
   "cell_type": "code",
   "execution_count": 8,
   "metadata": {},
   "outputs": [],
   "source": [
    "import cv2\n",
    "def attention_map(attention, image):\n",
    "    # avg attention over heads\n",
    "    attention = np.array(attention).mean(axis=1)\n",
    "\n",
    "    grid_size = int(np.sqrt(attention.shape[-1] - 1))\n",
    "    num_layers = attention.shape[0]\n",
    "    num_heads = attention.shape[1]\n",
    "    reshaped = attention.reshape(\n",
    "        (num_layers, num_heads, grid_size**2 + 1, grid_size**2 + 1)\n",
    "    )\n",
    "\n",
    "    # From Appendix D.6 in the paper ...\n",
    "    # Average the attention weights across all heads.\n",
    "    reshaped = reshaped.mean(axis=1)\n",
    "\n",
    "    # From Section 3 in https://arxiv.org/pdf/2005.00928.pdf ...\n",
    "    # To account for residual connections, we add an identity matrix to the\n",
    "    # attention matrix and re-normalize the weights.\n",
    "    reshaped = reshaped + np.eye(reshaped.shape[1])\n",
    "    reshaped = reshaped / reshaped.sum(axis=(1, 2))[:, np.newaxis, np.newaxis]\n",
    "\n",
    "    # Recursively multiply the weight matrices\n",
    "    v = reshaped[-1]\n",
    "    for n in range(1, len(reshaped)):\n",
    "        v = np.matmul(v, reshaped[-1 - n])\n",
    "\n",
    "    # Attention from the output token to the input space.\n",
    "    mask = v[0, 1:].reshape(grid_size, grid_size)\n",
    "    mask = mask / mask.max()\n",
    "    return mask"
   ]
  },
  {
   "cell_type": "code",
   "execution_count": 9,
   "metadata": {},
   "outputs": [
    {
     "data": {
      "image/png": "[encoded data removed]",
      "text/plain": [
       "<Figure size 1000x500 with 2 Axes>"
      ]
     },
     "metadata": {},
     "output_type": "display_data"
    }
   ],
   "source": [
    "recorder = recorder.cpu()\n",
    "frame = 304\n",
    "\n",
    "obs = th.tensor(observations[frame]).reshape(-1, 64, 64, 9).permute(0, 3, 1, 2).float().cpu()\n",
    "\n",
    "probas, attention = recorder(obs)\n",
    "\n",
    "map = attention_map(attention.cpu().detach().numpy(), observations[frame])\n",
    "\n",
    "# plot both\n",
    "fig, ax = plt.subplots(1, 2, figsize=(10, 5))\n",
    "ax[0].imshow(get_img(observations[frame]))\n",
    "ax[1].imshow(map)\n",
    "\n",
    "plt.show()"
   ]
  },
  {
   "cell_type": "code",
   "execution_count": 10,
   "metadata": {},
   "outputs": [],
   "source": [
    "import imageio\n",
    "import tqdm\n",
    "\n",
    "\n",
    "def generate_attention_gif(observations, filename='attention.gif', duration=0.1):\n",
    "    frames = []\n",
    "    for i in tqdm.tqdm(range(len(observations))):\n",
    "        obs = th.tensor(observations[i]).reshape(-1, 64, 64, 9).permute(0, 3, 1, 2).float().cpu()\n",
    "        probas, attention = recorder(obs)\n",
    "        map = attention_map(attention.cpu().detach().numpy(), observations[i])\n",
    "        \n",
    "        fig, ax = plt.subplots(1, 2, figsize=(10, 5))\n",
    "        ax[0].imshow(get_img(observations[i]))\n",
    "        ax[1].imshow(map)\n",
    "        plt.close(fig)\n",
    "        \n",
    "        fig.canvas.draw()\n",
    "        image = np.frombuffer(fig.canvas.buffer_rgba(), dtype='uint8')\n",
    "        image = image.reshape(fig.canvas.get_width_height()[::-1] + (4,))\n",
    "        frames.append(image)\n",
    "    # Save the frames as a gif\n",
    "    imageio.mimsave(filename, frames, duration=duration, loop=0)\n",
    "    \n",
    "\n",
    "filename = f\"attention-{MODEL_NAME}.gif\"\n",
    "if not os.path.exists(filename):\n",
    "    generate_attention_gif(observations[:300], filename=filename)"
   ]
  },
  {
   "cell_type": "code",
   "execution_count": 11,
   "metadata": {},
   "outputs": [],
   "source": [
    "DATASET_SIZE = 8_000\n",
    "batch_size = 1"
   ]
  },
  {
   "cell_type": "code",
   "execution_count": 12,
   "metadata": {},
   "outputs": [
    {
     "name": "stderr",
     "output_type": "stream",
     "text": [
      "100%|██████████| 8000/8000 [01:01<00:00, 130.34it/s]\n"
     ]
    },
    {
     "data": {
      "text/plain": [
       "(8000, 257, 64)"
      ]
     },
     "execution_count": 12,
     "metadata": {},
     "output_type": "execute_result"
    }
   ],
   "source": [
    "import gc\n",
    "# calculate features using extractor\n",
    "extractor = extractor.cuda()\n",
    "features_list = []\n",
    "\n",
    "with th.no_grad():\n",
    "    for i in tqdm.tqdm(range(0, DATASET_SIZE, batch_size)):\n",
    "        batch = th.tensor(observations[i:i+batch_size], device=\"cpu\").permute(0, 3, 1, 2).float().cuda()\n",
    "        probs, features = extractor(batch)\n",
    "        features_list.append(features.cpu().detach().numpy())\n",
    "\n",
    "        del batch\n",
    "        del features\n",
    "        del probs\n",
    "        if i % 1000 == 0:\n",
    "            th.cuda.empty_cache()\n",
    "            gc.collect()\n",
    "\n",
    "\n",
    "features_list = np.array(features_list).squeeze()\n",
    "\n",
    "features_list.shape"
   ]
  },
  {
   "cell_type": "code",
   "execution_count": 13,
   "metadata": {},
   "outputs": [
    {
     "data": {
      "text/plain": [
       "(8000, 257, 64)"
      ]
     },
     "execution_count": 13,
     "metadata": {},
     "output_type": "execute_result"
    }
   ],
   "source": [
    "features_list.shape"
   ]
  },
  {
   "cell_type": "code",
   "execution_count": 14,
   "metadata": {},
   "outputs": [
    {
     "data": {
      "text/plain": [
       "(8000, 16, 16, 64)"
      ]
     },
     "execution_count": 14,
     "metadata": {},
     "output_type": "execute_result"
    }
   ],
   "source": [
    "features_list = features_list[:, 1:].reshape(-1, 16, 16, 64)\n",
    "\n",
    "features_list.shape"
   ]
  },
  {
   "cell_type": "code",
   "execution_count": 15,
   "metadata": {},
   "outputs": [
    {
     "data": {
      "text/plain": [
       "(2048000, 64)"
      ]
     },
     "execution_count": 15,
     "metadata": {},
     "output_type": "execute_result"
    }
   ],
   "source": [
    "features_list = features_list.reshape(-1, 64)\n",
    "features_list.shape"
   ]
  },
  {
   "cell_type": "code",
   "execution_count": 16,
   "metadata": {},
   "outputs": [
    {
     "data": {
      "text/plain": [
       "(10000, 64, 64, 3)"
      ]
     },
     "execution_count": 16,
     "metadata": {},
     "output_type": "execute_result"
    }
   ],
   "source": [
    "seg_observations.shape"
   ]
  },
  {
   "cell_type": "code",
   "execution_count": 17,
   "metadata": {},
   "outputs": [
    {
     "data": {
      "text/plain": [
       "<matplotlib.image.AxesImage at 0x7fa1c968b3a0>"
      ]
     },
     "execution_count": 17,
     "metadata": {},
     "output_type": "execute_result"
    },
    {
     "data": {
      "image/png": "[encoded data removed]",
      "text/plain": [
       "<Figure size 640x480 with 1 Axes>"
      ]
     },
     "metadata": {},
     "output_type": "display_data"
    }
   ],
   "source": [
    "plt.imshow(seg_observations[100])"
   ]
  },
  {
   "cell_type": "code",
   "execution_count": null,
   "metadata": {},
   "outputs": [
    {
     "data": {
      "text/plain": [
       "(10000, 16, 16, 1)"
      ]
     },
     "execution_count": 31,
     "metadata": {},
     "output_type": "execute_result"
    }
   ],
   "source": [
    "# conversion using same algorithm as in env\n",
    "UNIQUE_COLORS = np.array([[  0,   0,   0],\n",
    "                            [127,  63, 127],\n",
    "                            [127,  63, 191],\n",
    "                            [127, 127, 255],\n",
    "                            [127, 191,  63],\n",
    "                            [127, 255, 127],\n",
    "                            [191, 255, 255],\n",
    "                            [255, 127, 127],\n",
    "                            [255, 191, 191],\n",
    "                            [255, 191, 255]], dtype=np.uint8)\n",
    "\n",
    "POOLER = nn.MaxPool2d(kernel_size=4, stride=4)\n",
    "mono = th.from_numpy(seg_observations).permute(0, 3, 1, 2)\n",
    "mono = POOLER(mono.float()).permute(0, 2, 3, 1).numpy().astype(np.uint8)\n",
    "mono = np.argmax((mono.reshape(-1, 1, 3) == UNIQUE_COLORS).all(axis=2), axis=1).reshape(-1, 16, 16, 1).astype(np.int32)\n",
    "mono.shape"
   ]
  },
  {
   "cell_type": "code",
   "execution_count": 32,
   "metadata": {},
   "outputs": [
    {
     "data": {
      "text/plain": [
       "<matplotlib.image.AxesImage at 0x7fa1c21c7550>"
      ]
     },
     "execution_count": 32,
     "metadata": {},
     "output_type": "execute_result"
    },
    {
     "data": {
      "image/png": "[encoded data removed]",
      "text/plain": [
       "<Figure size 640x480 with 1 Axes>"
      ]
     },
     "metadata": {},
     "output_type": "display_data"
    }
   ],
   "source": [
    "plt.imshow(mono[100], vmin=0, vmax=10)"
   ]
  },
  {
   "cell_type": "code",
   "execution_count": 20,
   "metadata": {},
   "outputs": [
    {
     "data": {
      "text/plain": [
       "(array([0, 1, 2, 3, 4, 5, 6, 7, 8, 9], dtype=int32),\n",
       " array([2292735,   92040,    1796,   11461,     646,   10232,    4015,\n",
       "           1039,  143650,    2386]))"
      ]
     },
     "execution_count": 20,
     "metadata": {},
     "output_type": "execute_result"
    }
   ],
   "source": [
    "\n",
    "unique, counts = np.unique(mono, return_counts=True)\n",
    "unique, counts"
   ]
  },
  {
   "cell_type": "code",
   "execution_count": 21,
   "metadata": {},
   "outputs": [],
   "source": [
    "mono = mono.reshape(-1, 1)"
   ]
  },
  {
   "cell_type": "code",
   "execution_count": 22,
   "metadata": {},
   "outputs": [
    {
     "name": "stdout",
     "output_type": "stream",
     "text": [
      "tensor([5.])\n"
     ]
    },
    {
     "name": "stderr",
     "output_type": "stream",
     "text": [
      "Epoch 49 Loss: 1.1342116069793702: 100%|██████████| 50/50 [03:38<00:00,  4.37s/it]\n"
     ]
    }
   ],
   "source": [
    "data_extractor = nn.Sequential(\n",
    "    nn.Dropout(0.1),\n",
    "    nn.Linear(64, 10),\n",
    ")\n",
    "\n",
    "X = th.tensor(features_list, dtype=th.float32)\n",
    "y = th.tensor(mono[:16*16*DATASET_SIZE], dtype=th.float32)\n",
    "\n",
    "# mask values where mono is 0\n",
    "mask = y != 0\n",
    "\n",
    "X_masked = X[mask.squeeze()]\n",
    "y_masked = y[mask.squeeze()]\n",
    "\n",
    "print(y_masked[0])\n",
    "\n",
    "# add 50% of the data to the dataset from the not masked values\n",
    "X_masked = th.cat([X_masked, X[~mask.squeeze()][:int(X_masked.shape[0] * 0.5)]])\n",
    "y_masked = th.cat([y_masked, y[~mask.squeeze()][:int(y_masked.shape[0] * 0.5)]])\n",
    "\n",
    "\n",
    "# train the data extractor to predict the segment from the features\n",
    "dataset_features = th.utils.data.TensorDataset(X_masked, y_masked)\n",
    "\n",
    "# Repeat the data in the dataset\n",
    "dataset_features = th.utils.data.ConcatDataset([dataset_features]*2)\n",
    "\n",
    "train_loader = th.utils.data.DataLoader(dataset_features, batch_size=512, shuffle=True, num_workers=4)\n",
    "\n",
    "optimizer = th.optim.Adam(data_extractor.parameters(), lr=1e-2)\n",
    "scheduler = th.optim.lr_scheduler.MultiStepLR(optimizer, milestones=[15, 20, 30], gamma=0.1)\n",
    "\n",
    "epoches = tqdm.tqdm(range(50))\n",
    "losses = []\n",
    "for epoch in epoches:\n",
    "    for features, target in train_loader:\n",
    "        optimizer.zero_grad()\n",
    "        output = data_extractor(features)\n",
    "        # target is int,\n",
    "        loss = F.cross_entropy(output, target.squeeze().long())\n",
    "        losses.append(loss.item())\n",
    "        loss.backward()\n",
    "        optimizer.step()\n",
    "    \n",
    "        if len(losses) > 100:\n",
    "            epoches.set_description(f\"Epoch {epoch} Loss: {np.mean(losses[-100:])}\")\n",
    "        scheduler.step()"
   ]
  },
  {
   "cell_type": "code",
   "execution_count": 23,
   "metadata": {},
   "outputs": [
    {
     "data": {
      "text/plain": [
       "[<matplotlib.lines.Line2D at 0x7fa1c1f9ef70>]"
      ]
     },
     "execution_count": 23,
     "metadata": {},
     "output_type": "execute_result"
    },
    {
     "data": {
      "image/png": "[encoded data removed]",
      "text/plain": [
       "<Figure size 640x480 with 1 Axes>"
      ]
     },
     "metadata": {},
     "output_type": "display_data"
    }
   ],
   "source": [
    "plt.plot(losses)"
   ]
  },
  {
   "cell_type": "code",
   "execution_count": null,
   "metadata": {},
   "outputs": [],
   "source": []
  },
  {
   "cell_type": "code",
   "execution_count": 24,
   "metadata": {},
   "outputs": [
    {
     "name": "stdout",
     "output_type": "stream",
     "text": [
      "torch.Size([2048000, 10])\n"
     ]
    },
    {
     "data": {
      "text/plain": [
       "torch.Size([8000, 16, 16, 10])"
      ]
     },
     "execution_count": 24,
     "metadata": {},
     "output_type": "execute_result"
    }
   ],
   "source": [
    "# try visualizing the output\n",
    "output = data_extractor(X)\n",
    "print(output.shape)\n",
    "output = output.reshape(-1, 16, 16, 10)\n",
    "output.shape"
   ]
  },
  {
   "cell_type": "code",
   "execution_count": 25,
   "metadata": {},
   "outputs": [
    {
     "data": {
      "text/plain": [
       "(2560000, 1)"
      ]
     },
     "execution_count": 25,
     "metadata": {},
     "output_type": "execute_result"
    }
   ],
   "source": [
    "mono.shape"
   ]
  },
  {
   "cell_type": "code",
   "execution_count": 26,
   "metadata": {},
   "outputs": [],
   "source": [
    "mono_shaped = mono.reshape(-1, 16, 16, 1)"
   ]
  },
  {
   "cell_type": "code",
   "execution_count": 27,
   "metadata": {},
   "outputs": [
    {
     "data": {
      "text/plain": [
       "Text(0.5, 1.0, 'observation')"
      ]
     },
     "execution_count": 27,
     "metadata": {},
     "output_type": "execute_result"
    },
    {
     "data": {
      "image/png": "[encoded data removed]",
      "text/plain": [
       "<Figure size 1500x500 with 3 Axes>"
      ]
     },
     "metadata": {},
     "output_type": "display_data"
    }
   ],
   "source": [
    "# display\n",
    "fig, ax = plt.subplots(1, 3, figsize=(15, 5))\n",
    "\n",
    "I = 60\n",
    "ax[0].imshow(mono_shaped[I].squeeze(), cmap=\"twilight\", vmin=0, vmax=10, label=\"segmentation\")\n",
    "ax[0].set_title(\"segmentation\")\n",
    "ax[1].imshow(output[I].detach().numpy().argmax(axis=2), cmap=\"twilight\", vmin=0, vmax=10, label=\"prediction\")\n",
    "ax[1].set_title(\"prediction\")\n",
    "ax[2].imshow(observations[I,:,:,6:], label=\"observation\")\n",
    "ax[2].set_title(\"observation\")"
   ]
  },
  {
   "cell_type": "code",
   "execution_count": 30,
   "metadata": {},
   "outputs": [
    {
     "name": "stderr",
     "output_type": "stream",
     "text": [
      "  0%|          | 0/300 [00:00<?, ?it/s]/tmp/ipykernel_10215/836991560.py:16: MatplotlibDeprecationWarning: The tostring_rgb function was deprecated in Matplotlib 3.8 and will be removed in 3.10. Use buffer_rgba instead.\n",
      "  image = np.frombuffer(fig.canvas.tostring_rgb(), dtype='uint8')\n",
      "100%|██████████| 300/300 [00:33<00:00,  8.88it/s]\n"
     ]
    }
   ],
   "source": [
    "def generate_visualization_gif(mono_shaped, output, observations, filename='visualization.gif', duration=0.1):\n",
    "    frames = []\n",
    "    for I in tqdm.tqdm(range(len(mono_shaped))):\n",
    "        fig, ax = plt.subplots(1, 3, figsize=(15, 5))\n",
    "        \n",
    "        ax[0].imshow(mono_shaped[I].squeeze(), cmap=\"twilight\", vmin=0, vmax=10, label=\"segmentation\")\n",
    "        ax[0].set_title(\"segmentation\")\n",
    "        ax[1].imshow(output[I].detach().numpy().argmax(axis=2), cmap=\"twilight\", vmin=0, vmax=10, label=\"prediction\")\n",
    "        ax[1].set_title(\"prediction\")\n",
    "        ax[2].imshow(observations[I, :, :, 6:], label=\"observation\")\n",
    "        ax[2].set_title(\"observation\")\n",
    "        \n",
    "        plt.close(fig)\n",
    "        \n",
    "        fig.canvas.draw()\n",
    "        image = np.frombuffer(fig.canvas.tostring_rgb(), dtype='uint8')\n",
    "        image = image.reshape(fig.canvas.get_width_height()[::-1] + (3,))\n",
    "        frames.append(image)\n",
    "    \n",
    "    # Save the frames as a GIF\n",
    "    imageio.mimsave(filename, frames, duration=duration, loop=0)\n",
    "\n",
    "# Generate the GIF\n",
    "filename = f'visualization-{MODEL_NAME}.gif'\n",
    "generate_visualization_gif(mono_shaped[:300], output[:300], observations[:300], filename=filename, duration=0.1)"
   ]
  },
  {
   "cell_type": "code",
   "execution_count": null,
   "metadata": {},
   "outputs": [],
   "source": []
  }
 ],
 "metadata": {
  "kernelspec": {
   "display_name": "tf",
   "language": "python",
   "name": "python3"
  },
  "language_info": {
   "codemirror_mode": {
    "name": "ipython",
    "version": 3
   },
   "file_extension": ".py",
   "mimetype": "text/x-python",
   "name": "python",
   "nbconvert_exporter": "python",
   "pygments_lexer": "ipython3",
   "version": "3.9.21"
  }
 },
 "nbformat": 4,
 "nbformat_minor": 2
}

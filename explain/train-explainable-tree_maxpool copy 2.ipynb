{
 "cells": [
  {
   "cell_type": "code",
   "execution_count": 1,
   "metadata": {},
   "outputs": [
    {
     "name": "stderr",
     "output_type": "stream",
     "text": [
      "2025-05-12 10:31:05.683083: E external/local_xla/xla/stream_executor/cuda/cuda_dnn.cc:9261] Unable to register cuDNN factory: Attempting to register factory for plugin cuDNN when one has already been registered\n",
      "2025-05-12 10:31:05.683162: E external/local_xla/xla/stream_executor/cuda/cuda_fft.cc:607] Unable to register cuFFT factory: Attempting to register factory for plugin cuFFT when one has already been registered\n",
      "2025-05-12 10:31:05.719925: E external/local_xla/xla/stream_executor/cuda/cuda_blas.cc:1515] Unable to register cuBLAS factory: Attempting to register factory for plugin cuBLAS when one has already been registered\n",
      "2025-05-12 10:31:05.806383: I tensorflow/core/platform/cpu_feature_guard.cc:182] This TensorFlow binary is optimized to use available CPU instructions in performance-critical operations.\n",
      "To enable the following instructions: AVX2 FMA, in other operations, rebuild TensorFlow with the appropriate compiler flags.\n",
      "2025-05-12 10:31:06.746891: W tensorflow/compiler/tf2tensorrt/utils/py_utils.cc:38] TF-TRT Warning: Could not find TensorRT\n"
     ]
    },
    {
     "name": "stdout",
     "output_type": "stream",
     "text": [
      "building procgen...done\n",
      "== CURRENT SYSTEM INFO ==\n",
      "- OS: Linux-5.15.167.4-microsoft-standard-WSL2-x86_64-with-glibc2.39 # 1 SMP Tue Nov 5 00:21:55 UTC 2024\n",
      "- Python: 3.9.21\n",
      "- Stable-Baselines3: 2.5.0\n",
      "- PyTorch: 2.6.0+cu124\n",
      "- GPU Enabled: True\n",
      "- Numpy: 1.26.4\n",
      "- Cloudpickle: 1.2.2\n",
      "- Gymnasium: 1.0.0\n",
      "- OpenAI Gym: 0.15.7\n",
      "\n",
      "== SAVED MODEL SYSTEM INFO ==\n",
      "- OS: Linux-5.15.167.4-microsoft-standard-WSL2-x86_64-with-glibc2.39 # 1 SMP Tue Nov 5 00:21:55 UTC 2024\n",
      "- Python: 3.9.21\n",
      "- Stable-Baselines3: 2.5.0\n",
      "- PyTorch: 2.6.0+cu124\n",
      "- GPU Enabled: True\n",
      "- Numpy: 1.26.4\n",
      "- Cloudpickle: 1.2.2\n",
      "- Gymnasium: 1.0.0\n",
      "- OpenAI Gym: 0.15.7\n",
      "\n",
      "Wrapping the env with a `Monitor` wrapper\n",
      "Wrapping the env in a DummyVecEnv.\n",
      "Wrapping the env in a VecTransposeImage.\n",
      "(50000, 64, 64, 9)\n"
     ]
    },
    {
     "data": {
      "text/plain": [
       "ViT(\n",
       "  (to_patch_embedding): Sequential(\n",
       "    (0): Rearrange('b c (h p1) (w p2) -> b (h w) (p1 p2 c)', p1=4, p2=4)\n",
       "    (1): LayerNorm((144,), eps=1e-05, elementwise_affine=True)\n",
       "    (2): Linear(in_features=144, out_features=64, bias=True)\n",
       "    (3): LayerNorm((64,), eps=1e-05, elementwise_affine=True)\n",
       "  )\n",
       "  (dropout): Dropout(p=0.0, inplace=False)\n",
       "  (transformer): Transformer(\n",
       "    (norm): LayerNorm((64,), eps=1e-05, elementwise_affine=True)\n",
       "    (layers): ModuleList(\n",
       "      (0-3): 4 x ModuleList(\n",
       "        (0): Attention(\n",
       "          (norm): LayerNorm((64,), eps=1e-05, elementwise_affine=True)\n",
       "          (attend): Softmax(dim=-1)\n",
       "          (dropout): Dropout(p=0.0, inplace=False)\n",
       "          (to_qkv): Linear(in_features=64, out_features=1152, bias=False)\n",
       "          (to_out): Sequential(\n",
       "            (0): Linear(in_features=384, out_features=64, bias=True)\n",
       "            (1): Dropout(p=0.0, inplace=False)\n",
       "          )\n",
       "        )\n",
       "        (1): FeedForward(\n",
       "          (net): Sequential(\n",
       "            (0): LayerNorm((64,), eps=1e-05, elementwise_affine=True)\n",
       "            (1): Linear(in_features=64, out_features=256, bias=True)\n",
       "            (2): GELU(approximate='none')\n",
       "            (3): Dropout(p=0.0, inplace=False)\n",
       "            (4): Linear(in_features=256, out_features=64, bias=True)\n",
       "            (5): Dropout(p=0.0, inplace=False)\n",
       "          )\n",
       "        )\n",
       "      )\n",
       "    )\n",
       "  )\n",
       "  (to_latent): Identity()\n",
       "  (mlp_head): Linear(in_features=64, out_features=64, bias=True)\n",
       ")"
      ]
     },
     "execution_count": 1,
     "metadata": {},
     "output_type": "execute_result"
    }
   ],
   "source": [
    "import torch as th\n",
    "import torch.nn as nn\n",
    "import torch.nn.functional as F\n",
    "import sys\n",
    "import os\n",
    "import h5py\n",
    "import numpy as np\n",
    "\n",
    "from vit_pytorch import ViT\n",
    "\n",
    "sys.path.append(\"/home/lord225/pyrepos/explain-rl\")\n",
    "\n",
    "from ppo import PPO\n",
    "import procgenwrapper\n",
    "\n",
    "MODEL_PATH = \"/home/lord225/pyrepos/explain-rl/preserve\"\n",
    "DATA_PATH = \"/home/lord225/pyrepos/explain-rl/explain/records\"\n",
    "\n",
    "MODEL_NAME = \"20250402-092247-StopOpenEarly_6_v3.1\"\n",
    "\n",
    "MODEL_PATH = os.path.join(MODEL_PATH, MODEL_NAME)\n",
    "DATA_PATH = os.path.join(DATA_PATH, MODEL_NAME+\"_replay.h5\")\n",
    "\n",
    "venv = procgenwrapper.ProcGenWrapper(\"starpilot\", human=False, collect_seg=True)\n",
    "\n",
    "model = PPO.load(MODEL_PATH,\n",
    "                    env=venv, \n",
    "                    print_system_info=True,\n",
    "                    custom_objects={\n",
    "                        \"ViT\":ViT,\n",
    "                    })\n",
    "\n",
    "dataset = h5py.File(DATA_PATH, \"r\")\n",
    "\n",
    "observations = np.array(dataset[\"observations\"])\n",
    "actions = np.array(dataset[\"actions\"])\n",
    "rewards = np.array(dataset[\"rewards\"])\n",
    "dones = np.array(dataset[\"dones\"])\n",
    "seg_observations = np.array(dataset[\"seg_observations\"])\n",
    "next_observations = np.array(dataset[\"next_observations\"])\n",
    "\n",
    "dataset.close() \n",
    "\n",
    "print(observations.shape)\n",
    "\n",
    "net = model.policy\n",
    "vit = net.mlp_extractor.policy_net[1]\n",
    "vit\n"
   ]
  },
  {
   "cell_type": "code",
   "execution_count": 2,
   "metadata": {},
   "outputs": [
    {
     "data": {
      "text/plain": [
       "<matplotlib.image.AxesImage at 0x7f28d3a1efd0>"
      ]
     },
     "execution_count": 2,
     "metadata": {},
     "output_type": "execute_result"
    },
    {
     "data": {
      "image/png": "[encoded data removed]",
      "text/plain": [
       "<Figure size 640x480 with 1 Axes>"
      ]
     },
     "metadata": {},
     "output_type": "display_data"
    }
   ],
   "source": [
    "import matplotlib.pyplot as plt\n",
    "\n",
    "INDEX = 110\n",
    "\n",
    "plt.imshow(observations[INDEX][:,:,6:])"
   ]
  },
  {
   "cell_type": "code",
   "execution_count": 3,
   "metadata": {},
   "outputs": [
    {
     "data": {
      "text/plain": [
       "<matplotlib.image.AxesImage at 0x7f28d128a130>"
      ]
     },
     "execution_count": 3,
     "metadata": {},
     "output_type": "execute_result"
    },
    {
     "data": {
      "image/png": "[encoded data removed]",
      "text/plain": [
       "<Figure size 640x480 with 1 Axes>"
      ]
     },
     "metadata": {},
     "output_type": "display_data"
    }
   ],
   "source": [
    "plt.imshow(seg_observations[INDEX][:,:,:])"
   ]
  },
  {
   "cell_type": "code",
   "execution_count": 4,
   "metadata": {},
   "outputs": [
    {
     "data": {
      "text/plain": [
       "(50000, 64, 64, 3)"
      ]
     },
     "execution_count": 4,
     "metadata": {},
     "output_type": "execute_result"
    }
   ],
   "source": [
    "seg_observations.shape"
   ]
  },
  {
   "cell_type": "code",
   "execution_count": 5,
   "metadata": {},
   "outputs": [
    {
     "data": {
      "text/plain": [
       "(204800000, 3)"
      ]
     },
     "execution_count": 5,
     "metadata": {},
     "output_type": "execute_result"
    }
   ],
   "source": [
    "seg_observations.reshape(-1, seg_observations.shape[3]).shape"
   ]
  },
  {
   "cell_type": "code",
   "execution_count": 6,
   "metadata": {},
   "outputs": [],
   "source": [
    "# # (10000, 64, 64, 3)\n",
    "# unique_colors = np.unique(seg_observations.reshape(-1, seg_observations.shape[3]), axis=0)\n",
    "# unique_colors, unique_colors.shape"
   ]
  },
  {
   "cell_type": "code",
   "execution_count": 7,
   "metadata": {},
   "outputs": [
    {
     "data": {
      "text/plain": [
       "(10, 3)"
      ]
     },
     "execution_count": 7,
     "metadata": {},
     "output_type": "execute_result"
    }
   ],
   "source": [
    "UNIQUE_COLORS = np.array([[  0,   0,   0],\n",
    "        [127,  63, 127],\n",
    "        [127,  63, 191],\n",
    "        [127, 127, 255],\n",
    "        [127, 191,  63],\n",
    "        [127, 255, 127],\n",
    "        [191, 255, 255],\n",
    "        [255, 127, 127],\n",
    "        [255, 191, 191],\n",
    "        [255, 191, 255]], dtype=np.uint8)[np.newaxis]\n",
    "UNIQUE_COLORS = np.squeeze(UNIQUE_COLORS, axis=0)\n",
    "UNIQUE_COLORS.shape"
   ]
  },
  {
   "cell_type": "code",
   "execution_count": 8,
   "metadata": {},
   "outputs": [
    {
     "data": {
      "image/png": "[encoded data removed]",
      "text/plain": [
       "<Figure size 1000x2000 with 10 Axes>"
      ]
     },
     "metadata": {},
     "output_type": "display_data"
    }
   ],
   "source": [
    "POOLER = nn.AvgPool2d(kernel_size=8, stride=8)\n",
    "\n",
    "def segments_to_map(segment):\n",
    "    encoded_segments = np.zeros((64, 64, len(UNIQUE_COLORS)), dtype=np.float32)\n",
    "\n",
    "    for i in range(len(UNIQUE_COLORS)):\n",
    "        mono = np.all(segment == UNIQUE_COLORS[i, :], axis=2)\n",
    "        mono = mono.astype(np.float32)\n",
    "        encoded_segments[:, :, i] = mono\n",
    "    # resize to 16x16\n",
    "    channels = POOLER(th.tensor(encoded_segments).permute(2, 0, 1)).permute(1, 2, 0).numpy()\n",
    "    return channels\n",
    "\n",
    "\n",
    "segmented = [\n",
    "    segments_to_map(seg_observations[INDEX])\n",
    "]\n",
    "\n",
    "segmented = np.array(segmented)\n",
    "segmented.shape\n",
    "\n",
    "# subplots 7x2\n",
    "fig, axs = plt.subplots(5, 2, figsize=(10, 20))\n",
    "\n",
    "for i in range(5):\n",
    "    axs[i, 1].imshow(segmented[0][:,:,2*i], vmin=0, vmax=1)\n",
    "    axs[i, 0].imshow(segmented[0][:,:,2*i+1], vmin=0, vmax=1)"
   ]
  },
  {
   "cell_type": "code",
   "execution_count": 9,
   "metadata": {},
   "outputs": [],
   "source": [
    "from vit_pytorch.extractor import Extractor\n",
    "from vit_pytorch.recorder import Recorder\n",
    "\n",
    "extractor = Extractor(vit).cpu()\n",
    "recorder = Recorder(vit).cpu()\n",
    "\n",
    "def attention_map(attention):\n",
    "    # avg attention over heads\n",
    "    attention = np.array(attention).mean(axis=1)\n",
    "\n",
    "    grid_size = int(np.sqrt(attention.shape[-1] - 1))\n",
    "    num_layers = attention.shape[0]\n",
    "    num_heads = attention.shape[1]\n",
    "    reshaped = attention.reshape(\n",
    "        (num_layers, num_heads, grid_size**2 + 1, grid_size**2 + 1)\n",
    "    )\n",
    "\n",
    "    # From Appendix D.6 in the paper ...\n",
    "    # Average the attention weights across all heads.\n",
    "    reshaped = reshaped.mean(axis=1)\n",
    "\n",
    "    # From Section 3 in https://arxiv.org/pdf/2005.00928.pdf ...\n",
    "    # To account for residual connections, we add an identity matrix to the\n",
    "    # attention matrix and re-normalize the weights.\n",
    "    reshaped = reshaped + np.eye(reshaped.shape[1])\n",
    "    reshaped = reshaped / reshaped.sum(axis=(1, 2))[:, np.newaxis, np.newaxis]\n",
    "\n",
    "    # Recursively multiply the weight matrices\n",
    "    v = reshaped[-1]\n",
    "    for n in range(1, len(reshaped)):\n",
    "        v = np.matmul(v, reshaped[-1 - n])\n",
    "\n",
    "    # Attention from the output token to the input space.\n",
    "    mask = v[0, 1:].reshape(grid_size, grid_size)\n",
    "    mask = mask / mask.max()\n",
    "    return mask.reshape(grid_size, grid_size)"
   ]
  },
  {
   "cell_type": "code",
   "execution_count": 10,
   "metadata": {},
   "outputs": [
    {
     "data": {
      "text/plain": [
       "50000"
      ]
     },
     "execution_count": 10,
     "metadata": {},
     "output_type": "execute_result"
    }
   ],
   "source": [
    "observations.shape[0]"
   ]
  },
  {
   "cell_type": "code",
   "execution_count": 11,
   "metadata": {},
   "outputs": [
    {
     "name": "stderr",
     "output_type": "stream",
     "text": [
      "100%|██████████| 25000/25000 [06:54<00:00, 60.31it/s]\n"
     ]
    }
   ],
   "source": [
    "from tqdm import tqdm\n",
    "# calculate attention map for all samples\n",
    "attention_maps = []\n",
    "BATCH_SIZE = 2\n",
    "for i in tqdm(range(0, observations.shape[0], BATCH_SIZE)):\n",
    "    end = min(i + BATCH_SIZE, observations.shape[0])\n",
    "    batch_size = end - i\n",
    "    \n",
    "    batch_obs = observations[i:end]\n",
    "    obs_batch = th.tensor(batch_obs).reshape(batch_size, 64, 64, 9).permute(0, 3, 1, 2).float().cpu()\n",
    "    \n",
    "    with th.no_grad():\n",
    "        probas_batch, attention_batch = recorder(obs_batch)\n",
    "        attention_batch = attention_batch.cpu().detach().numpy()\n",
    "\n",
    "    for j in range(batch_size):\n",
    "        attn_map = attention_map(attention_batch[j][np.newaxis])\n",
    "        attention_maps.append(attn_map)\n",
    "    \n",
    "    del obs_batch, probas_batch, attention_batch\n",
    "    if i % 100 == 0:\n",
    "        th.cuda.empty_cache()"
   ]
  },
  {
   "cell_type": "code",
   "execution_count": 12,
   "metadata": {},
   "outputs": [],
   "source": [
    "attention_maps = np.array(attention_maps)"
   ]
  },
  {
   "cell_type": "code",
   "execution_count": 13,
   "metadata": {},
   "outputs": [
    {
     "name": "stderr",
     "output_type": "stream",
     "text": [
      "100%|██████████| 50000/50000 [00:01<00:00, 45778.76it/s]\n"
     ]
    },
    {
     "data": {
      "text/plain": [
       "(50000, 8, 8, 1)"
      ]
     },
     "execution_count": 13,
     "metadata": {},
     "output_type": "execute_result"
    }
   ],
   "source": [
    "POOLER_SMALL = nn.AvgPool2d(kernel_size=2, stride=2)\n",
    "\n",
    "\n",
    "\n",
    "attention_maps_segmented = []\n",
    "for i in tqdm(range(len(attention_maps))):\n",
    "    attention_maps_segmented.append(POOLER_SMALL(th.tensor(attention_maps[i].reshape(16,16,1)).permute(2, 0, 1)).permute(1, 2, 0).numpy())\n",
    "attention_maps_segmented = np.array(attention_maps_segmented)\n",
    "attention_maps_segmented.shape"
   ]
  },
  {
   "cell_type": "code",
   "execution_count": 14,
   "metadata": {},
   "outputs": [
    {
     "data": {
      "text/plain": [
       "<matplotlib.image.AxesImage at 0x7f274d25da60>"
      ]
     },
     "execution_count": 14,
     "metadata": {},
     "output_type": "execute_result"
    },
    {
     "data": {
      "image/png": "[encoded data removed]",
      "text/plain": [
       "<Figure size 640x480 with 1 Axes>"
      ]
     },
     "metadata": {},
     "output_type": "display_data"
    }
   ],
   "source": [
    "plt.imshow(observations[INDEX][:,:,6:])"
   ]
  },
  {
   "cell_type": "code",
   "execution_count": 15,
   "metadata": {},
   "outputs": [
    {
     "data": {
      "text/plain": [
       "(1, 8, 8, 10)"
      ]
     },
     "execution_count": 15,
     "metadata": {},
     "output_type": "execute_result"
    }
   ],
   "source": [
    "segmented.shape"
   ]
  },
  {
   "cell_type": "code",
   "execution_count": 16,
   "metadata": {},
   "outputs": [
    {
     "data": {
      "text/plain": [
       "array([[[1.      , 0.      , 0.      , 0.      , 0.      , 0.      ,\n",
       "         0.      , 0.      , 0.      , 0.      ],\n",
       "        [1.      , 0.      , 0.      , 0.      , 0.      , 0.      ,\n",
       "         0.      , 0.      , 0.      , 0.      ],\n",
       "        [1.      , 0.      , 0.      , 0.      , 0.      , 0.      ,\n",
       "         0.      , 0.      , 0.      , 0.      ],\n",
       "        [1.      , 0.      , 0.      , 0.      , 0.      , 0.      ,\n",
       "         0.      , 0.      , 0.      , 0.      ],\n",
       "        [1.      , 0.      , 0.      , 0.      , 0.      , 0.      ,\n",
       "         0.      , 0.      , 0.      , 0.      ],\n",
       "        [1.      , 0.      , 0.      , 0.      , 0.      , 0.      ,\n",
       "         0.      , 0.      , 0.      , 0.      ],\n",
       "        [1.      , 0.      , 0.      , 0.      , 0.      , 0.      ,\n",
       "         0.      , 0.      , 0.      , 0.      ],\n",
       "        [1.      , 0.      , 0.      , 0.      , 0.      , 0.      ,\n",
       "         0.      , 0.      , 0.      , 0.      ]],\n",
       "\n",
       "       [[1.      , 0.      , 0.      , 0.      , 0.      , 0.      ,\n",
       "         0.      , 0.      , 0.      , 0.      ],\n",
       "        [1.      , 0.      , 0.      , 0.      , 0.      , 0.      ,\n",
       "         0.      , 0.      , 0.      , 0.      ],\n",
       "        [1.      , 0.      , 0.      , 0.      , 0.      , 0.      ,\n",
       "         0.      , 0.      , 0.      , 0.      ],\n",
       "        [1.      , 0.      , 0.      , 0.      , 0.      , 0.      ,\n",
       "         0.      , 0.      , 0.      , 0.      ],\n",
       "        [1.      , 0.      , 0.      , 0.      , 0.      , 0.      ,\n",
       "         0.      , 0.      , 0.      , 0.      ],\n",
       "        [1.      , 0.      , 0.      , 0.      , 0.      , 0.      ,\n",
       "         0.      , 0.      , 0.      , 0.      ],\n",
       "        [1.      , 0.      , 0.      , 0.      , 0.      , 0.      ,\n",
       "         0.      , 0.      , 0.      , 0.      ],\n",
       "        [1.      , 0.      , 0.      , 0.      , 0.      , 0.      ,\n",
       "         0.      , 0.      , 0.      , 0.      ]],\n",
       "\n",
       "       [[1.      , 0.      , 0.      , 0.      , 0.      , 0.      ,\n",
       "         0.      , 0.      , 0.      , 0.      ],\n",
       "        [1.      , 0.      , 0.      , 0.      , 0.      , 0.      ,\n",
       "         0.      , 0.      , 0.      , 0.      ],\n",
       "        [1.      , 0.      , 0.      , 0.      , 0.      , 0.      ,\n",
       "         0.      , 0.      , 0.      , 0.      ],\n",
       "        [1.      , 0.      , 0.      , 0.      , 0.      , 0.      ,\n",
       "         0.      , 0.      , 0.      , 0.      ],\n",
       "        [1.      , 0.      , 0.      , 0.      , 0.      , 0.      ,\n",
       "         0.      , 0.      , 0.      , 0.      ],\n",
       "        [1.      , 0.      , 0.      , 0.      , 0.      , 0.      ,\n",
       "         0.      , 0.      , 0.      , 0.      ],\n",
       "        [1.      , 0.      , 0.      , 0.      , 0.      , 0.      ,\n",
       "         0.      , 0.      , 0.      , 0.      ],\n",
       "        [1.      , 0.      , 0.      , 0.      , 0.      , 0.      ,\n",
       "         0.      , 0.      , 0.      , 0.      ]],\n",
       "\n",
       "       [[1.      , 0.      , 0.      , 0.      , 0.      , 0.      ,\n",
       "         0.      , 0.      , 0.      , 0.      ],\n",
       "        [1.      , 0.      , 0.      , 0.      , 0.      , 0.      ,\n",
       "         0.      , 0.      , 0.      , 0.      ],\n",
       "        [1.      , 0.      , 0.      , 0.      , 0.      , 0.      ,\n",
       "         0.      , 0.      , 0.      , 0.      ],\n",
       "        [1.      , 0.      , 0.      , 0.      , 0.      , 0.      ,\n",
       "         0.      , 0.      , 0.      , 0.      ],\n",
       "        [1.      , 0.      , 0.      , 0.      , 0.      , 0.      ,\n",
       "         0.      , 0.      , 0.      , 0.      ],\n",
       "        [1.      , 0.      , 0.      , 0.      , 0.      , 0.      ,\n",
       "         0.      , 0.      , 0.      , 0.      ],\n",
       "        [1.      , 0.      , 0.      , 0.      , 0.      , 0.      ,\n",
       "         0.      , 0.      , 0.      , 0.      ],\n",
       "        [1.      , 0.      , 0.      , 0.      , 0.      , 0.      ,\n",
       "         0.      , 0.      , 0.      , 0.      ]],\n",
       "\n",
       "       [[1.      , 0.      , 0.      , 0.      , 0.      , 0.      ,\n",
       "         0.      , 0.      , 0.      , 0.      ],\n",
       "        [1.      , 0.      , 0.      , 0.      , 0.      , 0.      ,\n",
       "         0.      , 0.      , 0.      , 0.      ],\n",
       "        [1.      , 0.      , 0.      , 0.      , 0.      , 0.      ,\n",
       "         0.      , 0.      , 0.      , 0.      ],\n",
       "        [1.      , 0.      , 0.      , 0.      , 0.      , 0.      ,\n",
       "         0.      , 0.      , 0.      , 0.      ],\n",
       "        [1.      , 0.      , 0.      , 0.      , 0.      , 0.      ,\n",
       "         0.      , 0.      , 0.      , 0.      ],\n",
       "        [1.      , 0.      , 0.      , 0.      , 0.      , 0.      ,\n",
       "         0.      , 0.      , 0.      , 0.      ],\n",
       "        [1.      , 0.      , 0.      , 0.      , 0.      , 0.      ,\n",
       "         0.      , 0.      , 0.      , 0.      ],\n",
       "        [1.      , 0.      , 0.      , 0.      , 0.      , 0.      ,\n",
       "         0.      , 0.      , 0.      , 0.      ]],\n",
       "\n",
       "       [[1.      , 0.      , 0.      , 0.      , 0.      , 0.      ,\n",
       "         0.      , 0.      , 0.      , 0.      ],\n",
       "        [1.      , 0.      , 0.      , 0.      , 0.      , 0.      ,\n",
       "         0.      , 0.      , 0.      , 0.      ],\n",
       "        [1.      , 0.      , 0.      , 0.      , 0.      , 0.      ,\n",
       "         0.      , 0.      , 0.      , 0.      ],\n",
       "        [1.      , 0.      , 0.      , 0.      , 0.      , 0.      ,\n",
       "         0.      , 0.      , 0.      , 0.      ],\n",
       "        [1.      , 0.      , 0.      , 0.      , 0.      , 0.      ,\n",
       "         0.      , 0.      , 0.      , 0.      ],\n",
       "        [1.      , 0.      , 0.      , 0.      , 0.      , 0.      ,\n",
       "         0.      , 0.      , 0.      , 0.      ],\n",
       "        [1.      , 0.      , 0.      , 0.      , 0.      , 0.      ,\n",
       "         0.      , 0.      , 0.      , 0.      ],\n",
       "        [0.921875, 0.      , 0.078125, 0.      , 0.      , 0.      ,\n",
       "         0.      , 0.      , 0.      , 0.      ]],\n",
       "\n",
       "       [[0.625   , 0.      , 0.      , 0.      , 0.      , 0.140625,\n",
       "         0.      , 0.      , 0.234375, 0.      ],\n",
       "        [0.625   , 0.      , 0.      , 0.140625, 0.      , 0.      ,\n",
       "         0.      , 0.      , 0.234375, 0.      ],\n",
       "        [0.765625, 0.      , 0.      , 0.      , 0.      , 0.      ,\n",
       "         0.      , 0.      , 0.234375, 0.      ],\n",
       "        [0.796875, 0.      , 0.      , 0.      , 0.      , 0.      ,\n",
       "         0.      , 0.      , 0.203125, 0.      ],\n",
       "        [0.875   , 0.      , 0.      , 0.      , 0.      , 0.      ,\n",
       "         0.      , 0.      , 0.125   , 0.      ],\n",
       "        [0.71875 , 0.      , 0.      , 0.      , 0.      , 0.      ,\n",
       "         0.      , 0.      , 0.28125 , 0.      ],\n",
       "        [0.859375, 0.      , 0.      , 0.      , 0.      , 0.      ,\n",
       "         0.      , 0.      , 0.140625, 0.      ],\n",
       "        [0.484375, 0.      , 0.203125, 0.      , 0.1875  , 0.      ,\n",
       "         0.      , 0.      , 0.125   , 0.      ]],\n",
       "\n",
       "       [[1.      , 0.      , 0.      , 0.      , 0.      , 0.      ,\n",
       "         0.      , 0.      , 0.      , 0.      ],\n",
       "        [1.      , 0.      , 0.      , 0.      , 0.      , 0.      ,\n",
       "         0.      , 0.      , 0.      , 0.      ],\n",
       "        [1.      , 0.      , 0.      , 0.      , 0.      , 0.      ,\n",
       "         0.      , 0.      , 0.      , 0.      ],\n",
       "        [0.953125, 0.046875, 0.      , 0.      , 0.      , 0.      ,\n",
       "         0.      , 0.      , 0.      , 0.      ],\n",
       "        [0.859375, 0.140625, 0.      , 0.      , 0.      , 0.      ,\n",
       "         0.      , 0.      , 0.      , 0.      ],\n",
       "        [1.      , 0.      , 0.      , 0.      , 0.      , 0.      ,\n",
       "         0.      , 0.      , 0.      , 0.      ],\n",
       "        [1.      , 0.      , 0.      , 0.      , 0.      , 0.      ,\n",
       "         0.      , 0.      , 0.      , 0.      ],\n",
       "        [1.      , 0.      , 0.      , 0.      , 0.      , 0.      ,\n",
       "         0.      , 0.      , 0.      , 0.      ]]], dtype=float32)"
      ]
     },
     "execution_count": 16,
     "metadata": {},
     "output_type": "execute_result"
    }
   ],
   "source": [
    "segmented[0]"
   ]
  },
  {
   "cell_type": "markdown",
   "metadata": {},
   "source": [
    "# Figure out what each class means"
   ]
  },
  {
   "cell_type": "code",
   "execution_count": null,
   "metadata": {},
   "outputs": [],
   "source": []
  },
  {
   "cell_type": "code",
   "execution_count": 17,
   "metadata": {},
   "outputs": [
    {
     "data": {
      "text/plain": [
       "(8, 8, 10)"
      ]
     },
     "execution_count": 17,
     "metadata": {},
     "output_type": "execute_result"
    }
   ],
   "source": [
    "segmented[0].shape"
   ]
  },
  {
   "cell_type": "code",
   "execution_count": 18,
   "metadata": {},
   "outputs": [
    {
     "name": "stderr",
     "output_type": "stream",
     "text": [
      "100%|██████████| 50000/50000 [00:54<00:00, 916.28it/s] \n"
     ]
    },
    {
     "data": {
      "text/plain": [
       "(50000, 8, 8, 10)"
      ]
     },
     "execution_count": 18,
     "metadata": {},
     "output_type": "execute_result"
    }
   ],
   "source": [
    "import tqdm\n",
    "\n",
    "segmented = []\n",
    "for i in tqdm.tqdm(range(len(seg_observations))):\n",
    "    segmented.append(segments_to_map(seg_observations[i]))\n",
    "segmented = np.array(segmented)\n",
    "segmented.shape"
   ]
  },
  {
   "cell_type": "code",
   "execution_count": 19,
   "metadata": {},
   "outputs": [
    {
     "name": "stdout",
     "output_type": "stream",
     "text": [
      "[110, 110, 110, 110, 110, 110, 24, 22, 110, 20]\n"
     ]
    }
   ],
   "source": [
    "# find for each segment class an example of observation, and segment (2x14) plots\n",
    "\n",
    "# find one sample in segmented dataset where the given segment class is present\n",
    "def find_segment_class_in_dataset(seg_class):\n",
    "    if np.sum(segmented[INDEX][:,:,seg_class]) > 0:\n",
    "        return INDEX\n",
    "    for i in range(segmented.shape[0]):\n",
    "        if np.sum(segmented[i][:,:,seg_class]) > 0:\n",
    "            return i\n",
    "    return -1\n",
    "\n",
    "examples = []\n",
    "\n",
    "for i in range(10):\n",
    "    index = find_segment_class_in_dataset(i)\n",
    "    if index != -1:\n",
    "        examples.append(index)\n",
    "    else:\n",
    "        examples.append(-1)\n",
    "\n",
    "print(examples)"
   ]
  },
  {
   "cell_type": "code",
   "execution_count": 20,
   "metadata": {},
   "outputs": [
    {
     "data": {
      "image/png": "[encoded data removed]",
      "text/plain": [
       "<Figure size 1000x2000 with 30 Axes>"
      ]
     },
     "metadata": {},
     "output_type": "display_data"
    }
   ],
   "source": [
    "# show examples\n",
    "fig, axs = plt.subplots(10, 3, figsize=(10, 20))\n",
    "\n",
    "for i in range(10):\n",
    "    if examples[i] != -1:\n",
    "        axs[i, 0].imshow(observations[examples[i]][:,:,6:])\n",
    "        axs[i, 1].imshow(segmented[examples[i]][:,:,i], vmin=0, vmax=1)\n",
    "        axs[i, 2].imshow(attention_maps_segmented[examples[i]][:,:,:])\n",
    "    else:\n",
    "        axs[i, 0].imshow(np.zeros((64, 64, 3), dtype=np.uint8))\n",
    "        axs[i, 1].imshow(np.zeros((64, 64, 3), dtype=np.uint8))\n",
    "        axs[i, 2].imshow(np.zeros((64, 64, 3), dtype=np.uint8))"
   ]
  },
  {
   "cell_type": "code",
   "execution_count": 21,
   "metadata": {},
   "outputs": [],
   "source": [
    "features_names = [\n",
    "    \"bg\",\n",
    "    \"enemy\",\n",
    "    \"enemy_bullet\",\n",
    "    \"enemy2\",\n",
    "    \"enemy_fire\",\n",
    "    \"player\",\n",
    "    \"explosion\",\n",
    "    \"enemy_fire\",\n",
    "    \"player_bullet\",\n",
    "    \"enemy_bullet\",\n",
    "]"
   ]
  },
  {
   "cell_type": "code",
   "execution_count": 22,
   "metadata": {},
   "outputs": [],
   "source": [
    "from sklearn import tree\n",
    "from sklearn.model_selection import GridSearchCV, train_test_split\n",
    "from sklearn.metrics import accuracy_score, classification_report, confusion_matrix, ConfusionMatrixDisplay\n",
    "from sklearn.pipeline import Pipeline"
   ]
  },
  {
   "cell_type": "code",
   "execution_count": 23,
   "metadata": {},
   "outputs": [
    {
     "name": "stdout",
     "output_type": "stream",
     "text": [
      "(50000, 8, 8, 1)\n",
      "(50000, 8, 8, 10)\n"
     ]
    }
   ],
   "source": [
    "print(attention_maps_segmented.shape)\n",
    "print(segmented.shape)"
   ]
  },
  {
   "cell_type": "code",
   "execution_count": 24,
   "metadata": {},
   "outputs": [
    {
     "data": {
      "text/plain": [
       "((50000, 100), (50000,))"
      ]
     },
     "execution_count": 24,
     "metadata": {},
     "output_type": "execute_result"
    }
   ],
   "source": [
    "# flatten the segmented and attention maps. take 16 features from segmented where attention map is highest.\n",
    "# Flatten the attention maps for easier indexing\n",
    "\n",
    "\n",
    "def get_featutures(NO_FEATURES=16):\n",
    "    num_samples = len(attention_maps_segmented)\n",
    "    flattened_attention = np.squeeze(attention_maps_segmented, axis=-1).reshape(num_samples, -1)  # Shape: (50000, 64)\n",
    "\n",
    "    # Create array to store the features\n",
    "    X = np.zeros((num_samples, NO_FEATURES * 10), dtype=np.float32)\n",
    "    y = actions  # Using actions as the target variable\n",
    "\n",
    "    # For each sample, find the 16 positions with highest attention\n",
    "    for i in range(len(flattened_attention)):\n",
    "        # Get indices of top 16 attention values\n",
    "        top_indices = np.argsort(flattened_attention[i])[-NO_FEATURES:]\n",
    "        \n",
    "        # Convert flattened indices back to 2D positions\n",
    "        positions = [(idx // 8, idx % 8) for idx in top_indices]\n",
    "        \n",
    "        # Extract the segmented features at those positions and store in X\n",
    "        feature_idx = 0\n",
    "        for row, col in positions:\n",
    "            X[i, feature_idx:feature_idx + 10] = segmented[i, row, col]\n",
    "            feature_idx += 10\n",
    "\n",
    "    \n",
    "    return X, y\n",
    "X, y = get_featutures(NO_FEATURES=10)\n",
    "X.shape, y.shape\n"
   ]
  },
  {
   "cell_type": "code",
   "execution_count": 25,
   "metadata": {},
   "outputs": [
    {
     "data": {
      "text/plain": [
       "((26265,), (26265, 100))"
      ]
     },
     "execution_count": 25,
     "metadata": {},
     "output_type": "execute_result"
    }
   ],
   "source": [
    "actions = np.array(actions)\n",
    "\n",
    "# [4] NOOP\n",
    "# [5] UP\n",
    "# [3] DOWN\n",
    "# [1] LEFT\n",
    "# [7] RIGHT\n",
    "# [11] FIRE\n",
    "# [12] FIRE\n",
    "# [10] FIRE BACK\n",
    "# [9]  FIRE \n",
    "# other ignored\n",
    "\n",
    "# collapes actions into 5 classes (UP, DOWN, LEFT, RIGHT, [FIRE, FIRE BACK])\n",
    "action_map = {\n",
    "    0: 4,\n",
    "    1: 1,\n",
    "    2: 4,\n",
    "    3: 3,\n",
    "    4: 4,\n",
    "    5: 5,\n",
    "    6: 4,\n",
    "    7: 7,\n",
    "    8: 4,\n",
    "    9: 9,\n",
    "    10: 9,\n",
    "    11: 9,\n",
    "    12: 9,\n",
    "    13: 4,\n",
    "    14: 4,\n",
    "}\n",
    "\n",
    "# collapse actions\n",
    "y_collapsed = np.zeros(y.shape, dtype=np.int32)\n",
    "for i in range(len(y)):\n",
    "    y_collapsed[i] = action_map[y[i]]\n",
    "\n",
    "x_collapsed = np.zeros((X.shape[0], X.shape[1]), dtype=np.float32)\n",
    "for i in range(len(X)):\n",
    "    x_collapsed[i] = X[i]\n",
    "\n",
    "y_collapsed_f = y_collapsed[y_collapsed != 4]\n",
    "x_collapsed_f = x_collapsed[y_collapsed != 4]\n",
    "\n",
    "y_collapsed_f.shape, x_collapsed_f.shape\n"
   ]
  },
  {
   "cell_type": "code",
   "execution_count": 26,
   "metadata": {},
   "outputs": [
    {
     "name": "stdout",
     "output_type": "stream",
     "text": [
      "Accuracy: 0.7915476870359794\n",
      "              precision    recall  f1-score   support\n",
      "\n",
      "           1       0.00      0.00      0.00       154\n",
      "           3       0.43      0.03      0.06       632\n",
      "           5       0.42      0.07      0.12       297\n",
      "           7       0.00      0.00      0.00        32\n",
      "           9       0.80      0.99      0.89      4138\n",
      "\n",
      "    accuracy                           0.79      5253\n",
      "   macro avg       0.33      0.22      0.21      5253\n",
      "weighted avg       0.70      0.79      0.71      5253\n",
      "\n",
      "Report Train\n",
      "              precision    recall  f1-score   support\n",
      "\n",
      "           1       0.00      0.00      0.00       646\n",
      "           3       0.42      0.03      0.06      2537\n",
      "           5       0.58      0.11      0.18      1122\n",
      "           7       0.00      0.00      0.00       168\n",
      "           9       0.80      1.00      0.89     16539\n",
      "\n",
      "    accuracy                           0.79     21012\n",
      "   macro avg       0.36      0.23      0.23     21012\n",
      "weighted avg       0.71      0.79      0.71     21012\n",
      "\n"
     ]
    },
    {
     "name": "stderr",
     "output_type": "stream",
     "text": [
      "/home/lord225/miniconda3/envs/tf/lib/python3.9/site-packages/sklearn/metrics/_classification.py:1565: UndefinedMetricWarning: Precision is ill-defined and being set to 0.0 in labels with no predicted samples. Use `zero_division` parameter to control this behavior.\n",
      "  _warn_prf(average, modifier, f\"{metric.capitalize()} is\", len(result))\n",
      "/home/lord225/miniconda3/envs/tf/lib/python3.9/site-packages/sklearn/metrics/_classification.py:1565: UndefinedMetricWarning: Precision is ill-defined and being set to 0.0 in labels with no predicted samples. Use `zero_division` parameter to control this behavior.\n",
      "  _warn_prf(average, modifier, f\"{metric.capitalize()} is\", len(result))\n",
      "/home/lord225/miniconda3/envs/tf/lib/python3.9/site-packages/sklearn/metrics/_classification.py:1565: UndefinedMetricWarning: Precision is ill-defined and being set to 0.0 in labels with no predicted samples. Use `zero_division` parameter to control this behavior.\n",
      "  _warn_prf(average, modifier, f\"{metric.capitalize()} is\", len(result))\n",
      "/home/lord225/miniconda3/envs/tf/lib/python3.9/site-packages/sklearn/metrics/_classification.py:1565: UndefinedMetricWarning: Precision is ill-defined and being set to 0.0 in labels with no predicted samples. Use `zero_division` parameter to control this behavior.\n",
      "  _warn_prf(average, modifier, f\"{metric.capitalize()} is\", len(result))\n",
      "/home/lord225/miniconda3/envs/tf/lib/python3.9/site-packages/sklearn/metrics/_classification.py:1565: UndefinedMetricWarning: Precision is ill-defined and being set to 0.0 in labels with no predicted samples. Use `zero_division` parameter to control this behavior.\n",
      "  _warn_prf(average, modifier, f\"{metric.capitalize()} is\", len(result))\n",
      "/home/lord225/miniconda3/envs/tf/lib/python3.9/site-packages/sklearn/metrics/_classification.py:1565: UndefinedMetricWarning: Precision is ill-defined and being set to 0.0 in labels with no predicted samples. Use `zero_division` parameter to control this behavior.\n",
      "  _warn_prf(average, modifier, f\"{metric.capitalize()} is\", len(result))\n"
     ]
    }
   ],
   "source": [
    "# train tree now\n",
    "model = tree.DecisionTreeClassifier(max_leaf_nodes=50, max_depth=5)\n",
    "\n",
    "\n",
    "\n",
    "X_train, X_test, y_train, y_test = train_test_split(x_collapsed_f, y_collapsed_f, test_size=0.2, random_state=42)\n",
    "\n",
    "model = model.fit(X_train, y_train)\n",
    "y_pred = model.predict(X_test)\n",
    "y_pred_train = model.predict(X_train)\n",
    "print(\"Accuracy:\", accuracy_score(y_test, y_pred))\n",
    "print(classification_report(y_test, y_pred))\n",
    "print(\"Report Train\")\n",
    "print(classification_report(y_train, y_pred_train))"
   ]
  },
  {
   "cell_type": "code",
   "execution_count": 27,
   "metadata": {},
   "outputs": [
    {
     "name": "stdout",
     "output_type": "stream",
     "text": [
      "Accuracy: 0.7774604987626118\n",
      "Accuracy: 0.7363411383971065\n",
      "Accuracy: 0.6898914905768132\n",
      "Accuracy: 0.6767561393489434\n",
      "Accuracy: 0.6843708357129259\n",
      "Accuracy: 0.6778983438035409\n",
      "Accuracy: 0.6843708357129259\n",
      "Accuracy: 0.6837997334856273\n",
      "Accuracy: 0.6801827527127355\n",
      "Accuracy: 0.6881781838949171\n",
      "Accuracy: 0.6767561393489434\n",
      "Accuracy: 0.6862745098039216\n",
      "Accuracy: 0.6807538549400343\n",
      "Accuracy: 0.6879878164858176\n",
      "Accuracy: 0.6986483913953931\n",
      "Accuracy: 0.6917951646678089\n",
      "Accuracy: 0.6887492861222159\n",
      "Accuracy: 0.6858937749857225\n",
      "Accuracy: 0.6815153245764325\n",
      "Accuracy: 0.6881781838949171\n",
      "Accuracy: 0.6836093660765277\n",
      "Accuracy: 0.6887492861222159\n",
      "Accuracy: 0.687797449076718\n",
      "Accuracy: 0.6868456120312203\n",
      "Accuracy: 0.6815153245764325\n",
      "Accuracy: 0.6805634875309347\n",
      "Accuracy: 0.6839901008947268\n",
      "Accuracy: 0.6866552446221207\n",
      "Accuracy: 0.6931277365315058\n",
      "Accuracy: 0.6845612031220255\n",
      "Accuracy: 0.6866552446221207\n",
      "Accuracy: 0.6853226727584237\n"
     ]
    }
   ],
   "source": [
    "# train this model on features from 1 to 32\n",
    "# metrics\n",
    "reports=  []\n",
    "for i in range(1, 33):\n",
    "    X, y = get_featutures(NO_FEATURES=i)\n",
    "    y_collapsed = np.zeros(y.shape, dtype=np.int32)\n",
    "    for i in range(len(y)):\n",
    "        y_collapsed[i] = action_map[y[i]]\n",
    "\n",
    "    x_collapsed = np.zeros((X.shape[0], X.shape[1]), dtype=np.float32)\n",
    "    for i in range(len(X)):\n",
    "        x_collapsed[i] = X[i]\n",
    "\n",
    "    y_collapsed_f = y_collapsed[y_collapsed != 4]\n",
    "    x_collapsed_f = x_collapsed[y_collapsed != 4]   \n",
    "    \n",
    "    model = tree.DecisionTreeClassifier()\n",
    "    X_train, X_test, y_train, y_test = train_test_split(x_collapsed_f, y_collapsed_f, test_size=0.2, random_state=42)\n",
    "\n",
    "    model = model.fit(X_train, y_train)\n",
    "    y_pred = model.predict(X_test)\n",
    "    y_pred_train = model.predict(X_train)\n",
    "\n",
    "    report = classification_report(y_test, y_pred, output_dict=True)\n",
    "    reports.append(report)\n",
    "    print(\"Accuracy:\", accuracy_score(y_test, y_pred))"
   ]
  },
  {
   "cell_type": "code",
   "execution_count": 28,
   "metadata": {},
   "outputs": [
    {
     "data": {
      "image/png": "[encoded data removed]",
      "text/plain": [
       "<Figure size 1000x500 with 1 Axes>"
      ]
     },
     "metadata": {},
     "output_type": "display_data"
    }
   ],
   "source": [
    "# plot f1\n",
    "import matplotlib.pyplot as plt\n",
    "\n",
    "plt.figure(figsize=(10, 5))\n",
    "plt.plot(range(1, 33), [report[\"macro avg\"][\"f1-score\"] for report in reports], label=\"F1 Score\")\n",
    "plt.xlabel(\"Number of Features\")\n",
    "plt.ylabel(\"F1 Score\")\n",
    "plt.title(\"F1 Score vs Number of Features\")\n",
    "plt.legend()\n",
    "plt.grid()\n",
    "plt.show()"
   ]
  },
  {
   "cell_type": "code",
   "execution_count": 37,
   "metadata": {},
   "outputs": [
    {
     "data": {
      "image/png": "[encoded data removed]",
      "text/plain": [
       "<Figure size 1000x500 with 1 Axes>"
      ]
     },
     "metadata": {},
     "output_type": "display_data"
    }
   ],
   "source": [
    "# plot Accuracy\n",
    "import matplotlib.pyplot as plt\n",
    "plt.figure(figsize=(10, 5))\n",
    "plt.plot(range(1, 33), [report[\"accuracy\"] for report in reports], label=\"Accuracy\")\n",
    "plt.xlabel(\"Number of Features\")\n",
    "plt.ylabel(\"Accuracy\")\n",
    "plt.title(\"Accuracy vs Number of Features\")\n",
    "plt.legend()\n",
    "plt.grid()\n",
    "plt.show()"
   ]
  },
  {
   "cell_type": "code",
   "execution_count": 29,
   "metadata": {},
   "outputs": [
    {
     "name": "stdout",
     "output_type": "stream",
     "text": [
      "{3: 6.505263157894737, 4: 0.8282223098147419, 5: 3.7454545454545456}\n",
      "{3: 6.505263157894737, 4: 0.8282223098147419, 5: 3.7454545454545456}\n"
     ]
    }
   ],
   "source": [
    "actions = np.array(actions)\n",
    "\n",
    "action_map = {\n",
    "    0: 4,\n",
    "    1: 4,\n",
    "    2: 4,\n",
    "    3: 3,\n",
    "    4: 4,\n",
    "    5: 5,\n",
    "    6: 4,\n",
    "    7: 4,\n",
    "    8: 4,\n",
    "    9: 4,\n",
    "    10: 4,\n",
    "    11: 4,\n",
    "    12: 4,\n",
    "    13: 4,\n",
    "    14: 4,\n",
    "}\n",
    "actions_maped = np.zeros(actions.shape, dtype=np.int32)\n",
    "for i in range(len(actions)):\n",
    "    actions_maped[i] = action_map[actions[i]]\n",
    "\n",
    "X_up_down = segmented.reshape(-1, segmented.shape[1]*segmented.shape[2]*segmented.shape[3])\n",
    "y_up_down = actions_maped\n",
    "# weight so that all classes are equal\n",
    "unique_classes = np.unique(y_up_down, return_counts=True)\n",
    "# calculate balance weights\n",
    "from sklearn.utils.class_weight import compute_class_weight\n",
    "class_weights_up_down = compute_class_weight(\n",
    "    class_weight='balanced',\n",
    "    classes=np.unique(y_train),\n",
    "    y=y_train\n",
    ")\n",
    "class_weights_up_down = {\n",
    "    3: class_weights_up_down[0],\n",
    "    4: class_weights_up_down[1]/2,\n",
    "    5: class_weights_up_down[2],\n",
    "}\n",
    "print(class_weights_up_down)\n",
    "print(class_weights_up_down)\n",
    "\n",
    "# LEFT/RIGHT NONE dataset\n",
    "action_map = {\n",
    "    0: 4,\n",
    "    1: 1,\n",
    "    2: 4,\n",
    "    3: 4,\n",
    "    4: 4,\n",
    "    5: 5,\n",
    "    6: 4,\n",
    "    7: 7,\n",
    "    8: 4,\n",
    "    9: 4,\n",
    "    10: 4,\n",
    "    11: 4,\n",
    "    12: 4,\n",
    "    13: 4,\n",
    "    14: 4,\n",
    "}\n",
    "\n",
    "actions_maped = np.zeros(actions.shape, dtype=np.int32)\n",
    "for i in range(len(actions)):\n",
    "    actions_maped[i] = action_map[actions[i]]\n",
    "actions_filted = actions_maped[actions_maped != 4]\n",
    "segmented_filtred = segmented[actions_maped != 4]\n",
    "\n",
    "X_left_right = segmented_filtred.reshape(-1, segmented_filtred.shape[1]*segmented_filtred.shape[2]*segmented_filtred.shape[3])\n",
    "y_left_right = actions_filted\n",
    "\n",
    "# weight so that all classes are equal\n",
    "unique_classes = np.unique(y_left_right, return_counts=True)\n",
    "# calculate balance weights\n",
    "from sklearn.utils.class_weight import compute_class_weight\n",
    "class_weights_left_right = compute_class_weight(\n",
    "    class_weight='balanced',\n",
    "    classes=np.unique(y_train),\n",
    "    y=y_train\n",
    ")\n",
    "\n",
    "# FIRE NONE dataset\n",
    "action_map = {\n",
    "    0: 4,\n",
    "    1: 4,\n",
    "    2: 4,\n",
    "    3: 4,\n",
    "    4: 4,\n",
    "    5: 4,\n",
    "    6: 4,\n",
    "    7: 4,\n",
    "    8: 4,\n",
    "    9: 9,\n",
    "    10: 9,\n",
    "    11: 9,\n",
    "    12: 9,\n",
    "    13: 4,\n",
    "    14: 4,\n",
    "}\n",
    "actions_maped = np.zeros(actions.shape, dtype=np.int32)\n",
    "for i in range(len(actions)):\n",
    "    actions_maped[i] = action_map[actions[i]]\n",
    "\n",
    "actions_filted = actions_maped[actions_maped != 4]\n",
    "segmented_filtred = segmented[actions_maped != 4]\n",
    "X_fire = segmented_filtred.reshape(-1, segmented_filtred.shape[1]*segmented_filtred.shape[2]*segmented_filtred.shape[3])\n",
    "y_fire = actions_filted"
   ]
  },
  {
   "cell_type": "code",
   "execution_count": 30,
   "metadata": {},
   "outputs": [],
   "source": [
    "import pandas as pd"
   ]
  },
  {
   "cell_type": "code",
   "execution_count": 31,
   "metadata": {},
   "outputs": [
    {
     "name": "stdout",
     "output_type": "stream",
     "text": [
      "Fitting 5 folds for each of 27 candidates, totalling 135 fits\n"
     ]
    },
    {
     "name": "stderr",
     "output_type": "stream",
     "text": [
      "/home/lord225/miniconda3/envs/tf/lib/python3.9/site-packages/sklearn/model_selection/_validation.py:528: FitFailedWarning: \n",
      "15 fits failed out of a total of 135.\n",
      "The score on these train-test partitions for these parameters will be set to nan.\n",
      "If these failures are not expected, you can try to debug them by setting error_score='raise'.\n",
      "\n",
      "Below are more details about the failures:\n",
      "--------------------------------------------------------------------------------\n",
      "15 fits failed with the following error:\n",
      "Traceback (most recent call last):\n",
      "  File \"/home/lord225/miniconda3/envs/tf/lib/python3.9/site-packages/sklearn/model_selection/_validation.py\", line 866, in _fit_and_score\n",
      "    estimator.fit(X_train, y_train, **fit_params)\n",
      "  File \"/home/lord225/miniconda3/envs/tf/lib/python3.9/site-packages/sklearn/base.py\", line 1382, in wrapper\n",
      "    estimator._validate_params()\n",
      "  File \"/home/lord225/miniconda3/envs/tf/lib/python3.9/site-packages/sklearn/base.py\", line 436, in _validate_params\n",
      "    validate_parameter_constraints(\n",
      "  File \"/home/lord225/miniconda3/envs/tf/lib/python3.9/site-packages/sklearn/utils/_param_validation.py\", line 98, in validate_parameter_constraints\n",
      "    raise InvalidParameterError(\n",
      "sklearn.utils._param_validation.InvalidParameterError: The 'max_leaf_nodes' parameter of DecisionTreeClassifier must be an int in the range [2, inf) or None. Got 1 instead.\n",
      "\n",
      "  warnings.warn(some_fits_failed_message, FitFailedWarning)\n",
      "/home/lord225/miniconda3/envs/tf/lib/python3.9/site-packages/sklearn/model_selection/_search.py:1108: UserWarning: One or more of the test scores are non-finite: [       nan 0.3173046  0.3173046  0.3173046  0.3173046  0.3173046\n",
      " 0.3173046  0.3173046  0.3173046         nan 0.3173046  0.3173046\n",
      " 0.3173046  0.3173046  0.3173046  0.3173046  0.3173046  0.3173046\n",
      "        nan 0.3173046  0.3173046  0.3173046  0.3173046  0.35436351\n",
      " 0.35436351 0.35425038 0.35425038]\n",
      "  warnings.warn(\n"
     ]
    },
    {
     "data": {
      "application/vnd.microsoft.datawrangler.viewer.v0+json": {
       "columns": [
        {
         "name": "index",
         "rawType": "int64",
         "type": "integer"
        },
        {
         "name": "params",
         "rawType": "object",
         "type": "string"
        },
        {
         "name": "mean_test_score",
         "rawType": "float64",
         "type": "float"
        },
        {
         "name": "rank_test_score",
         "rawType": "int32",
         "type": "integer"
        }
       ],
       "conversionMethod": "pd.DataFrame",
       "ref": "6c270920-3f73-4adf-8ae2-60d276987db9",
       "rows": [
        [
         "23",
         "{'max_depth': 5, 'max_leaf_nodes': 6}",
         "0.35436350505476216",
         "1"
        ],
        [
         "24",
         "{'max_depth': 5, 'max_leaf_nodes': 7}",
         "0.35436350505476216",
         "1"
        ],
        [
         "25",
         "{'max_depth': 5, 'max_leaf_nodes': 8}",
         "0.3542503825440204",
         "3"
        ],
        [
         "26",
         "{'max_depth': 5, 'max_leaf_nodes': 9}",
         "0.3542503825440204",
         "3"
        ],
        [
         "1",
         "{'max_depth': 2, 'max_leaf_nodes': 2}",
         "0.3173046015668596",
         "5"
        ],
        [
         "10",
         "{'max_depth': 3, 'max_leaf_nodes': 2}",
         "0.3173046015668596",
         "5"
        ],
        [
         "19",
         "{'max_depth': 5, 'max_leaf_nodes': 2}",
         "0.3173046015668596",
         "5"
        ],
        [
         "2",
         "{'max_depth': 2, 'max_leaf_nodes': 3}",
         "0.3173046015668596",
         "5"
        ],
        [
         "11",
         "{'max_depth': 3, 'max_leaf_nodes': 3}",
         "0.3173046015668596",
         "5"
        ],
        [
         "20",
         "{'max_depth': 5, 'max_leaf_nodes': 3}",
         "0.3173046015668596",
         "5"
        ],
        [
         "3",
         "{'max_depth': 2, 'max_leaf_nodes': 4}",
         "0.3173046015668596",
         "5"
        ],
        [
         "12",
         "{'max_depth': 3, 'max_leaf_nodes': 4}",
         "0.3173046015668596",
         "5"
        ],
        [
         "21",
         "{'max_depth': 5, 'max_leaf_nodes': 4}",
         "0.3173046015668596",
         "5"
        ],
        [
         "4",
         "{'max_depth': 2, 'max_leaf_nodes': 5}",
         "0.3173046015668596",
         "5"
        ],
        [
         "13",
         "{'max_depth': 3, 'max_leaf_nodes': 5}",
         "0.3173046015668596",
         "5"
        ],
        [
         "22",
         "{'max_depth': 5, 'max_leaf_nodes': 5}",
         "0.3173046015668596",
         "5"
        ],
        [
         "5",
         "{'max_depth': 2, 'max_leaf_nodes': 6}",
         "0.3173046015668596",
         "5"
        ],
        [
         "14",
         "{'max_depth': 3, 'max_leaf_nodes': 6}",
         "0.3173046015668596",
         "5"
        ],
        [
         "6",
         "{'max_depth': 2, 'max_leaf_nodes': 7}",
         "0.3173046015668596",
         "5"
        ],
        [
         "15",
         "{'max_depth': 3, 'max_leaf_nodes': 7}",
         "0.3173046015668596",
         "5"
        ],
        [
         "7",
         "{'max_depth': 2, 'max_leaf_nodes': 8}",
         "0.3173046015668596",
         "5"
        ],
        [
         "16",
         "{'max_depth': 3, 'max_leaf_nodes': 8}",
         "0.3173046015668596",
         "5"
        ],
        [
         "8",
         "{'max_depth': 2, 'max_leaf_nodes': 9}",
         "0.3173046015668596",
         "5"
        ],
        [
         "17",
         "{'max_depth': 3, 'max_leaf_nodes': 9}",
         "0.3173046015668596",
         "5"
        ],
        [
         "0",
         "{'max_depth': 2, 'max_leaf_nodes': 1}",
         null,
         "25"
        ],
        [
         "9",
         "{'max_depth': 3, 'max_leaf_nodes': 1}",
         null,
         "25"
        ],
        [
         "18",
         "{'max_depth': 5, 'max_leaf_nodes': 1}",
         null,
         "25"
        ]
       ],
       "shape": {
        "columns": 3,
        "rows": 27
       }
      },
      "text/html": [
       "<div>\n",
       "<style scoped>\n",
       "    .dataframe tbody tr th:only-of-type {\n",
       "        vertical-align: middle;\n",
       "    }\n",
       "\n",
       "    .dataframe tbody tr th {\n",
       "        vertical-align: top;\n",
       "    }\n",
       "\n",
       "    .dataframe thead th {\n",
       "        text-align: right;\n",
       "    }\n",
       "</style>\n",
       "<table border=\"1\" class=\"dataframe\">\n",
       "  <thead>\n",
       "    <tr style=\"text-align: right;\">\n",
       "      <th></th>\n",
       "      <th>params</th>\n",
       "      <th>mean_test_score</th>\n",
       "      <th>rank_test_score</th>\n",
       "    </tr>\n",
       "  </thead>\n",
       "  <tbody>\n",
       "    <tr>\n",
       "      <th>23</th>\n",
       "      <td>{'max_depth': 5, 'max_leaf_nodes': 6}</td>\n",
       "      <td>0.354364</td>\n",
       "      <td>1</td>\n",
       "    </tr>\n",
       "    <tr>\n",
       "      <th>24</th>\n",
       "      <td>{'max_depth': 5, 'max_leaf_nodes': 7}</td>\n",
       "      <td>0.354364</td>\n",
       "      <td>1</td>\n",
       "    </tr>\n",
       "    <tr>\n",
       "      <th>25</th>\n",
       "      <td>{'max_depth': 5, 'max_leaf_nodes': 8}</td>\n",
       "      <td>0.354250</td>\n",
       "      <td>3</td>\n",
       "    </tr>\n",
       "    <tr>\n",
       "      <th>26</th>\n",
       "      <td>{'max_depth': 5, 'max_leaf_nodes': 9}</td>\n",
       "      <td>0.354250</td>\n",
       "      <td>3</td>\n",
       "    </tr>\n",
       "    <tr>\n",
       "      <th>1</th>\n",
       "      <td>{'max_depth': 2, 'max_leaf_nodes': 2}</td>\n",
       "      <td>0.317305</td>\n",
       "      <td>5</td>\n",
       "    </tr>\n",
       "    <tr>\n",
       "      <th>10</th>\n",
       "      <td>{'max_depth': 3, 'max_leaf_nodes': 2}</td>\n",
       "      <td>0.317305</td>\n",
       "      <td>5</td>\n",
       "    </tr>\n",
       "    <tr>\n",
       "      <th>19</th>\n",
       "      <td>{'max_depth': 5, 'max_leaf_nodes': 2}</td>\n",
       "      <td>0.317305</td>\n",
       "      <td>5</td>\n",
       "    </tr>\n",
       "    <tr>\n",
       "      <th>2</th>\n",
       "      <td>{'max_depth': 2, 'max_leaf_nodes': 3}</td>\n",
       "      <td>0.317305</td>\n",
       "      <td>5</td>\n",
       "    </tr>\n",
       "    <tr>\n",
       "      <th>11</th>\n",
       "      <td>{'max_depth': 3, 'max_leaf_nodes': 3}</td>\n",
       "      <td>0.317305</td>\n",
       "      <td>5</td>\n",
       "    </tr>\n",
       "    <tr>\n",
       "      <th>20</th>\n",
       "      <td>{'max_depth': 5, 'max_leaf_nodes': 3}</td>\n",
       "      <td>0.317305</td>\n",
       "      <td>5</td>\n",
       "    </tr>\n",
       "    <tr>\n",
       "      <th>3</th>\n",
       "      <td>{'max_depth': 2, 'max_leaf_nodes': 4}</td>\n",
       "      <td>0.317305</td>\n",
       "      <td>5</td>\n",
       "    </tr>\n",
       "    <tr>\n",
       "      <th>12</th>\n",
       "      <td>{'max_depth': 3, 'max_leaf_nodes': 4}</td>\n",
       "      <td>0.317305</td>\n",
       "      <td>5</td>\n",
       "    </tr>\n",
       "    <tr>\n",
       "      <th>21</th>\n",
       "      <td>{'max_depth': 5, 'max_leaf_nodes': 4}</td>\n",
       "      <td>0.317305</td>\n",
       "      <td>5</td>\n",
       "    </tr>\n",
       "    <tr>\n",
       "      <th>4</th>\n",
       "      <td>{'max_depth': 2, 'max_leaf_nodes': 5}</td>\n",
       "      <td>0.317305</td>\n",
       "      <td>5</td>\n",
       "    </tr>\n",
       "    <tr>\n",
       "      <th>13</th>\n",
       "      <td>{'max_depth': 3, 'max_leaf_nodes': 5}</td>\n",
       "      <td>0.317305</td>\n",
       "      <td>5</td>\n",
       "    </tr>\n",
       "    <tr>\n",
       "      <th>22</th>\n",
       "      <td>{'max_depth': 5, 'max_leaf_nodes': 5}</td>\n",
       "      <td>0.317305</td>\n",
       "      <td>5</td>\n",
       "    </tr>\n",
       "    <tr>\n",
       "      <th>5</th>\n",
       "      <td>{'max_depth': 2, 'max_leaf_nodes': 6}</td>\n",
       "      <td>0.317305</td>\n",
       "      <td>5</td>\n",
       "    </tr>\n",
       "    <tr>\n",
       "      <th>14</th>\n",
       "      <td>{'max_depth': 3, 'max_leaf_nodes': 6}</td>\n",
       "      <td>0.317305</td>\n",
       "      <td>5</td>\n",
       "    </tr>\n",
       "    <tr>\n",
       "      <th>6</th>\n",
       "      <td>{'max_depth': 2, 'max_leaf_nodes': 7}</td>\n",
       "      <td>0.317305</td>\n",
       "      <td>5</td>\n",
       "    </tr>\n",
       "    <tr>\n",
       "      <th>15</th>\n",
       "      <td>{'max_depth': 3, 'max_leaf_nodes': 7}</td>\n",
       "      <td>0.317305</td>\n",
       "      <td>5</td>\n",
       "    </tr>\n",
       "    <tr>\n",
       "      <th>7</th>\n",
       "      <td>{'max_depth': 2, 'max_leaf_nodes': 8}</td>\n",
       "      <td>0.317305</td>\n",
       "      <td>5</td>\n",
       "    </tr>\n",
       "    <tr>\n",
       "      <th>16</th>\n",
       "      <td>{'max_depth': 3, 'max_leaf_nodes': 8}</td>\n",
       "      <td>0.317305</td>\n",
       "      <td>5</td>\n",
       "    </tr>\n",
       "    <tr>\n",
       "      <th>8</th>\n",
       "      <td>{'max_depth': 2, 'max_leaf_nodes': 9}</td>\n",
       "      <td>0.317305</td>\n",
       "      <td>5</td>\n",
       "    </tr>\n",
       "    <tr>\n",
       "      <th>17</th>\n",
       "      <td>{'max_depth': 3, 'max_leaf_nodes': 9}</td>\n",
       "      <td>0.317305</td>\n",
       "      <td>5</td>\n",
       "    </tr>\n",
       "    <tr>\n",
       "      <th>0</th>\n",
       "      <td>{'max_depth': 2, 'max_leaf_nodes': 1}</td>\n",
       "      <td>NaN</td>\n",
       "      <td>25</td>\n",
       "    </tr>\n",
       "    <tr>\n",
       "      <th>9</th>\n",
       "      <td>{'max_depth': 3, 'max_leaf_nodes': 1}</td>\n",
       "      <td>NaN</td>\n",
       "      <td>25</td>\n",
       "    </tr>\n",
       "    <tr>\n",
       "      <th>18</th>\n",
       "      <td>{'max_depth': 5, 'max_leaf_nodes': 1}</td>\n",
       "      <td>NaN</td>\n",
       "      <td>25</td>\n",
       "    </tr>\n",
       "  </tbody>\n",
       "</table>\n",
       "</div>"
      ],
      "text/plain": [
       "                                   params  mean_test_score  rank_test_score\n",
       "23  {'max_depth': 5, 'max_leaf_nodes': 6}         0.354364                1\n",
       "24  {'max_depth': 5, 'max_leaf_nodes': 7}         0.354364                1\n",
       "25  {'max_depth': 5, 'max_leaf_nodes': 8}         0.354250                3\n",
       "26  {'max_depth': 5, 'max_leaf_nodes': 9}         0.354250                3\n",
       "1   {'max_depth': 2, 'max_leaf_nodes': 2}         0.317305                5\n",
       "10  {'max_depth': 3, 'max_leaf_nodes': 2}         0.317305                5\n",
       "19  {'max_depth': 5, 'max_leaf_nodes': 2}         0.317305                5\n",
       "2   {'max_depth': 2, 'max_leaf_nodes': 3}         0.317305                5\n",
       "11  {'max_depth': 3, 'max_leaf_nodes': 3}         0.317305                5\n",
       "20  {'max_depth': 5, 'max_leaf_nodes': 3}         0.317305                5\n",
       "3   {'max_depth': 2, 'max_leaf_nodes': 4}         0.317305                5\n",
       "12  {'max_depth': 3, 'max_leaf_nodes': 4}         0.317305                5\n",
       "21  {'max_depth': 5, 'max_leaf_nodes': 4}         0.317305                5\n",
       "4   {'max_depth': 2, 'max_leaf_nodes': 5}         0.317305                5\n",
       "13  {'max_depth': 3, 'max_leaf_nodes': 5}         0.317305                5\n",
       "22  {'max_depth': 5, 'max_leaf_nodes': 5}         0.317305                5\n",
       "5   {'max_depth': 2, 'max_leaf_nodes': 6}         0.317305                5\n",
       "14  {'max_depth': 3, 'max_leaf_nodes': 6}         0.317305                5\n",
       "6   {'max_depth': 2, 'max_leaf_nodes': 7}         0.317305                5\n",
       "15  {'max_depth': 3, 'max_leaf_nodes': 7}         0.317305                5\n",
       "7   {'max_depth': 2, 'max_leaf_nodes': 8}         0.317305                5\n",
       "16  {'max_depth': 3, 'max_leaf_nodes': 8}         0.317305                5\n",
       "8   {'max_depth': 2, 'max_leaf_nodes': 9}         0.317305                5\n",
       "17  {'max_depth': 3, 'max_leaf_nodes': 9}         0.317305                5\n",
       "0   {'max_depth': 2, 'max_leaf_nodes': 1}              NaN               25\n",
       "9   {'max_depth': 3, 'max_leaf_nodes': 1}              NaN               25\n",
       "18  {'max_depth': 5, 'max_leaf_nodes': 1}              NaN               25"
      ]
     },
     "execution_count": 31,
     "metadata": {},
     "output_type": "execute_result"
    }
   ],
   "source": [
    "model = tree.DecisionTreeClassifier(\n",
    "    class_weight=class_weights_up_down\n",
    ")\n",
    "\n",
    "x = GridSearchCV(\n",
    "    estimator=model,\n",
    "    param_grid={\n",
    "        \"max_leaf_nodes\": range(1, 10, 1),\n",
    "        \"max_depth\": [2, 3, 5],\n",
    "    },\n",
    "    cv=5,\n",
    "    n_jobs=-1,\n",
    "    verbose=1,\n",
    "    scoring=\"f1_macro\"\n",
    ")\n",
    "\n",
    "x.fit(X_up_down, y_up_down)\n",
    "params = pd.DataFrame(x.cv_results_)\n",
    "params.sort_values(by=[\"rank_test_score\", \"param_max_leaf_nodes\"], ascending=[True, True], inplace=True)\n",
    "params = params[[\"params\", \"mean_test_score\", \"rank_test_score\"]]\n",
    "params"
   ]
  },
  {
   "cell_type": "code",
   "execution_count": 32,
   "metadata": {},
   "outputs": [
    {
     "name": "stdout",
     "output_type": "stream",
     "text": [
      "Report Test\n",
      "              precision    recall  f1-score   support\n",
      "\n",
      "           3       0.07      1.00      0.12      3169\n",
      "           4       1.00      0.03      0.07     45412\n",
      "           5       0.06      0.01      0.02      1419\n",
      "\n",
      "    accuracy                           0.10     50000\n",
      "   macro avg       0.37      0.35      0.07     50000\n",
      "weighted avg       0.91      0.10      0.07     50000\n",
      "\n",
      "Report Train\n",
      "              precision    recall  f1-score   support\n",
      "\n",
      "           3       0.07      1.00      0.12      3169\n",
      "           4       1.00      0.03      0.07     45412\n",
      "           5       0.06      0.01      0.02      1419\n",
      "\n",
      "    accuracy                           0.10     50000\n",
      "   macro avg       0.37      0.35      0.07     50000\n",
      "weighted avg       0.91      0.10      0.07     50000\n",
      "\n"
     ]
    }
   ],
   "source": [
    "best_model = tree.DecisionTreeClassifier(max_depth=3, max_leaf_nodes=8, class_weight=class_weights_up_down)\n",
    "best_model = best_model.fit(X_up_down, y_up_down, sample_weight=np.where(y_up_down != 4, np.ones(y_up_down.shape), 0.05))\n",
    "y_pred = best_model.predict(X_up_down)\n",
    "y_pred_train = best_model.predict(X_up_down)\n",
    "\n",
    "print(\"Report Test\")\n",
    "print(classification_report(y_up_down, y_pred))\n",
    "print(\"Report Train\")\n",
    "print(classification_report(y_up_down, y_pred_train))"
   ]
  },
  {
   "cell_type": "code",
   "execution_count": 33,
   "metadata": {},
   "outputs": [
    {
     "data": {
      "image/svg+xml": [
       "<?xml version=\"1.0\" encoding=\"UTF-8\" standalone=\"no\"?>\n",
       "<!DOCTYPE svg PUBLIC \"-//W3C//DTD SVG 1.1//EN\"\n",
       " \"http://www.w3.org/Graphics/SVG/1.1/DTD/svg11.dtd\">\n",
       "<!-- Generated by graphviz version 2.43.0 (0)\n",
       " -->\n",
       "<!-- Title: Tree Pages: 1 -->\n",
       "<svg width=\"2124pt\" height=\"433pt\"\n",
       " viewBox=\"0.00 0.00 2124.00 433.00\" xmlns=\"http://www.w3.org/2000/svg\" xmlns:xlink=\"http://www.w3.org/1999/xlink\">\n",
       "<g id=\"graph0\" class=\"graph\" transform=\"scale(1 1) rotate(0) translate(4 429)\">\n",
       "<title>Tree</title>\n",
       "<polygon fill=\"white\" stroke=\"transparent\" points=\"-4,4 -4,-429 2120,-429 2120,4 -4,4\"/>\n",
       "<!-- 0 -->\n",
       "<g id=\"node1\" class=\"node\">\n",
       "<title>0</title>\n",
       "<polygon fill=\"#eda978\" stroke=\"black\" points=\"1140.5,-425 843.5,-425 843.5,-342 1140.5,-342 1140.5,-425\"/>\n",
       "<text text-anchor=\"middle\" x=\"992\" y=\"-409.8\" font-family=\"Helvetica,sans-Serif\" font-size=\"14.00\">x[110] &lt;= 0.992</text>\n",
       "<text text-anchor=\"middle\" x=\"992\" y=\"-394.8\" font-family=\"Helvetica,sans-Serif\" font-size=\"14.00\">gini = 0.409</text>\n",
       "<text text-anchor=\"middle\" x=\"992\" y=\"-379.8\" font-family=\"Helvetica,sans-Serif\" font-size=\"14.00\">samples = 50000</text>\n",
       "<text text-anchor=\"middle\" x=\"992\" y=\"-364.8\" font-family=\"Helvetica,sans-Serif\" font-size=\"14.00\">value = [20615.179, 1880.562, 5314.8]</text>\n",
       "<text text-anchor=\"middle\" x=\"992\" y=\"-349.8\" font-family=\"Helvetica,sans-Serif\" font-size=\"14.00\">class = UP</text>\n",
       "</g>\n",
       "<!-- 1 -->\n",
       "<g id=\"node2\" class=\"node\">\n",
       "<title>1</title>\n",
       "<polygon fill=\"#e99457\" stroke=\"black\" points=\"902,-306 632,-306 632,-223 902,-223 902,-306\"/>\n",
       "<text text-anchor=\"middle\" x=\"767\" y=\"-290.8\" font-family=\"Helvetica,sans-Serif\" font-size=\"14.00\">x[115] &lt;= 0.008</text>\n",
       "<text text-anchor=\"middle\" x=\"767\" y=\"-275.8\" font-family=\"Helvetica,sans-Serif\" font-size=\"14.00\">gini = 0.251</text>\n",
       "<text text-anchor=\"middle\" x=\"767\" y=\"-260.8\" font-family=\"Helvetica,sans-Serif\" font-size=\"14.00\">samples = 11669</text>\n",
       "<text text-anchor=\"middle\" x=\"767\" y=\"-245.8\" font-family=\"Helvetica,sans-Serif\" font-size=\"14.00\">value = [5978.337, 439.248, 535.6]</text>\n",
       "<text text-anchor=\"middle\" x=\"767\" y=\"-230.8\" font-family=\"Helvetica,sans-Serif\" font-size=\"14.00\">class = UP</text>\n",
       "</g>\n",
       "<!-- 0&#45;&gt;1 -->\n",
       "<g id=\"edge1\" class=\"edge\">\n",
       "<title>0&#45;&gt;1</title>\n",
       "<path fill=\"none\" stroke=\"black\" d=\"M913.94,-341.91C894.57,-331.83 873.69,-320.98 853.92,-310.7\"/>\n",
       "<polygon fill=\"black\" stroke=\"black\" points=\"855.41,-307.53 844.92,-306.02 852.18,-313.74 855.41,-307.53\"/>\n",
       "<text text-anchor=\"middle\" x=\"852.45\" y=\"-326.16\" font-family=\"Helvetica,sans-Serif\" font-size=\"14.00\">True</text>\n",
       "</g>\n",
       "<!-- 2 -->\n",
       "<g id=\"node9\" class=\"node\">\n",
       "<title>2</title>\n",
       "<polygon fill=\"#efb286\" stroke=\"black\" points=\"1395.5,-306 1098.5,-306 1098.5,-223 1395.5,-223 1395.5,-306\"/>\n",
       "<text text-anchor=\"middle\" x=\"1247\" y=\"-290.8\" font-family=\"Helvetica,sans-Serif\" font-size=\"14.00\">x[370] &lt;= 0.992</text>\n",
       "<text text-anchor=\"middle\" x=\"1247\" y=\"-275.8\" font-family=\"Helvetica,sans-Serif\" font-size=\"14.00\">gini = 0.45</text>\n",
       "<text text-anchor=\"middle\" x=\"1247\" y=\"-260.8\" font-family=\"Helvetica,sans-Serif\" font-size=\"14.00\">samples = 38331</text>\n",
       "<text text-anchor=\"middle\" x=\"1247\" y=\"-245.8\" font-family=\"Helvetica,sans-Serif\" font-size=\"14.00\">value = [14636.842, 1441.314, 4779.2]</text>\n",
       "<text text-anchor=\"middle\" x=\"1247\" y=\"-230.8\" font-family=\"Helvetica,sans-Serif\" font-size=\"14.00\">class = UP</text>\n",
       "</g>\n",
       "<!-- 0&#45;&gt;2 -->\n",
       "<g id=\"edge8\" class=\"edge\">\n",
       "<title>0&#45;&gt;2</title>\n",
       "<path fill=\"none\" stroke=\"black\" d=\"M1080.47,-341.91C1102.72,-331.7 1126.73,-320.68 1149.4,-310.28\"/>\n",
       "<polygon fill=\"black\" stroke=\"black\" points=\"1151.06,-313.37 1158.69,-306.02 1148.14,-307.01 1151.06,-313.37\"/>\n",
       "<text text-anchor=\"middle\" x=\"1149.99\" y=\"-325.76\" font-family=\"Helvetica,sans-Serif\" font-size=\"14.00\">False</text>\n",
       "</g>\n",
       "<!-- 7 -->\n",
       "<g id=\"node3\" class=\"node\">\n",
       "<title>7</title>\n",
       "<polygon fill=\"#e99355\" stroke=\"black\" points=\"549,-187 261,-187 261,-104 549,-104 549,-187\"/>\n",
       "<text text-anchor=\"middle\" x=\"405\" y=\"-171.8\" font-family=\"Helvetica,sans-Serif\" font-size=\"14.00\">x[88] &lt;= 0.195</text>\n",
       "<text text-anchor=\"middle\" x=\"405\" y=\"-156.8\" font-family=\"Helvetica,sans-Serif\" font-size=\"14.00\">gini = 0.236</text>\n",
       "<text text-anchor=\"middle\" x=\"405\" y=\"-141.8\" font-family=\"Helvetica,sans-Serif\" font-size=\"14.00\">samples = 11329</text>\n",
       "<text text-anchor=\"middle\" x=\"405\" y=\"-126.8\" font-family=\"Helvetica,sans-Serif\" font-size=\"14.00\">value = [5952.316, 426.079, 468.182]</text>\n",
       "<text text-anchor=\"middle\" x=\"405\" y=\"-111.8\" font-family=\"Helvetica,sans-Serif\" font-size=\"14.00\">class = UP</text>\n",
       "</g>\n",
       "<!-- 1&#45;&gt;7 -->\n",
       "<g id=\"edge2\" class=\"edge\">\n",
       "<title>1&#45;&gt;7</title>\n",
       "<path fill=\"none\" stroke=\"black\" d=\"M641.66,-222.99C608.94,-212.41 573.52,-200.97 540.31,-190.23\"/>\n",
       "<polygon fill=\"black\" stroke=\"black\" points=\"541.13,-186.82 530.54,-187.07 538.98,-193.48 541.13,-186.82\"/>\n",
       "</g>\n",
       "<!-- 8 -->\n",
       "<g id=\"node6\" class=\"node\">\n",
       "<title>8</title>\n",
       "<polygon fill=\"#be99f2\" stroke=\"black\" points=\"893,-187 641,-187 641,-104 893,-104 893,-187\"/>\n",
       "<text text-anchor=\"middle\" x=\"767\" y=\"-171.8\" font-family=\"Helvetica,sans-Serif\" font-size=\"14.00\">x[471] &lt;= 0.109</text>\n",
       "<text text-anchor=\"middle\" x=\"767\" y=\"-156.8\" font-family=\"Helvetica,sans-Serif\" font-size=\"14.00\">gini = 0.525</text>\n",
       "<text text-anchor=\"middle\" x=\"767\" y=\"-141.8\" font-family=\"Helvetica,sans-Serif\" font-size=\"14.00\">samples = 340</text>\n",
       "<text text-anchor=\"middle\" x=\"767\" y=\"-126.8\" font-family=\"Helvetica,sans-Serif\" font-size=\"14.00\">value = [26.021, 13.169, 67.418]</text>\n",
       "<text text-anchor=\"middle\" x=\"767\" y=\"-111.8\" font-family=\"Helvetica,sans-Serif\" font-size=\"14.00\">class = DOWN</text>\n",
       "</g>\n",
       "<!-- 1&#45;&gt;8 -->\n",
       "<g id=\"edge5\" class=\"edge\">\n",
       "<title>1&#45;&gt;8</title>\n",
       "<path fill=\"none\" stroke=\"black\" d=\"M767,-222.91C767,-214.65 767,-205.86 767,-197.3\"/>\n",
       "<polygon fill=\"black\" stroke=\"black\" points=\"770.5,-197.02 767,-187.02 763.5,-197.02 770.5,-197.02\"/>\n",
       "</g>\n",
       "<!-- 9 -->\n",
       "<g id=\"node4\" class=\"node\">\n",
       "<title>9</title>\n",
       "<polygon fill=\"#e99254\" stroke=\"black\" points=\"288,-68 0,-68 0,0 288,0 288,-68\"/>\n",
       "<text text-anchor=\"middle\" x=\"144\" y=\"-52.8\" font-family=\"Helvetica,sans-Serif\" font-size=\"14.00\">gini = 0.229</text>\n",
       "<text text-anchor=\"middle\" x=\"144\" y=\"-37.8\" font-family=\"Helvetica,sans-Serif\" font-size=\"14.00\">samples = 10552</text>\n",
       "<text text-anchor=\"middle\" x=\"144\" y=\"-22.8\" font-family=\"Helvetica,sans-Serif\" font-size=\"14.00\">value = [5952.316, 393.903, 468.182]</text>\n",
       "<text text-anchor=\"middle\" x=\"144\" y=\"-7.8\" font-family=\"Helvetica,sans-Serif\" font-size=\"14.00\">class = UP</text>\n",
       "</g>\n",
       "<!-- 7&#45;&gt;9 -->\n",
       "<g id=\"edge3\" class=\"edge\">\n",
       "<title>7&#45;&gt;9</title>\n",
       "<path fill=\"none\" stroke=\"black\" d=\"M308.18,-103.88C283.23,-93.41 256.51,-82.2 232.03,-71.93\"/>\n",
       "<polygon fill=\"black\" stroke=\"black\" points=\"233.34,-68.68 222.76,-68.04 230.63,-75.14 233.34,-68.68\"/>\n",
       "</g>\n",
       "<!-- 10 -->\n",
       "<g id=\"node5\" class=\"node\">\n",
       "<title>10</title>\n",
       "<polygon fill=\"#39e581\" stroke=\"black\" points=\"504,-68 306,-68 306,0 504,0 504,-68\"/>\n",
       "<text text-anchor=\"middle\" x=\"405\" y=\"-52.8\" font-family=\"Helvetica,sans-Serif\" font-size=\"14.00\">gini = &#45;0.0</text>\n",
       "<text text-anchor=\"middle\" x=\"405\" y=\"-37.8\" font-family=\"Helvetica,sans-Serif\" font-size=\"14.00\">samples = 777</text>\n",
       "<text text-anchor=\"middle\" x=\"405\" y=\"-22.8\" font-family=\"Helvetica,sans-Serif\" font-size=\"14.00\">value = [0.0, 32.176, 0.0]</text>\n",
       "<text text-anchor=\"middle\" x=\"405\" y=\"-7.8\" font-family=\"Helvetica,sans-Serif\" font-size=\"14.00\">class = NOP</text>\n",
       "</g>\n",
       "<!-- 7&#45;&gt;10 -->\n",
       "<g id=\"edge4\" class=\"edge\">\n",
       "<title>7&#45;&gt;10</title>\n",
       "<path fill=\"none\" stroke=\"black\" d=\"M405,-103.73C405,-95.52 405,-86.86 405,-78.56\"/>\n",
       "<polygon fill=\"black\" stroke=\"black\" points=\"408.5,-78.3 405,-68.3 401.5,-78.3 408.5,-78.3\"/>\n",
       "</g>\n",
       "<!-- 13 -->\n",
       "<g id=\"node7\" class=\"node\">\n",
       "<title>13</title>\n",
       "<polygon fill=\"#985eea\" stroke=\"black\" points=\"747.5,-68 522.5,-68 522.5,0 747.5,0 747.5,-68\"/>\n",
       "<text text-anchor=\"middle\" x=\"635\" y=\"-52.8\" font-family=\"Helvetica,sans-Serif\" font-size=\"14.00\">gini = 0.263</text>\n",
       "<text text-anchor=\"middle\" x=\"635\" y=\"-37.8\" font-family=\"Helvetica,sans-Serif\" font-size=\"14.00\">samples = 319</text>\n",
       "<text text-anchor=\"middle\" x=\"635\" y=\"-22.8\" font-family=\"Helvetica,sans-Serif\" font-size=\"14.00\">value = [0.0, 12.465, 67.418]</text>\n",
       "<text text-anchor=\"middle\" x=\"635\" y=\"-7.8\" font-family=\"Helvetica,sans-Serif\" font-size=\"14.00\">class = DOWN</text>\n",
       "</g>\n",
       "<!-- 8&#45;&gt;13 -->\n",
       "<g id=\"edge6\" class=\"edge\">\n",
       "<title>8&#45;&gt;13</title>\n",
       "<path fill=\"none\" stroke=\"black\" d=\"M717.85,-103.73C706.41,-94.24 694.26,-84.16 682.88,-74.72\"/>\n",
       "<polygon fill=\"black\" stroke=\"black\" points=\"685.07,-71.99 675.14,-68.3 680.6,-77.38 685.07,-71.99\"/>\n",
       "</g>\n",
       "<!-- 14 -->\n",
       "<g id=\"node8\" class=\"node\">\n",
       "<title>14</title>\n",
       "<polygon fill=\"#e6843e\" stroke=\"black\" points=\"982,-68 766,-68 766,0 982,0 982,-68\"/>\n",
       "<text text-anchor=\"middle\" x=\"874\" y=\"-52.8\" font-family=\"Helvetica,sans-Serif\" font-size=\"14.00\">gini = 0.051</text>\n",
       "<text text-anchor=\"middle\" x=\"874\" y=\"-37.8\" font-family=\"Helvetica,sans-Serif\" font-size=\"14.00\">samples = 21</text>\n",
       "<text text-anchor=\"middle\" x=\"874\" y=\"-22.8\" font-family=\"Helvetica,sans-Serif\" font-size=\"14.00\">value = [26.021, 0.704, 0.0]</text>\n",
       "<text text-anchor=\"middle\" x=\"874\" y=\"-7.8\" font-family=\"Helvetica,sans-Serif\" font-size=\"14.00\">class = UP</text>\n",
       "</g>\n",
       "<!-- 8&#45;&gt;14 -->\n",
       "<g id=\"edge7\" class=\"edge\">\n",
       "<title>8&#45;&gt;14</title>\n",
       "<path fill=\"none\" stroke=\"black\" d=\"M806.84,-103.73C815.84,-94.51 825.4,-84.74 834.39,-75.53\"/>\n",
       "<polygon fill=\"black\" stroke=\"black\" points=\"836.97,-77.9 841.46,-68.3 831.97,-73.01 836.97,-77.9\"/>\n",
       "</g>\n",
       "<!-- 3 -->\n",
       "<g id=\"node10\" class=\"node\">\n",
       "<title>3</title>\n",
       "<polygon fill=\"#ea9a60\" stroke=\"black\" points=\"1391,-187 1103,-187 1103,-104 1391,-104 1391,-187\"/>\n",
       "<text text-anchor=\"middle\" x=\"1247\" y=\"-171.8\" font-family=\"Helvetica,sans-Serif\" font-size=\"14.00\">x[408] &lt;= 0.195</text>\n",
       "<text text-anchor=\"middle\" x=\"1247\" y=\"-156.8\" font-family=\"Helvetica,sans-Serif\" font-size=\"14.00\">gini = 0.301</text>\n",
       "<text text-anchor=\"middle\" x=\"1247\" y=\"-141.8\" font-family=\"Helvetica,sans-Serif\" font-size=\"14.00\">samples = 10931</text>\n",
       "<text text-anchor=\"middle\" x=\"1247\" y=\"-126.8\" font-family=\"Helvetica,sans-Serif\" font-size=\"14.00\">value = [5971.832, 405.208, 853.964]</text>\n",
       "<text text-anchor=\"middle\" x=\"1247\" y=\"-111.8\" font-family=\"Helvetica,sans-Serif\" font-size=\"14.00\">class = UP</text>\n",
       "</g>\n",
       "<!-- 2&#45;&gt;3 -->\n",
       "<g id=\"edge9\" class=\"edge\">\n",
       "<title>2&#45;&gt;3</title>\n",
       "<path fill=\"none\" stroke=\"black\" d=\"M1247,-222.91C1247,-214.65 1247,-205.86 1247,-197.3\"/>\n",
       "<polygon fill=\"black\" stroke=\"black\" points=\"1250.5,-197.02 1247,-187.02 1243.5,-197.02 1250.5,-197.02\"/>\n",
       "</g>\n",
       "<!-- 4 -->\n",
       "<g id=\"node13\" class=\"node\">\n",
       "<title>4</title>\n",
       "<polygon fill=\"#f2c19e\" stroke=\"black\" points=\"1819,-187 1513,-187 1513,-104 1819,-104 1819,-187\"/>\n",
       "<text text-anchor=\"middle\" x=\"1666\" y=\"-171.8\" font-family=\"Helvetica,sans-Serif\" font-size=\"14.00\">x[230] &lt;= 0.992</text>\n",
       "<text text-anchor=\"middle\" x=\"1666\" y=\"-156.8\" font-family=\"Helvetica,sans-Serif\" font-size=\"14.00\">gini = 0.507</text>\n",
       "<text text-anchor=\"middle\" x=\"1666\" y=\"-141.8\" font-family=\"Helvetica,sans-Serif\" font-size=\"14.00\">samples = 27400</text>\n",
       "<text text-anchor=\"middle\" x=\"1666\" y=\"-126.8\" font-family=\"Helvetica,sans-Serif\" font-size=\"14.00\">value = [8665.011, 1036.106, 3925.236]</text>\n",
       "<text text-anchor=\"middle\" x=\"1666\" y=\"-111.8\" font-family=\"Helvetica,sans-Serif\" font-size=\"14.00\">class = UP</text>\n",
       "</g>\n",
       "<!-- 2&#45;&gt;4 -->\n",
       "<g id=\"edge12\" class=\"edge\">\n",
       "<title>2&#45;&gt;4</title>\n",
       "<path fill=\"none\" stroke=\"black\" d=\"M1392.08,-222.99C1430.44,-212.28 1472,-200.67 1510.87,-189.82\"/>\n",
       "<polygon fill=\"black\" stroke=\"black\" points=\"1512,-193.14 1520.69,-187.07 1510.12,-186.39 1512,-193.14\"/>\n",
       "</g>\n",
       "<!-- 11 -->\n",
       "<g id=\"node11\" class=\"node\">\n",
       "<title>11</title>\n",
       "<polygon fill=\"#ea995f\" stroke=\"black\" points=\"1288,-68 1000,-68 1000,0 1288,0 1288,-68\"/>\n",
       "<text text-anchor=\"middle\" x=\"1144\" y=\"-52.8\" font-family=\"Helvetica,sans-Serif\" font-size=\"14.00\">gini = 0.295</text>\n",
       "<text text-anchor=\"middle\" x=\"1144\" y=\"-37.8\" font-family=\"Helvetica,sans-Serif\" font-size=\"14.00\">samples = 10133</text>\n",
       "<text text-anchor=\"middle\" x=\"1144\" y=\"-22.8\" font-family=\"Helvetica,sans-Serif\" font-size=\"14.00\">value = [5971.832, 372.162, 853.964]</text>\n",
       "<text text-anchor=\"middle\" x=\"1144\" y=\"-7.8\" font-family=\"Helvetica,sans-Serif\" font-size=\"14.00\">class = UP</text>\n",
       "</g>\n",
       "<!-- 3&#45;&gt;11 -->\n",
       "<g id=\"edge10\" class=\"edge\">\n",
       "<title>3&#45;&gt;11</title>\n",
       "<path fill=\"none\" stroke=\"black\" d=\"M1208.65,-103.73C1200.07,-94.61 1190.97,-84.93 1182.39,-75.81\"/>\n",
       "<polygon fill=\"black\" stroke=\"black\" points=\"1184.72,-73.19 1175.32,-68.3 1179.63,-77.98 1184.72,-73.19\"/>\n",
       "</g>\n",
       "<!-- 12 -->\n",
       "<g id=\"node12\" class=\"node\">\n",
       "<title>12</title>\n",
       "<polygon fill=\"#39e581\" stroke=\"black\" points=\"1504,-68 1306,-68 1306,0 1504,0 1504,-68\"/>\n",
       "<text text-anchor=\"middle\" x=\"1405\" y=\"-52.8\" font-family=\"Helvetica,sans-Serif\" font-size=\"14.00\">gini = &#45;0.0</text>\n",
       "<text text-anchor=\"middle\" x=\"1405\" y=\"-37.8\" font-family=\"Helvetica,sans-Serif\" font-size=\"14.00\">samples = 798</text>\n",
       "<text text-anchor=\"middle\" x=\"1405\" y=\"-22.8\" font-family=\"Helvetica,sans-Serif\" font-size=\"14.00\">value = [0.0, 33.046, 0.0]</text>\n",
       "<text text-anchor=\"middle\" x=\"1405\" y=\"-7.8\" font-family=\"Helvetica,sans-Serif\" font-size=\"14.00\">class = NOP</text>\n",
       "</g>\n",
       "<!-- 3&#45;&gt;12 -->\n",
       "<g id=\"edge11\" class=\"edge\">\n",
       "<title>3&#45;&gt;12</title>\n",
       "<path fill=\"none\" stroke=\"black\" d=\"M1305.83,-103.73C1319.86,-94.01 1334.79,-83.66 1348.69,-74.02\"/>\n",
       "<polygon fill=\"black\" stroke=\"black\" points=\"1350.98,-76.7 1357.2,-68.13 1346.99,-70.94 1350.98,-76.7\"/>\n",
       "</g>\n",
       "<!-- 5 -->\n",
       "<g id=\"node14\" class=\"node\">\n",
       "<title>5</title>\n",
       "<polygon fill=\"#eb9d66\" stroke=\"black\" points=\"1810,-68 1522,-68 1522,0 1810,0 1810,-68\"/>\n",
       "<text text-anchor=\"middle\" x=\"1666\" y=\"-52.8\" font-family=\"Helvetica,sans-Serif\" font-size=\"14.00\">gini = 0.332</text>\n",
       "<text text-anchor=\"middle\" x=\"1666\" y=\"-37.8\" font-family=\"Helvetica,sans-Serif\" font-size=\"14.00\">samples = 7546</text>\n",
       "<text text-anchor=\"middle\" x=\"1666\" y=\"-22.8\" font-family=\"Helvetica,sans-Serif\" font-size=\"14.00\">value = [3558.379, 283.376, 584.291]</text>\n",
       "<text text-anchor=\"middle\" x=\"1666\" y=\"-7.8\" font-family=\"Helvetica,sans-Serif\" font-size=\"14.00\">class = UP</text>\n",
       "</g>\n",
       "<!-- 4&#45;&gt;5 -->\n",
       "<g id=\"edge13\" class=\"edge\">\n",
       "<title>4&#45;&gt;5</title>\n",
       "<path fill=\"none\" stroke=\"black\" d=\"M1666,-103.73C1666,-95.52 1666,-86.86 1666,-78.56\"/>\n",
       "<polygon fill=\"black\" stroke=\"black\" points=\"1669.5,-78.3 1666,-68.3 1662.5,-78.3 1669.5,-78.3\"/>\n",
       "</g>\n",
       "<!-- 6 -->\n",
       "<g id=\"node15\" class=\"node\">\n",
       "<title>6</title>\n",
       "<polygon fill=\"#f7d9c3\" stroke=\"black\" points=\"2116,-68 1828,-68 1828,0 2116,0 2116,-68\"/>\n",
       "<text text-anchor=\"middle\" x=\"1972\" y=\"-52.8\" font-family=\"Helvetica,sans-Serif\" font-size=\"14.00\">gini = 0.553</text>\n",
       "<text text-anchor=\"middle\" x=\"1972\" y=\"-37.8\" font-family=\"Helvetica,sans-Serif\" font-size=\"14.00\">samples = 19854</text>\n",
       "<text text-anchor=\"middle\" x=\"1972\" y=\"-22.8\" font-family=\"Helvetica,sans-Serif\" font-size=\"14.00\">value = [5106.632, 752.73, 3340.945]</text>\n",
       "<text text-anchor=\"middle\" x=\"1972\" y=\"-7.8\" font-family=\"Helvetica,sans-Serif\" font-size=\"14.00\">class = UP</text>\n",
       "</g>\n",
       "<!-- 4&#45;&gt;6 -->\n",
       "<g id=\"edge14\" class=\"edge\">\n",
       "<title>4&#45;&gt;6</title>\n",
       "<path fill=\"none\" stroke=\"black\" d=\"M1779.51,-103.88C1809.15,-93.27 1840.92,-81.91 1869.93,-71.52\"/>\n",
       "<polygon fill=\"black\" stroke=\"black\" points=\"1871.42,-74.71 1879.66,-68.04 1869.07,-68.12 1871.42,-74.71\"/>\n",
       "</g>\n",
       "</g>\n",
       "</svg>\n"
      ],
      "text/plain": [
       "<graphviz.sources.Source at 0x7f28b86af130>"
      ]
     },
     "execution_count": 33,
     "metadata": {},
     "output_type": "execute_result"
    }
   ],
   "source": [
    "# plot tree\n",
    "\n",
    "import graphviz\n",
    "\n",
    "dot_data = tree.export_graphviz(best_model, out_file=None,\n",
    "                                class_names=[\"UP\", \"NOP\", \"DOWN\"],\n",
    "                                filled=True)\n",
    "# Draw graph\n",
    "graph = graphviz.Source(dot_data, filename=None, format=\"png\")\n",
    "graph\n"
   ]
  },
  {
   "cell_type": "code",
   "execution_count": null,
   "metadata": {},
   "outputs": [],
   "source": []
  },
  {
   "cell_type": "code",
   "execution_count": null,
   "metadata": {},
   "outputs": [],
   "source": []
  }
 ],
 "metadata": {
  "kernelspec": {
   "display_name": "tf",
   "language": "python",
   "name": "python3"
  },
  "language_info": {
   "codemirror_mode": {
    "name": "ipython",
    "version": 3
   },
   "file_extension": ".py",
   "mimetype": "text/x-python",
   "name": "python",
   "nbconvert_exporter": "python",
   "pygments_lexer": "ipython3",
   "version": "3.9.21"
  }
 },
 "nbformat": 4,
 "nbformat_minor": 2
}

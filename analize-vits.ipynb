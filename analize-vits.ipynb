{
 "cells": [
  {
   "cell_type": "code",
   "execution_count": 1,
   "metadata": {},
   "outputs": [],
   "source": [
    "import tensorflow as tf\n",
    "from tensorflow import keras\n",
    "import numpy as np"
   ]
  },
  {
   "cell_type": "code",
   "execution_count": 2,
   "metadata": {},
   "outputs": [
    {
     "name": "stdout",
     "output_type": "stream",
     "text": [
      "Model: \"vision_transformer\"\n",
      "_________________________________________________________________\n",
      " Layer (type)                Output Shape              Param #   \n",
      "=================================================================\n",
      " patches (Patches)           multiple                  0         \n",
      "                                                                 \n",
      " patch_encoder (PatchEncoder  multiple                 2592      \n",
      " )                                                               \n",
      "                                                                 \n",
      " layer_normalization (LayerN  multiple                 64        \n",
      " ormalization)                                                   \n",
      "                                                                 \n",
      " multi_head_attention (Multi  multiple                 16800     \n",
      " HeadAttention)                                                  \n",
      "                                                                 \n",
      " add (Add)                   multiple                  0         \n",
      "                                                                 \n",
      " layer_normalization_1 (Laye  multiple                 64        \n",
      " rNormalization)                                                 \n",
      "                                                                 \n",
      " mlp (MLP)                   multiple                  1056      \n",
      "                                                                 \n",
      " add_1 (Add)                 multiple                  0         \n",
      "                                                                 \n",
      " layer_normalization_2 (Laye  multiple                 64        \n",
      " rNormalization)                                                 \n",
      "                                                                 \n",
      " multi_head_attention_1 (Mul  multiple                 16800     \n",
      " tiHeadAttention)                                                \n",
      "                                                                 \n",
      " add_2 (Add)                 multiple                  0         \n",
      "                                                                 \n",
      " layer_normalization_3 (Laye  multiple                 64        \n",
      " rNormalization)                                                 \n",
      "                                                                 \n",
      " mlp_1 (MLP)                 multiple                  1056      \n",
      "                                                                 \n",
      " add_3 (Add)                 multiple                  0         \n",
      "                                                                 \n",
      " layer_normalization_4 (Laye  multiple                 64        \n",
      " rNormalization)                                                 \n",
      "                                                                 \n",
      " flatten (Flatten)           multiple                  0         \n",
      "                                                                 \n",
      " dropout_2 (Dropout)         multiple                  0         \n",
      "                                                                 \n",
      " mlp_2 (MLP)                 multiple                  1056      \n",
      "                                                                 \n",
      " dense_4 (Dense)             multiple                  330       \n",
      "                                                                 \n",
      "=================================================================\n",
      "Total params: 40,010\n",
      "Trainable params: 40,010\n",
      "Non-trainable params: 0\n",
      "_________________________________________________________________\n"
     ]
    }
   ],
   "source": [
    "# import model vit_minst\n",
    "import vit_tests\n",
    "\n",
    "model: tf.keras.Model = tf.keras.models.load_model('./vit_cifar100',\n",
    "                                                custom_objects={\n",
    "                                                            'MLP': vit_tests.MLP,\n",
    "                                                            'PatchEncoder': vit_tests.PatchEncoder,\n",
    "                                                            'Patches': vit_tests.Patches,\n",
    "                                                            'VisionTransformer': vit_tests.VisionTransformer,\n",
    "                                                    }\n",
    "                                                ) # type: ignore\n",
    "\n",
    "model.summary()"
   ]
  },
  {
   "cell_type": "markdown",
   "metadata": {},
   "source": [
    "# Transform 16x16 patch using dense layer?"
   ]
  },
  {
   "cell_type": "code",
   "execution_count": 3,
   "metadata": {},
   "outputs": [
    {
     "data": {
      "text/plain": [
       "[<vit_tests.Patches at 0x1ebbd91e2b0>,\n",
       " <vit_tests.PatchEncoder at 0x1ebbf594190>,\n",
       " <keras.layers.normalization.layer_normalization.LayerNormalization at 0x1ebbf5948b0>,\n",
       " <keras.layers.attention.multi_head_attention.MultiHeadAttention at 0x1ebbf594d30>,\n",
       " <keras.layers.merging.add.Add at 0x1ebbf594370>,\n",
       " <keras.layers.normalization.layer_normalization.LayerNormalization at 0x1ebbf7f9430>,\n",
       " <vit_tests.MLP at 0x1ebbf7f93d0>,\n",
       " <keras.layers.merging.add.Add at 0x1ebbf7f94f0>,\n",
       " <keras.layers.normalization.layer_normalization.LayerNormalization at 0x1ebbf7fc5b0>,\n",
       " <keras.layers.attention.multi_head_attention.MultiHeadAttention at 0x1ebbf7fc640>,\n",
       " <keras.layers.merging.add.Add at 0x1ebbf7fc5e0>,\n",
       " <keras.layers.normalization.layer_normalization.LayerNormalization at 0x1ebbf7fcd00>,\n",
       " <vit_tests.MLP at 0x1ebbf7fcca0>,\n",
       " <keras.layers.merging.add.Add at 0x1ebbf7fcdc0>,\n",
       " <keras.layers.normalization.layer_normalization.LayerNormalization at 0x1ebbf80ee80>,\n",
       " <keras.layers.reshaping.flatten.Flatten at 0x1ebbf80ef10>,\n",
       " <keras.layers.regularization.dropout.Dropout at 0x1ebbf815250>,\n",
       " <vit_tests.MLP at 0x1ebbf815580>,\n",
       " <keras.layers.core.dense.Dense at 0x1ebbf815f40>]"
      ]
     },
     "execution_count": 3,
     "metadata": {},
     "output_type": "execute_result"
    }
   ],
   "source": [
    "model.layers"
   ]
  },
  {
   "cell_type": "code",
   "execution_count": 4,
   "metadata": {},
   "outputs": [
    {
     "data": {
      "text/plain": [
       "['layer_normalization/gamma:0', 'layer_normalization/beta:0']"
      ]
     },
     "execution_count": 4,
     "metadata": {},
     "output_type": "execute_result"
    }
   ],
   "source": [
    "# output shape\n",
    "[var.name for var in model.layers[2].variables]"
   ]
  },
  {
   "cell_type": "code",
   "execution_count": 5,
   "metadata": {},
   "outputs": [
    {
     "name": "stdout",
     "output_type": "stream",
     "text": [
      "layer_normalization/gamma:0 (32,)\n",
      "layer_normalization/beta:0 (32,)\n"
     ]
    }
   ],
   "source": [
    "# check shapes\n",
    "for var in model.layers[2].variables:\n",
    "    print(var.name, var.shape)"
   ]
  },
  {
   "cell_type": "code",
   "execution_count": 6,
   "metadata": {},
   "outputs": [
    {
     "data": {
      "text/plain": [
       "<matplotlib.image.AxesImage at 0x1ebf98977c0>"
      ]
     },
     "execution_count": 6,
     "metadata": {},
     "output_type": "execute_result"
    },
    {
     "data": {
      "image/png": "[encoded data removed]",
      "text/plain": [
       "<Figure size 640x480 with 1 Axes>"
      ]
     },
     "metadata": {},
     "output_type": "display_data"
    }
   ],
   "source": [
    "train, test = keras.datasets.mnist.load_data()\n",
    "\n",
    "x_train, y_train = train\n",
    "\n",
    "y_train = y_train.astype(\"float32\")\n",
    "\n",
    "x_train = np.pad(x_train, ((0, 0), (2, 2), (2, 2)), mode='constant', constant_values=0)\n",
    "x_train = x_train.reshape(x_train.shape[0], 1, 32, 32)\n",
    "\n",
    "x_test, y_test = test\n",
    "\n",
    "y_test = y_test.astype(\"float32\")\n",
    "\n",
    "x_test = np.pad(x_test, ((0, 0), (2, 2), (2, 2)), mode='constant', constant_values=0)\n",
    "x_test = x_test.reshape(x_test.shape[0], 1, 32, 32)\n",
    "\n",
    "import matplotlib.pyplot as plt\n",
    "\n",
    "sample = x_train[0].reshape(32, 32)\n",
    "\n",
    "plt.imshow(sample)"
   ]
  },
  {
   "cell_type": "code",
   "execution_count": 10,
   "metadata": {},
   "outputs": [
    {
     "name": "stdout",
     "output_type": "stream",
     "text": [
      "(4, 64, 64)\n"
     ]
    },
    {
     "data": {
      "image/png": "[encoded data removed]",
      "text/plain": [
       "<Figure size 1000x500 with 2 Axes>"
      ]
     },
     "metadata": {},
     "output_type": "display_data"
    }
   ],
   "source": [
    "sample = x_train[5].reshape(1, 32, 32, 1)\n",
    "\n",
    "plt.figure(figsize=(10, 5))\n",
    "\n",
    "# First plot: Original sample\n",
    "plt.subplot(1, 2, 1)\n",
    "plt.imshow(sample.reshape(32, 32), cmap='gray')\n",
    "plt.title('Original Sample')\n",
    "\n",
    "# Second plot: Attention map\n",
    "attentions = model.compute_attention_map(sample)[0][0]\n",
    "print(attentions.shape)\n",
    "# numpy = np.mean(attentions.numpy(), axis=0)\n",
    "plt.subplot(1, 2, 2)\n",
    "plt.imshow(np.mean(numpy, axis=0).reshape(8, 8), cmap='viridis')\n",
    "plt.title('Attention Map')\n",
    "\n",
    "plt.show()"
   ]
  },
  {
   "cell_type": "code",
   "execution_count": null,
   "metadata": {},
   "outputs": [],
   "source": []
  },
  {
   "cell_type": "code",
   "execution_count": null,
   "metadata": {},
   "outputs": [],
   "source": []
  },
  {
   "cell_type": "code",
   "execution_count": null,
   "metadata": {},
   "outputs": [],
   "source": []
  },
  {
   "cell_type": "code",
   "execution_count": null,
   "metadata": {},
   "outputs": [],
   "source": []
  }
 ],
 "metadata": {
  "kernelspec": {
   "display_name": "tf",
   "language": "python",
   "name": "python3"
  },
  "language_info": {
   "codemirror_mode": {
    "name": "ipython",
    "version": 3
   },
   "file_extension": ".py",
   "mimetype": "text/x-python",
   "name": "python",
   "nbconvert_exporter": "python",
   "pygments_lexer": "ipython3",
   "version": "3.9.21"
  }
 },
 "nbformat": 4,
 "nbformat_minor": 2
}
